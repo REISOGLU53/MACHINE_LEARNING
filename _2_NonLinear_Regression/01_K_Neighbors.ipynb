{
 "cells": [
  {
   "cell_type": "markdown",
   "metadata": {},
   "source": [
    "# KNN"
   ]
  },
  {
   "cell_type": "code",
   "execution_count": 2,
   "metadata": {},
   "outputs": [],
   "source": [
    "import numpy as np\n",
    "import pandas as pd\n",
    "from sklearn.model_selection import train_test_split, GridSearchCV\n",
    "from sklearn.metrics import mean_squared_error, r2_score\n",
    "import matplotlib.pyplot as plt\n",
    "from sklearn.preprocessing import scale, StandardScaler\n",
    "from sklearn import model_selection\n",
    "from sklearn.linear_model import LinearRegression\n",
    "from sklearn.tree import DecisionTreeRegressor\n",
    "from sklearn.neighbors import KNeighborsRegressor\n",
    "from sklearn.neural_network import MLPRegressor\n",
    "from sklearn.ensemble import RandomForestRegressor\n",
    "from sklearn.ensemble import GradientBoostingRegressor\n",
    "from sklearn import neighbors\n",
    "from sklearn.svm import SVR"
   ]
  },
  {
   "cell_type": "code",
   "execution_count": 3,
   "metadata": {},
   "outputs": [],
   "source": [
    "from warnings import filterwarnings\n",
    "filterwarnings(\"ignore\")"
   ]
  },
  {
   "cell_type": "code",
   "execution_count": 6,
   "metadata": {},
   "outputs": [],
   "source": [
    "df = pd.read_csv(\"Hitters.csv\")\n",
    "df = df.dropna()\n",
    "dms = pd.get_dummies(df[[\"League\", \"Division\", \"NewLeague\"]])\n",
    "y = df[\"Salary\"]\n",
    "X_ = df.drop([\"Salary\", \"League\", \"Division\", \"NewLeague\"], axis=1).astype(\"float64\")\n",
    "X = pd.concat([X_, dms[[\"League_N\", \"Division_W\", \"NewLeague_N\"]]], axis=1)\n",
    "X_train, X_test, y_train, y_test = train_test_split(X,\n",
    "                                                    y,\n",
    "                                                    test_size=.25,\n",
    "                                                    random_state=42)"
   ]
  },
  {
   "cell_type": "code",
   "execution_count": 16,
   "metadata": {},
   "outputs": [
    {
     "name": "stdout",
     "output_type": "stream",
     "text": [
      "<class 'pandas.core.frame.DataFrame'>\n",
      "Int64Index: 197 entries, 183 to 133\n",
      "Data columns (total 19 columns):\n",
      " #   Column       Non-Null Count  Dtype  \n",
      "---  ------       --------------  -----  \n",
      " 0   AtBat        197 non-null    float64\n",
      " 1   Hits         197 non-null    float64\n",
      " 2   HmRun        197 non-null    float64\n",
      " 3   Runs         197 non-null    float64\n",
      " 4   RBI          197 non-null    float64\n",
      " 5   Walks        197 non-null    float64\n",
      " 6   Years        197 non-null    float64\n",
      " 7   CAtBat       197 non-null    float64\n",
      " 8   CHits        197 non-null    float64\n",
      " 9   CHmRun       197 non-null    float64\n",
      " 10  CRuns        197 non-null    float64\n",
      " 11  CRBI         197 non-null    float64\n",
      " 12  CWalks       197 non-null    float64\n",
      " 13  PutOuts      197 non-null    float64\n",
      " 14  Assists      197 non-null    float64\n",
      " 15  Errors       197 non-null    float64\n",
      " 16  League_N     197 non-null    uint8  \n",
      " 17  Division_W   197 non-null    uint8  \n",
      " 18  NewLeague_N  197 non-null    uint8  \n",
      "dtypes: float64(16), uint8(3)\n",
      "memory usage: 26.7 KB\n"
     ]
    }
   ],
   "source": [
    "X_train.info()"
   ]
  },
  {
   "cell_type": "code",
   "execution_count": null,
   "metadata": {},
   "outputs": [],
   "source": []
  },
  {
   "cell_type": "code",
   "execution_count": null,
   "metadata": {},
   "outputs": [],
   "source": []
  },
  {
   "cell_type": "markdown",
   "metadata": {},
   "source": [
    "### MODEL & MODEL"
   ]
  },
  {
   "cell_type": "code",
   "execution_count": 10,
   "metadata": {},
   "outputs": [],
   "source": [
    "knn_model = KNeighborsRegressor().fit(X_train, y_train)"
   ]
  },
  {
   "cell_type": "code",
   "execution_count": 12,
   "metadata": {
    "collapsed": true,
    "jupyter": {
     "outputs_hidden": true
    }
   },
   "outputs": [
    {
     "data": {
      "text/plain": [
       "['__abstractmethods__',\n",
       " '__class__',\n",
       " '__delattr__',\n",
       " '__dict__',\n",
       " '__dir__',\n",
       " '__doc__',\n",
       " '__eq__',\n",
       " '__format__',\n",
       " '__ge__',\n",
       " '__getattribute__',\n",
       " '__getstate__',\n",
       " '__gt__',\n",
       " '__hash__',\n",
       " '__init__',\n",
       " '__init_subclass__',\n",
       " '__le__',\n",
       " '__lt__',\n",
       " '__module__',\n",
       " '__ne__',\n",
       " '__new__',\n",
       " '__reduce__',\n",
       " '__reduce_ex__',\n",
       " '__repr__',\n",
       " '__setattr__',\n",
       " '__setstate__',\n",
       " '__sizeof__',\n",
       " '__str__',\n",
       " '__subclasshook__',\n",
       " '__weakref__',\n",
       " '_abc_impl',\n",
       " '_check_algorithm_metric',\n",
       " '_check_n_features',\n",
       " '_estimator_type',\n",
       " '_fit',\n",
       " '_fit_X',\n",
       " '_fit_method',\n",
       " '_get_param_names',\n",
       " '_get_tags',\n",
       " '_kneighbors_reduce_func',\n",
       " '_more_tags',\n",
       " '_pairwise',\n",
       " '_repr_html_',\n",
       " '_repr_html_inner',\n",
       " '_repr_mimebundle_',\n",
       " '_tree',\n",
       " '_validate_data',\n",
       " '_y',\n",
       " 'algorithm',\n",
       " 'effective_metric_',\n",
       " 'effective_metric_params_',\n",
       " 'fit',\n",
       " 'get_params',\n",
       " 'kneighbors',\n",
       " 'kneighbors_graph',\n",
       " 'leaf_size',\n",
       " 'metric',\n",
       " 'metric_params',\n",
       " 'n_features_in_',\n",
       " 'n_jobs',\n",
       " 'n_neighbors',\n",
       " 'n_samples_fit_',\n",
       " 'p',\n",
       " 'predict',\n",
       " 'radius',\n",
       " 'score',\n",
       " 'set_params',\n",
       " 'weights']"
      ]
     },
     "execution_count": 12,
     "metadata": {},
     "output_type": "execute_result"
    }
   ],
   "source": [
    "dir(knn_model)"
   ]
  },
  {
   "cell_type": "code",
   "execution_count": 17,
   "metadata": {},
   "outputs": [
    {
     "data": {
      "text/plain": [
       "array([ 510.3334,  808.3334,  772.5   ,  125.5   , 1005.    ,  325.5   ,\n",
       "        216.5   ,  101.5   ,  982.    ,  886.6666,  590.    ,  901.6666,\n",
       "        831.6666,  157.5   ,  393.    , 1005.    ,  735.5   ,   97.    ,\n",
       "        884.4   ,  302.    ,  450.    ,  817.6666,  832.6666,  392.3334,\n",
       "        528.    ,   81.6   ,  735.    ,  470.    ,  722.5   ,  101.    ,\n",
       "         90.5   ,   74.6   ,  748.3334,  217.    ,  280.5334, 1044.5   ,\n",
       "        955.    ,  232.    ,   78.6   ,  529.    ,   77.6   ,  106.5   ,\n",
       "        516.6666,  593.6666, 1005.    ,  649.1666,  715.    ,  101.5   ,\n",
       "        134.5   ,  810.    ,  743.    ,  521.3334,  664.3334,  195.    ,\n",
       "        102.4   ,  728.5   ,  488.    ,  962.5   ,  230.8334, 1040.    ,\n",
       "        885.    ,  542.    ,  720.4   ,  571.    ,  735.    ,   81.6   ])"
      ]
     },
     "execution_count": 17,
     "metadata": {},
     "output_type": "execute_result"
    }
   ],
   "source": [
    "y_pred = knn_model.predict(X_test)\n",
    "y_pred"
   ]
  },
  {
   "cell_type": "code",
   "execution_count": 19,
   "metadata": {},
   "outputs": [
    {
     "data": {
      "text/plain": [
       "426.6570764525201"
      ]
     },
     "execution_count": 19,
     "metadata": {},
     "output_type": "execute_result"
    }
   ],
   "source": [
    "RMSE = np.sqrt(mean_squared_error(y_test, y_pred))\n",
    "RMSE"
   ]
  },
  {
   "cell_type": "markdown",
   "metadata": {},
   "source": [
    "### MODEL TUNING"
   ]
  },
  {
   "cell_type": "code",
   "execution_count": 22,
   "metadata": {
    "collapsed": true,
    "jupyter": {
     "outputs_hidden": true
    }
   },
   "outputs": [
    {
     "data": {
      "text/plain": [
       "[455.03925390751965,\n",
       " 415.99629571490965,\n",
       " 420.6765370082348,\n",
       " 428.8564674588792,\n",
       " 426.6570764525201,\n",
       " 423.5071669008732,\n",
       " 414.9361222421057,\n",
       " 413.7094731463598,\n",
       " 417.84419990871265,\n",
       " 421.6252180741266,\n",
       " 425.32356114758335,\n",
       " 427.55166827728755,\n",
       " 433.38660621123563,\n",
       " 431.1996979088877,\n",
       " 433.82362418875744,\n",
       " 437.17725576521354,\n",
       " 435.7774833343415,\n",
       " 438.1270242871465,\n",
       " 443.5164172646945,\n",
       " 439.99677941119586,\n",
       " 432.8621874376963,\n",
       " 429.6442608138743,\n",
       " 430.51494520326924,\n",
       " 430.8423998443682,\n",
       " 430.3394502245506,\n",
       " 427.6988019272701,\n",
       " 425.2087796018491,\n",
       " 426.2337111131765,\n",
       " 425.52046696934565,\n",
       " 425.91290021417433,\n",
       " 427.014082049554,\n",
       " 425.4498838814169,\n",
       " 423.91773051864845,\n",
       " 422.1717421199587,\n",
       " 420.31235970496095,\n",
       " 422.1068929363204,\n",
       " 423.3005383323169,\n",
       " 423.3928353110623,\n",
       " 423.60979319978,\n",
       " 421.8760026571793,\n",
       " 419.87831673626675,\n",
       " 419.5726949375753,\n",
       " 419.68170881647836,\n",
       " 419.5254707672875,\n",
       " 419.32866211449607,\n",
       " 418.2854007286153,\n",
       " 418.8412186848561,\n",
       " 418.0059326458897,\n",
       " 418.4658703584224,\n",
       " 417.18116386666026,\n",
       " 417.00164243033953,\n",
       " 417.5832478823874,\n",
       " 417.82660649348304,\n",
       " 419.25483319366333,\n",
       " 418.497516615547,\n",
       " 418.8810373096642,\n",
       " 418.6556569533759,\n",
       " 417.41886606000975,\n",
       " 417.90064170232813,\n",
       " 418.6691930037661,\n",
       " 418.7296648963563,\n",
       " 419.64116837464246,\n",
       " 419.43587097569673,\n",
       " 419.15837896928974,\n",
       " 419.2556614079635,\n",
       " 419.4306612588739,\n",
       " 419.0635923879084,\n",
       " 418.024717542406,\n",
       " 418.13970057234025,\n",
       " 417.594196019918,\n",
       " 416.77387689273866,\n",
       " 416.66278334748415,\n",
       " 416.82845085848476,\n",
       " 416.5487982850376,\n",
       " 415.92699834198766,\n",
       " 415.80962006406605,\n",
       " 415.4188714834218,\n",
       " 414.47160193398906,\n",
       " 414.1557835121961,\n",
       " 415.3915373546215,\n",
       " 415.4350731785998,\n",
       " 414.68429741506685,\n",
       " 413.8096444357626,\n",
       " 414.22289726753223,\n",
       " 413.88851884564536,\n",
       " 413.98114401970656,\n",
       " 413.74091201774456,\n",
       " 412.1128942041685,\n",
       " 412.4227098637477,\n",
       " 412.3219861641627,\n",
       " 412.7028804664427,\n",
       " 413.62286469827075,\n",
       " 413.6487241618866,\n",
       " 413.73903384409607,\n",
       " 413.54631667009113,\n",
       " 413.74918891701765,\n",
       " 413.6465583406553,\n",
       " 412.90374119819865,\n",
       " 412.6920622088266]"
      ]
     },
     "execution_count": 22,
     "metadata": {},
     "output_type": "execute_result"
    }
   ],
   "source": [
    "RMSE_ = list()\n",
    "\n",
    "for i in range(1, 100):\n",
    "    knn_model = KNeighborsRegressor(n_neighbors=i).fit(X_train, y_train)\n",
    "    y_pred = knn_model.predict(X_test)\n",
    "    RMSE_.append(np.sqrt(mean_squared_error(y_test, y_pred)))\n",
    "RMSE_"
   ]
  },
  {
   "cell_type": "markdown",
   "metadata": {},
   "source": [
    "### GRIDSEARCHCV"
   ]
  },
  {
   "cell_type": "code",
   "execution_count": 33,
   "metadata": {},
   "outputs": [],
   "source": [
    "knn_params = {\"n_neighbors\": np.arange(1, 30, 1)}"
   ]
  },
  {
   "cell_type": "code",
   "execution_count": 34,
   "metadata": {},
   "outputs": [],
   "source": [
    "knn_model_ = KNeighborsRegressor()"
   ]
  },
  {
   "cell_type": "code",
   "execution_count": 35,
   "metadata": {},
   "outputs": [],
   "source": [
    "knn_cv_model = GridSearchCV(knn_model_, knn_params, cv=10).fit(X_train, y_train)"
   ]
  },
  {
   "cell_type": "code",
   "execution_count": 36,
   "metadata": {},
   "outputs": [
    {
     "data": {
      "text/plain": [
       "{'n_neighbors': 8}"
      ]
     },
     "execution_count": 36,
     "metadata": {},
     "output_type": "execute_result"
    }
   ],
   "source": [
    "knn_cv_model.best_params_"
   ]
  },
  {
   "cell_type": "markdown",
   "metadata": {},
   "source": [
    "### FINAL"
   ]
  },
  {
   "cell_type": "code",
   "execution_count": 45,
   "metadata": {},
   "outputs": [],
   "source": [
    "knn_tuned = KNeighborsRegressor(n_neighbors=knn_cv_model.best_params_[\"n_neighbors\"]).fit(X_train, y_train)"
   ]
  },
  {
   "cell_type": "code",
   "execution_count": 46,
   "metadata": {},
   "outputs": [
    {
     "data": {
      "text/plain": [
       "array([ 624.583375,  812.083375,  846.25    ,  155.3125  ,  850.      ,\n",
       "        310.9375  ,  215.3125  ,  125.5625  ,  751.875   ,  981.25    ,\n",
       "        634.0625  ,  878.541625,  963.541625,  155.3125  ,  390.625   ,\n",
       "        850.      ,  765.9375  ,   93.4375  ,  894.416625,  313.75    ,\n",
       "        609.583375,  704.166625,  702.5     ,  481.145875,  469.0625  ,\n",
       "         80.375   ,  915.696375,  418.75    ,  574.6875  ,   95.      ,\n",
       "         92.1875  ,   73.8125  ,  638.333375,  229.375   ,  263.458375,\n",
       "       1204.446375,  981.25    ,  230.625   ,   75.6875  ,  633.75    ,\n",
       "         77.875   ,  115.5625  ,  660.416625,  565.729125,  861.875   ,\n",
       "        685.9375  ,  850.      ,  107.8125  ,  155.3125  ,  704.375   ,\n",
       "        706.25    ,  699.583375,  713.645875,  197.5     ,  111.5     ,\n",
       "        738.4375  ,  691.666625,  843.229125,  188.270875,  987.5     ,\n",
       "        981.25    ,  505.      ,  840.875   ,  566.875   ,  787.5     ,\n",
       "         86.625   ])"
      ]
     },
     "execution_count": 46,
     "metadata": {},
     "output_type": "execute_result"
    }
   ],
   "source": [
    "y_pred_ = knn_tuned.predict(X_test)\n",
    "y_pred_"
   ]
  },
  {
   "cell_type": "code",
   "execution_count": 47,
   "metadata": {},
   "outputs": [
    {
     "data": {
      "text/plain": [
       "413.7094731463598"
      ]
     },
     "execution_count": 47,
     "metadata": {},
     "output_type": "execute_result"
    }
   ],
   "source": [
    "np.sqrt(mean_squared_error(y_test, y_pred_))"
   ]
  },
  {
   "cell_type": "code",
   "execution_count": null,
   "metadata": {},
   "outputs": [],
   "source": []
  }
 ],
 "metadata": {
  "kernelspec": {
   "display_name": "Python 3",
   "language": "python",
   "name": "python3"
  },
  "language_info": {
   "codemirror_mode": {
    "name": "ipython",
    "version": 3
   },
   "file_extension": ".py",
   "mimetype": "text/x-python",
   "name": "python",
   "nbconvert_exporter": "python",
   "pygments_lexer": "ipython3",
   "version": "3.8.3"
  }
 },
 "nbformat": 4,
 "nbformat_minor": 4
}
