{
 "cells": [
  {
   "cell_type": "markdown",
   "metadata": {},
   "source": [
    "# Artificial Neural Network"
   ]
  },
  {
   "cell_type": "code",
   "execution_count": 1,
   "metadata": {},
   "outputs": [],
   "source": [
    "import numpy as np\n",
    "import pandas as pd\n",
    "import statsmodels.api as sm\n",
    "import seaborn as sns\n",
    "import matplotlib.pyplot as plt\n",
    "from sklearn.preprocessing import scale, StandardScaler\n",
    "from sklearn.model_selection import train_test_split, GridSearchCV, cross_val_score\n",
    "from sklearn.metrics import confusion_matrix, accuracy_score, mean_squared_error, r2_score, roc_auc_score, roc_curve, classification_report\n",
    "from sklearn.linear_model import LogisticRegression\n",
    "from sklearn.neighbors import KNeighborsClassifier\n",
    "from sklearn.svm import SVC\n",
    "from sklearn.neural_network import MLPClassifier\n",
    "from sklearn.tree import DecisionTreeClassifier\n",
    "from sklearn.ensemble import RandomForestClassifier\n",
    "from sklearn.ensemble import GradientBoostingClassifier\n"
   ]
  },
  {
   "cell_type": "code",
   "execution_count": 2,
   "metadata": {},
   "outputs": [],
   "source": [
    "import warnings\n",
    "warnings.filterwarnings(\"ignore\", category=DeprecationWarning)\n",
    "warnings.filterwarnings(\"ignore\", category=FutureWarning)"
   ]
  },
  {
   "cell_type": "markdown",
   "metadata": {},
   "source": [
    "### DATASET"
   ]
  },
  {
   "cell_type": "code",
   "execution_count": 3,
   "metadata": {},
   "outputs": [],
   "source": [
    "df = pd.read_csv(\"C://Users//ertug//Desktop//Machine_Learning_Courses//_3_Classification//diabetes.csv//diabetes.csv\")"
   ]
  },
  {
   "cell_type": "code",
   "execution_count": 4,
   "metadata": {},
   "outputs": [
    {
     "data": {
      "text/html": [
       "<div>\n",
       "<style scoped>\n",
       "    .dataframe tbody tr th:only-of-type {\n",
       "        vertical-align: middle;\n",
       "    }\n",
       "\n",
       "    .dataframe tbody tr th {\n",
       "        vertical-align: top;\n",
       "    }\n",
       "\n",
       "    .dataframe thead th {\n",
       "        text-align: right;\n",
       "    }\n",
       "</style>\n",
       "<table border=\"1\" class=\"dataframe\">\n",
       "  <thead>\n",
       "    <tr style=\"text-align: right;\">\n",
       "      <th></th>\n",
       "      <th>Pregnancies</th>\n",
       "      <th>Glucose</th>\n",
       "      <th>BloodPressure</th>\n",
       "      <th>SkinThickness</th>\n",
       "      <th>Insulin</th>\n",
       "      <th>BMI</th>\n",
       "      <th>DiabetesPedigreeFunction</th>\n",
       "      <th>Age</th>\n",
       "      <th>Outcome</th>\n",
       "    </tr>\n",
       "  </thead>\n",
       "  <tbody>\n",
       "    <tr>\n",
       "      <th>0</th>\n",
       "      <td>6</td>\n",
       "      <td>148</td>\n",
       "      <td>72</td>\n",
       "      <td>35</td>\n",
       "      <td>0</td>\n",
       "      <td>33.6</td>\n",
       "      <td>0.627</td>\n",
       "      <td>50</td>\n",
       "      <td>1</td>\n",
       "    </tr>\n",
       "    <tr>\n",
       "      <th>1</th>\n",
       "      <td>1</td>\n",
       "      <td>85</td>\n",
       "      <td>66</td>\n",
       "      <td>29</td>\n",
       "      <td>0</td>\n",
       "      <td>26.6</td>\n",
       "      <td>0.351</td>\n",
       "      <td>31</td>\n",
       "      <td>0</td>\n",
       "    </tr>\n",
       "    <tr>\n",
       "      <th>2</th>\n",
       "      <td>8</td>\n",
       "      <td>183</td>\n",
       "      <td>64</td>\n",
       "      <td>0</td>\n",
       "      <td>0</td>\n",
       "      <td>23.3</td>\n",
       "      <td>0.672</td>\n",
       "      <td>32</td>\n",
       "      <td>1</td>\n",
       "    </tr>\n",
       "    <tr>\n",
       "      <th>3</th>\n",
       "      <td>1</td>\n",
       "      <td>89</td>\n",
       "      <td>66</td>\n",
       "      <td>23</td>\n",
       "      <td>94</td>\n",
       "      <td>28.1</td>\n",
       "      <td>0.167</td>\n",
       "      <td>21</td>\n",
       "      <td>0</td>\n",
       "    </tr>\n",
       "    <tr>\n",
       "      <th>4</th>\n",
       "      <td>0</td>\n",
       "      <td>137</td>\n",
       "      <td>40</td>\n",
       "      <td>35</td>\n",
       "      <td>168</td>\n",
       "      <td>43.1</td>\n",
       "      <td>2.288</td>\n",
       "      <td>33</td>\n",
       "      <td>1</td>\n",
       "    </tr>\n",
       "  </tbody>\n",
       "</table>\n",
       "</div>"
      ],
      "text/plain": [
       "   Pregnancies  Glucose  BloodPressure  SkinThickness  Insulin   BMI  \\\n",
       "0            6      148             72             35        0  33.6   \n",
       "1            1       85             66             29        0  26.6   \n",
       "2            8      183             64              0        0  23.3   \n",
       "3            1       89             66             23       94  28.1   \n",
       "4            0      137             40             35      168  43.1   \n",
       "\n",
       "   DiabetesPedigreeFunction  Age  Outcome  \n",
       "0                     0.627   50        1  \n",
       "1                     0.351   31        0  \n",
       "2                     0.672   32        1  \n",
       "3                     0.167   21        0  \n",
       "4                     2.288   33        1  "
      ]
     },
     "execution_count": 4,
     "metadata": {},
     "output_type": "execute_result"
    }
   ],
   "source": [
    "df.head()"
   ]
  },
  {
   "cell_type": "code",
   "execution_count": 5,
   "metadata": {},
   "outputs": [],
   "source": [
    "y = df[\"Outcome\"]"
   ]
  },
  {
   "cell_type": "code",
   "execution_count": 6,
   "metadata": {},
   "outputs": [],
   "source": [
    "X = df.drop([\"Outcome\"], axis=1)"
   ]
  },
  {
   "cell_type": "code",
   "execution_count": 7,
   "metadata": {},
   "outputs": [],
   "source": [
    "X_train, X_test, y_train, y_test = train_test_split(X,\n",
    "                                                    y, \n",
    "                                                    test_size=.3,\n",
    "                                                    random_state=42)"
   ]
  },
  {
   "cell_type": "code",
   "execution_count": 8,
   "metadata": {},
   "outputs": [],
   "source": [
    "X_Scaled_Train = StandardScaler().fit(X_train).transform(X_train)"
   ]
  },
  {
   "cell_type": "code",
   "execution_count": 9,
   "metadata": {},
   "outputs": [],
   "source": [
    "X_Scaled_Test = StandardScaler().fit(X_test).transform(X_test)"
   ]
  },
  {
   "cell_type": "markdown",
   "metadata": {},
   "source": [
    "### Model & Training"
   ]
  },
  {
   "cell_type": "code",
   "execution_count": 10,
   "metadata": {},
   "outputs": [],
   "source": [
    "mlpc_model = MLPClassifier(max_iter=10000).fit(X_Scaled_Train, y_train)"
   ]
  },
  {
   "cell_type": "code",
   "execution_count": 11,
   "metadata": {
    "collapsed": true,
    "jupyter": {
     "outputs_hidden": true
    }
   },
   "outputs": [
    {
     "data": {
      "text/plain": [
       "\u001b[1;31mType:\u001b[0m        MLPClassifier\n",
       "\u001b[1;31mString form:\u001b[0m MLPClassifier(max_iter=10000)\n",
       "\u001b[1;31mFile:\u001b[0m        c:\\users\\ertug\\anaconda3\\lib\\site-packages\\sklearn\\neural_network\\_multilayer_perceptron.py\n",
       "\u001b[1;31mDocstring:\u001b[0m  \n",
       "Multi-layer Perceptron classifier.\n",
       "\n",
       "This model optimizes the log-loss function using LBFGS or stochastic\n",
       "gradient descent.\n",
       "\n",
       ".. versionadded:: 0.18\n",
       "\n",
       "Parameters\n",
       "----------\n",
       "hidden_layer_sizes : tuple, length = n_layers - 2, default=(100,)\n",
       "    The ith element represents the number of neurons in the ith\n",
       "    hidden layer.\n",
       "\n",
       "activation : {'identity', 'logistic', 'tanh', 'relu'}, default='relu'\n",
       "    Activation function for the hidden layer.\n",
       "\n",
       "    - 'identity', no-op activation, useful to implement linear bottleneck,\n",
       "      returns f(x) = x\n",
       "\n",
       "    - 'logistic', the logistic sigmoid function,\n",
       "      returns f(x) = 1 / (1 + exp(-x)).\n",
       "\n",
       "    - 'tanh', the hyperbolic tan function,\n",
       "      returns f(x) = tanh(x).\n",
       "\n",
       "    - 'relu', the rectified linear unit function,\n",
       "      returns f(x) = max(0, x)\n",
       "\n",
       "solver : {'lbfgs', 'sgd', 'adam'}, default='adam'\n",
       "    The solver for weight optimization.\n",
       "\n",
       "    - 'lbfgs' is an optimizer in the family of quasi-Newton methods.\n",
       "\n",
       "    - 'sgd' refers to stochastic gradient descent.\n",
       "\n",
       "    - 'adam' refers to a stochastic gradient-based optimizer proposed\n",
       "      by Kingma, Diederik, and Jimmy Ba\n",
       "\n",
       "    Note: The default solver 'adam' works pretty well on relatively\n",
       "    large datasets (with thousands of training samples or more) in terms of\n",
       "    both training time and validation score.\n",
       "    For small datasets, however, 'lbfgs' can converge faster and perform\n",
       "    better.\n",
       "\n",
       "alpha : float, default=0.0001\n",
       "    L2 penalty (regularization term) parameter.\n",
       "\n",
       "batch_size : int, default='auto'\n",
       "    Size of minibatches for stochastic optimizers.\n",
       "    If the solver is 'lbfgs', the classifier will not use minibatch.\n",
       "    When set to \"auto\", `batch_size=min(200, n_samples)`\n",
       "\n",
       "learning_rate : {'constant', 'invscaling', 'adaptive'}, default='constant'\n",
       "    Learning rate schedule for weight updates.\n",
       "\n",
       "    - 'constant' is a constant learning rate given by\n",
       "      'learning_rate_init'.\n",
       "\n",
       "    - 'invscaling' gradually decreases the learning rate at each\n",
       "      time step 't' using an inverse scaling exponent of 'power_t'.\n",
       "      effective_learning_rate = learning_rate_init / pow(t, power_t)\n",
       "\n",
       "    - 'adaptive' keeps the learning rate constant to\n",
       "      'learning_rate_init' as long as training loss keeps decreasing.\n",
       "      Each time two consecutive epochs fail to decrease training loss by at\n",
       "      least tol, or fail to increase validation score by at least tol if\n",
       "      'early_stopping' is on, the current learning rate is divided by 5.\n",
       "\n",
       "    Only used when ``solver='sgd'``.\n",
       "\n",
       "learning_rate_init : double, default=0.001\n",
       "    The initial learning rate used. It controls the step-size\n",
       "    in updating the weights. Only used when solver='sgd' or 'adam'.\n",
       "\n",
       "power_t : double, default=0.5\n",
       "    The exponent for inverse scaling learning rate.\n",
       "    It is used in updating effective learning rate when the learning_rate\n",
       "    is set to 'invscaling'. Only used when solver='sgd'.\n",
       "\n",
       "max_iter : int, default=200\n",
       "    Maximum number of iterations. The solver iterates until convergence\n",
       "    (determined by 'tol') or this number of iterations. For stochastic\n",
       "    solvers ('sgd', 'adam'), note that this determines the number of epochs\n",
       "    (how many times each data point will be used), not the number of\n",
       "    gradient steps.\n",
       "\n",
       "shuffle : bool, default=True\n",
       "    Whether to shuffle samples in each iteration. Only used when\n",
       "    solver='sgd' or 'adam'.\n",
       "\n",
       "random_state : int, RandomState instance, default=None\n",
       "    Determines random number generation for weights and bias\n",
       "    initialization, train-test split if early stopping is used, and batch\n",
       "    sampling when solver='sgd' or 'adam'.\n",
       "    Pass an int for reproducible results across multiple function calls.\n",
       "    See :term:`Glossary <random_state>`.\n",
       "\n",
       "tol : float, default=1e-4\n",
       "    Tolerance for the optimization. When the loss or score is not improving\n",
       "    by at least ``tol`` for ``n_iter_no_change`` consecutive iterations,\n",
       "    unless ``learning_rate`` is set to 'adaptive', convergence is\n",
       "    considered to be reached and training stops.\n",
       "\n",
       "verbose : bool, default=False\n",
       "    Whether to print progress messages to stdout.\n",
       "\n",
       "warm_start : bool, default=False\n",
       "    When set to True, reuse the solution of the previous\n",
       "    call to fit as initialization, otherwise, just erase the\n",
       "    previous solution. See :term:`the Glossary <warm_start>`.\n",
       "\n",
       "momentum : float, default=0.9\n",
       "    Momentum for gradient descent update. Should be between 0 and 1. Only\n",
       "    used when solver='sgd'.\n",
       "\n",
       "nesterovs_momentum : boolean, default=True\n",
       "    Whether to use Nesterov's momentum. Only used when solver='sgd' and\n",
       "    momentum > 0.\n",
       "\n",
       "early_stopping : bool, default=False\n",
       "    Whether to use early stopping to terminate training when validation\n",
       "    score is not improving. If set to true, it will automatically set\n",
       "    aside 10% of training data as validation and terminate training when\n",
       "    validation score is not improving by at least tol for\n",
       "    ``n_iter_no_change`` consecutive epochs. The split is stratified,\n",
       "    except in a multilabel setting.\n",
       "    Only effective when solver='sgd' or 'adam'\n",
       "\n",
       "validation_fraction : float, default=0.1\n",
       "    The proportion of training data to set aside as validation set for\n",
       "    early stopping. Must be between 0 and 1.\n",
       "    Only used if early_stopping is True\n",
       "\n",
       "beta_1 : float, default=0.9\n",
       "    Exponential decay rate for estimates of first moment vector in adam,\n",
       "    should be in [0, 1). Only used when solver='adam'\n",
       "\n",
       "beta_2 : float, default=0.999\n",
       "    Exponential decay rate for estimates of second moment vector in adam,\n",
       "    should be in [0, 1). Only used when solver='adam'\n",
       "\n",
       "epsilon : float, default=1e-8\n",
       "    Value for numerical stability in adam. Only used when solver='adam'\n",
       "\n",
       "n_iter_no_change : int, default=10\n",
       "    Maximum number of epochs to not meet ``tol`` improvement.\n",
       "    Only effective when solver='sgd' or 'adam'\n",
       "\n",
       "    .. versionadded:: 0.20\n",
       "\n",
       "max_fun : int, default=15000\n",
       "    Only used when solver='lbfgs'. Maximum number of loss function calls.\n",
       "    The solver iterates until convergence (determined by 'tol'), number\n",
       "    of iterations reaches max_iter, or this number of loss function calls.\n",
       "    Note that number of loss function calls will be greater than or equal\n",
       "    to the number of iterations for the `MLPClassifier`.\n",
       "\n",
       "    .. versionadded:: 0.22\n",
       "\n",
       "Attributes\n",
       "----------\n",
       "classes_ : ndarray or list of ndarray of shape (n_classes,)\n",
       "    Class labels for each output.\n",
       "\n",
       "loss_ : float\n",
       "    The current loss computed with the loss function.\n",
       "\n",
       "coefs_ : list, length n_layers - 1\n",
       "    The ith element in the list represents the weight matrix corresponding\n",
       "    to layer i.\n",
       "\n",
       "intercepts_ : list, length n_layers - 1\n",
       "    The ith element in the list represents the bias vector corresponding to\n",
       "    layer i + 1.\n",
       "\n",
       "n_iter_ : int,\n",
       "    The number of iterations the solver has ran.\n",
       "\n",
       "n_layers_ : int\n",
       "    Number of layers.\n",
       "\n",
       "n_outputs_ : int\n",
       "    Number of outputs.\n",
       "\n",
       "out_activation_ : string\n",
       "    Name of the output activation function.\n",
       "\n",
       "\n",
       "Examples\n",
       "--------\n",
       ">>> from sklearn.neural_network import MLPClassifier\n",
       ">>> from sklearn.datasets import make_classification\n",
       ">>> from sklearn.model_selection import train_test_split\n",
       ">>> X, y = make_classification(n_samples=100, random_state=1)\n",
       ">>> X_train, X_test, y_train, y_test = train_test_split(X, y, stratify=y,\n",
       "...                                                     random_state=1)\n",
       ">>> clf = MLPClassifier(random_state=1, max_iter=300).fit(X_train, y_train)\n",
       ">>> clf.predict_proba(X_test[:1])\n",
       "array([[0.038..., 0.961...]])\n",
       ">>> clf.predict(X_test[:5, :])\n",
       "array([1, 0, 1, 0, 1])\n",
       ">>> clf.score(X_test, y_test)\n",
       "0.8...\n",
       "\n",
       "Notes\n",
       "-----\n",
       "MLPClassifier trains iteratively since at each time step\n",
       "the partial derivatives of the loss function with respect to the model\n",
       "parameters are computed to update the parameters.\n",
       "\n",
       "It can also have a regularization term added to the loss function\n",
       "that shrinks model parameters to prevent overfitting.\n",
       "\n",
       "This implementation works with data represented as dense numpy arrays or\n",
       "sparse scipy arrays of floating point values.\n",
       "\n",
       "References\n",
       "----------\n",
       "Hinton, Geoffrey E.\n",
       "    \"Connectionist learning procedures.\" Artificial intelligence 40.1\n",
       "    (1989): 185-234.\n",
       "\n",
       "Glorot, Xavier, and Yoshua Bengio. \"Understanding the difficulty of\n",
       "    training deep feedforward neural networks.\" International Conference\n",
       "    on Artificial Intelligence and Statistics. 2010.\n",
       "\n",
       "He, Kaiming, et al. \"Delving deep into rectifiers: Surpassing human-level\n",
       "    performance on imagenet classification.\" arXiv preprint\n",
       "    arXiv:1502.01852 (2015).\n",
       "\n",
       "Kingma, Diederik, and Jimmy Ba. \"Adam: A method for stochastic\n",
       "    optimization.\" arXiv preprint arXiv:1412.6980 (2014).\n"
      ]
     },
     "metadata": {},
     "output_type": "display_data"
    }
   ],
   "source": [
    "?mlpc_model"
   ]
  },
  {
   "cell_type": "code",
   "execution_count": 12,
   "metadata": {
    "collapsed": true,
    "jupyter": {
     "outputs_hidden": true
    }
   },
   "outputs": [
    {
     "data": {
      "text/plain": [
       "[array([[-8.35145403e-01, -5.08236903e-02, -4.42733294e-01,\n",
       "         -4.27809831e-01, -9.79657224e-01, -7.80013640e-01,\n",
       "         -2.73176113e-01,  4.94600321e-01, -4.70442542e-01,\n",
       "          1.07288242e-02,  3.26727257e-02, -3.70080310e-01,\n",
       "          2.15321383e-01,  9.61918921e-01,  1.09837216e-01,\n",
       "          1.73926483e-01, -5.83829781e-01, -3.18524510e-01,\n",
       "         -4.81432511e-01, -3.04089276e-01,  6.73724774e-02,\n",
       "          4.95420173e-02, -1.25692177e-01,  6.69832903e-03,\n",
       "         -3.74356743e-01, -7.85686141e-01, -9.40626887e-01,\n",
       "          2.76890844e-01,  8.28031893e-01,  1.65963506e-01,\n",
       "          1.61733755e-02, -8.98964456e-01,  2.24391352e-03,\n",
       "          9.45006682e-02,  4.67272036e-01, -9.90471784e-01,\n",
       "          4.56243396e-01, -2.61618384e-01, -2.49376331e-01,\n",
       "         -2.60904781e-01,  2.81496726e-01,  2.00169888e-01,\n",
       "          1.12705209e-01, -3.09833030e-01,  5.62472488e-01,\n",
       "          1.58897339e-01,  5.32514094e-01,  4.11250569e-01,\n",
       "          5.17094087e-01, -4.79826252e-01,  4.05993990e-02,\n",
       "          2.95309022e-01,  5.04578808e-01,  7.24402899e-01,\n",
       "         -3.99827363e-01, -5.44652108e-01,  4.28013064e-01,\n",
       "          1.73787232e-01, -4.17219331e-01,  3.83688707e-01,\n",
       "          7.26992895e-01,  1.07479326e+00,  5.55888824e-01,\n",
       "         -6.71269163e-01,  1.94103834e-01, -1.58363686e+00,\n",
       "          7.77760163e-01,  5.98673898e-01, -1.17457700e+00,\n",
       "          3.70681131e-01, -4.17607214e-01, -5.18809207e-01,\n",
       "         -1.15809246e+00,  3.24983238e-01,  1.04450452e+00,\n",
       "          1.97459333e-01,  8.21245847e-01, -3.09809365e-01,\n",
       "         -3.65913063e-01,  1.64656601e-01, -8.88293485e-01,\n",
       "          3.65396141e-01,  2.00649146e-01, -3.32437895e-01,\n",
       "          7.14480500e-01,  5.32254769e-01,  6.26470786e-02,\n",
       "          7.01330888e-02, -8.55275903e-01, -1.26768310e+00,\n",
       "          5.28846794e-01,  4.82755127e-01,  1.50729903e-02,\n",
       "          1.64865362e-01,  9.61588166e-02,  7.45178213e-01,\n",
       "         -7.43244794e-01, -5.22356156e-01, -3.74482977e-01,\n",
       "         -5.58329897e-01],\n",
       "        [-6.31180076e-02, -7.76235480e-01,  2.11711084e-02,\n",
       "         -1.40005056e-01,  3.86134079e-01, -3.30396967e-01,\n",
       "         -2.69257614e-01,  4.60339810e-01, -5.79358489e-01,\n",
       "          8.51687199e-02, -5.60833573e-01, -2.29420849e-01,\n",
       "          5.61956583e-01,  6.57245550e-01,  9.49047876e-01,\n",
       "         -6.39596714e-01,  3.96036122e-01,  3.30685416e-01,\n",
       "          7.51917366e-01, -1.64850411e+00, -6.60919068e-01,\n",
       "         -3.33415822e-01, -3.44991127e-01,  6.41082423e-01,\n",
       "          2.47716233e-01,  5.17146556e-01,  3.15095457e-01,\n",
       "          2.11334445e-01,  6.35461468e-01,  4.41600051e-01,\n",
       "          7.49448164e-01, -4.75897423e-02,  1.26958423e-01,\n",
       "          1.07730549e+00, -1.27306302e+00,  7.25844433e-01,\n",
       "          1.58657766e-01,  7.78368696e-01, -6.54913045e-01,\n",
       "          6.82389463e-01, -8.14275222e-02, -7.31417221e-01,\n",
       "         -1.85199546e-01,  1.93212581e-01,  5.54459149e-01,\n",
       "         -7.51302999e-02,  3.66481299e-01, -1.34251880e-01,\n",
       "         -4.98571453e-01, -8.28909269e-01,  2.49934648e-01,\n",
       "          2.86387831e-01, -7.17768948e-01,  1.85688880e+00,\n",
       "          7.15564968e-01, -4.11429895e-01, -6.83130727e-01,\n",
       "          1.66520746e-01,  2.19436064e-01,  5.63032402e-02,\n",
       "          7.43835325e-01,  3.89896999e-01, -9.06061002e-01,\n",
       "          8.43788289e-03, -2.35482833e-01,  5.36374656e-02,\n",
       "          2.94717713e-01,  2.47505647e-01, -1.78608535e-01,\n",
       "          2.68497517e-01,  3.82785176e-01,  6.87449884e-01,\n",
       "          2.16093472e-01,  4.45557750e-01,  9.64977649e-02,\n",
       "         -1.72278132e-01, -6.06716337e-03, -4.98014131e-01,\n",
       "          2.39836084e-01,  2.90207845e-01, -2.80483661e-01,\n",
       "         -5.40415090e-01, -1.29251861e-01,  5.72290637e-01,\n",
       "         -1.91243471e-02, -1.06345766e-03, -4.35076113e-01,\n",
       "          5.70128531e-01,  3.55838670e-01,  3.89419304e-02,\n",
       "         -2.49883509e-01,  4.32501156e-01, -7.35489521e-01,\n",
       "         -6.88930400e-01, -6.17536025e-02,  2.86028596e-01,\n",
       "          2.87979028e-01,  1.56768598e-01,  1.72620089e-01,\n",
       "         -1.32813741e+00],\n",
       "        [-4.87676481e-01,  3.83914687e-01, -1.34456117e-02,\n",
       "          4.24546070e-01,  7.40817534e-01,  4.50934058e-01,\n",
       "         -7.58012984e-01,  1.02384546e+00, -1.54448931e+00,\n",
       "          1.05893008e+00, -6.68747836e-02,  8.63288754e-01,\n",
       "         -9.69529583e-01, -6.38205610e-01,  5.43954248e-01,\n",
       "          1.19941259e+00,  1.21362090e+00,  1.92431930e-01,\n",
       "         -5.47685405e-01,  1.09005838e-01,  8.27433090e-01,\n",
       "         -2.59527892e-01,  3.25729744e-01,  4.07731684e-02,\n",
       "         -1.11673118e-01,  4.09211775e-01,  5.06140289e-01,\n",
       "         -6.20242835e-01,  4.07190798e-01, -3.08382009e-01,\n",
       "          1.47072757e-01,  1.80144471e-01,  8.67206290e-02,\n",
       "          1.11512939e+00, -8.72259117e-01,  4.06932199e-01,\n",
       "          1.02269532e-01, -7.14873492e-01,  6.93417809e-01,\n",
       "         -7.42371911e-01, -4.21002750e-02, -7.30961623e-02,\n",
       "          1.43971379e+00, -2.15606550e-01,  2.80775573e-01,\n",
       "          6.78697509e-02,  2.38932697e-01, -1.18208974e-01,\n",
       "         -2.23966615e-01,  2.27492316e-01,  2.87874991e-01,\n",
       "         -1.19962849e+00, -1.01699280e+00,  4.19227839e-01,\n",
       "         -7.31331656e-01,  3.60065912e-01, -3.26383659e-01,\n",
       "         -1.06348740e+00,  1.08823817e-01,  1.03684533e+00,\n",
       "         -1.57557347e-03, -9.50129900e-01, -3.41619237e-01,\n",
       "         -5.70967141e-02, -1.18100438e-01,  6.19425526e-01,\n",
       "          5.61894400e-01, -3.37247504e-01, -3.62761680e-01,\n",
       "         -8.25351626e-01,  2.61319162e-01, -6.07372049e-02,\n",
       "          7.58694194e-01,  5.65510054e-01,  7.35540904e-02,\n",
       "         -2.65715172e-01,  8.76998492e-01,  9.84498443e-01,\n",
       "         -5.02334809e-01,  2.40442596e-01, -2.42643632e-01,\n",
       "         -6.25815600e-01,  1.11962108e+00, -7.99826349e-02,\n",
       "          1.42795869e-01, -7.29400767e-01,  4.65088102e-01,\n",
       "          8.45882722e-01, -3.07562195e-01,  4.21926993e-01,\n",
       "          9.65285088e-01,  3.75028128e-01, -2.45342858e-02,\n",
       "          9.99382173e-02, -3.02224019e-01,  9.25098350e-02,\n",
       "         -9.51911642e-02, -7.45534226e-02, -6.77401322e-01,\n",
       "         -1.03953338e-01],\n",
       "        [ 9.25732540e-01, -3.47814521e-02,  9.32233668e-02,\n",
       "         -4.54115280e-01,  4.53889419e-01,  1.03586185e+00,\n",
       "          9.68587074e-02, -5.84766269e-01,  1.57407720e-01,\n",
       "         -2.42590827e-01, -1.35460389e-01, -3.13666985e-01,\n",
       "         -1.79169387e-01, -6.82531625e-01,  1.55162274e-01,\n",
       "          6.75312079e-01,  4.98201932e-01, -2.30153181e-01,\n",
       "          8.97186799e-02, -1.77716496e-03, -5.16225135e-01,\n",
       "         -4.87677125e-01,  4.69666042e-01, -7.22349095e-01,\n",
       "          5.80043813e-01,  8.04436140e-01,  7.75345064e-02,\n",
       "         -5.80369401e-02,  2.66147365e-01,  4.38846717e-02,\n",
       "          2.58604741e-03, -1.73094273e-01, -3.16868627e-01,\n",
       "          1.88189936e-01,  1.19601463e-01, -2.58846451e-01,\n",
       "         -1.00438805e-01,  7.06621502e-02, -9.30114919e-02,\n",
       "         -7.95736478e-01, -9.37190661e-01,  7.20175073e-01,\n",
       "          6.87808922e-01, -9.82462702e-01,  3.80715063e-01,\n",
       "         -5.18998483e-01, -8.46015177e-01,  3.01131862e-01,\n",
       "          5.74775897e-02, -4.16712515e-01,  8.51987813e-01,\n",
       "          1.37409115e-01,  5.48748245e-01, -8.30855634e-01,\n",
       "          4.36922513e-02, -6.60715026e-01, -9.29703013e-02,\n",
       "          3.84704917e-01,  5.56916140e-01, -3.60116281e-01,\n",
       "          4.97598274e-01, -6.67330085e-01,  2.64816440e-01,\n",
       "         -7.98437681e-01,  5.49373954e-02,  1.15806931e-01,\n",
       "          3.14997039e-01, -7.81005940e-01, -2.23391666e-01,\n",
       "         -5.67654774e-01,  5.98348110e-01, -2.75414017e-01,\n",
       "          4.20855838e-01, -5.00428228e-02,  7.77759048e-01,\n",
       "         -9.69045217e-01, -1.02635546e+00, -9.70066167e-01,\n",
       "          1.57847673e-01,  2.48094108e-01, -3.35945792e-01,\n",
       "          3.29606432e-01,  2.22952350e-01,  3.83704299e-02,\n",
       "          5.15907314e-01,  8.80935595e-01, -4.55395387e-01,\n",
       "          7.86551974e-02, -6.94169770e-01, -4.79758164e-01,\n",
       "          1.91067109e-01,  7.01468021e-01, -8.34978662e-01,\n",
       "         -1.10068223e+00,  6.07012157e-01, -3.99510922e-01,\n",
       "         -3.93612873e-01,  3.84795910e-01,  3.80838215e-01,\n",
       "          1.64313498e-01],\n",
       "        [ 3.28741838e-01, -2.65482063e-01, -4.60783257e-02,\n",
       "         -8.24267386e-01, -1.02148184e+00,  2.60351562e-01,\n",
       "         -1.11319217e+00, -4.26278572e-01,  2.22273301e-01,\n",
       "          8.63144988e-03, -5.56706471e-01,  6.02342768e-01,\n",
       "         -2.69459637e-01,  1.13841352e+00, -6.37633283e-01,\n",
       "          3.41274047e-01,  2.48337848e-01, -1.36058464e-01,\n",
       "         -3.44240524e-01,  5.32796235e-01,  1.13883801e-01,\n",
       "         -4.26178059e-02,  1.51329836e-01,  5.67682940e-01,\n",
       "         -3.82153750e-02, -5.43539245e-01,  4.26320700e-01,\n",
       "         -8.53027559e-02, -8.78522954e-02,  2.68781633e-01,\n",
       "         -7.73167176e-01,  4.34505889e-02, -2.03888646e-02,\n",
       "         -2.32450554e-01,  2.06951513e-01, -9.08738511e-01,\n",
       "          8.41655144e-01,  9.39328345e-03, -1.38671333e+00,\n",
       "          3.20598806e-01,  2.87911232e-03,  8.05964707e-01,\n",
       "         -1.22207441e+00, -5.14320256e-01, -4.71788568e-01,\n",
       "          2.79273693e-02, -9.91598232e-02,  4.06287034e-01,\n",
       "          6.04632386e-01, -4.63846945e-01,  4.19114347e-01,\n",
       "         -8.03567069e-02,  2.63047809e-01, -9.74593770e-02,\n",
       "         -1.54769748e-01,  2.46776295e-01,  1.23493389e+00,\n",
       "         -1.05410953e-01,  1.77276912e-01, -8.59278498e-01,\n",
       "         -7.11330837e-01, -2.95108169e-01,  3.66253897e-01,\n",
       "          1.21086575e-02, -2.32076456e-01, -1.77883136e+00,\n",
       "          7.04183719e-01, -4.80492306e-01,  4.76029097e-01,\n",
       "          9.63427646e-02,  5.50252636e-01, -9.68802733e-01,\n",
       "          5.61154719e-01,  7.93057485e-01,  1.54708480e-01,\n",
       "         -4.23171315e-02,  5.71031988e-01,  3.33465556e-01,\n",
       "         -2.08934497e-01, -2.34912218e-02, -6.77598033e-01,\n",
       "          4.11317834e-01, -6.13496812e-01, -3.44236022e-01,\n",
       "          6.27352092e-01,  2.22213693e-01, -3.03673654e-01,\n",
       "          9.52167331e-01,  8.73097322e-01, -1.15315619e+00,\n",
       "         -9.31954869e-02, -1.08163320e+00,  1.42194287e+00,\n",
       "         -1.61130666e-01,  3.62137668e-01,  3.17331179e-01,\n",
       "          4.64030164e-01, -1.24609074e-01, -6.41398019e-01,\n",
       "          1.10727766e+00],\n",
       "        [-1.95485373e-01,  4.96102254e-01, -2.91292402e-01,\n",
       "          1.49833475e-01, -4.77346558e-01,  1.94592030e-01,\n",
       "          2.18584578e-01, -6.52910915e-01, -6.29952682e-01,\n",
       "         -3.57893971e-01,  1.59932242e+00,  1.03811943e+00,\n",
       "          9.05627954e-02,  4.21704090e-01,  2.23063742e-01,\n",
       "          2.37165017e-01, -2.10221779e-01,  2.45892096e-02,\n",
       "         -2.30452248e-01,  1.64604279e+00,  3.06281003e-01,\n",
       "          4.60752214e-02,  4.13249425e-01,  2.66899548e-01,\n",
       "         -2.21818976e-01, -1.90122020e-01, -3.98472983e-01,\n",
       "          2.35665924e-01, -9.70343767e-01, -6.15440571e-01,\n",
       "         -2.88942635e-01, -8.78627133e-01, -5.46337935e-01,\n",
       "          6.25807691e-01, -4.15555681e-01, -8.40979435e-01,\n",
       "         -5.78245430e-01,  8.27911262e-03,  6.31331710e-01,\n",
       "          3.74514608e-01, -6.44880062e-03,  9.31369197e-03,\n",
       "         -2.01480896e-02, -6.00076727e-01, -2.26073999e-01,\n",
       "          6.67550433e-01,  3.46152362e-01, -8.59030259e-01,\n",
       "         -3.12245192e-01, -7.96147141e-01,  1.20879299e-01,\n",
       "         -1.45885461e+00, -4.21686844e-01, -3.90718617e-01,\n",
       "          4.53756101e-01, -4.24518391e-01,  2.41648977e-01,\n",
       "         -1.07127080e+00, -7.95297168e-02, -1.44495872e-01,\n",
       "         -2.74852359e-01, -6.18643504e-01,  8.09646183e-01,\n",
       "          1.86787603e-01,  3.48032124e-01, -7.09573260e-02,\n",
       "         -9.51205598e-01, -3.56502123e-01,  2.37938002e-01,\n",
       "          4.52896481e-01, -5.98123306e-01, -3.67859073e-01,\n",
       "         -5.37394236e-01, -2.54647358e-01,  5.70600485e-01,\n",
       "          9.03098385e-01, -3.61910645e-01,  5.93379188e-01,\n",
       "          7.94147015e-01, -1.23842499e-01, -4.18786474e-01,\n",
       "         -3.08005895e-01, -1.77838501e-01,  6.24425220e-03,\n",
       "         -1.23376800e-01, -7.22745017e-01, -9.02037315e-01,\n",
       "          6.45237644e-01, -4.43455694e-02, -3.51203941e-01,\n",
       "         -6.97798325e-01,  3.67342783e-01, -5.81588847e-01,\n",
       "          3.28093329e-01,  2.97435442e-01, -3.88936014e-01,\n",
       "          4.82035920e-01, -2.70427837e-01,  9.05631855e-01,\n",
       "          1.19852448e-01],\n",
       "        [ 7.20763635e-01,  3.51274488e-01, -3.90224937e-01,\n",
       "         -3.89614742e-01, -7.76570634e-01,  2.56709284e-01,\n",
       "          1.12235478e+00,  1.31897034e-01,  9.32440183e-01,\n",
       "         -1.54302957e-03, -5.90778897e-01, -6.47418703e-01,\n",
       "         -1.03578974e-02, -7.60907607e-02, -1.40978648e+00,\n",
       "          3.25660858e-01,  9.72455571e-01,  2.37740917e-01,\n",
       "          4.31908219e-01,  1.66611683e-01, -7.32260831e-01,\n",
       "         -1.41994867e+00, -1.43333229e+00, -5.22254636e-01,\n",
       "         -3.04799648e-01, -3.24879274e-01, -7.74487943e-01,\n",
       "          6.30412109e-01,  7.34728440e-05, -4.14230488e-01,\n",
       "          1.21376763e-01, -1.46589848e-01,  6.65372903e-01,\n",
       "          1.26695415e-01, -5.10761693e-01, -1.29880751e-01,\n",
       "          5.45326466e-01, -6.23220867e-01, -7.14449631e-01,\n",
       "          5.93913323e-01, -1.91689648e-01,  5.05385805e-01,\n",
       "         -8.19107447e-01, -7.77785001e-02,  2.40101290e-02,\n",
       "          1.06703374e+00,  2.37826421e-01, -5.80827089e-01,\n",
       "          6.38036164e-01, -5.45119215e-01,  2.42334991e-02,\n",
       "          9.16609482e-02, -4.74622551e-01, -1.03961822e-01,\n",
       "          5.90126729e-02,  7.85595354e-01,  3.41493658e-01,\n",
       "          6.45576159e-02, -4.08781990e-01,  9.90565062e-02,\n",
       "          2.50739371e-01, -1.34650219e-01, -2.97088295e-01,\n",
       "          1.31695656e-01,  3.46971479e-01, -3.22196430e-01,\n",
       "         -5.26724243e-01, -5.59930394e-01, -4.55549430e-01,\n",
       "         -4.36148704e-01,  3.18941042e-01, -4.51331849e-01,\n",
       "         -4.43022452e-01, -1.62519408e-01,  3.66850522e-01,\n",
       "         -1.17147239e+00, -1.05382110e+00, -4.08559132e-01,\n",
       "          3.81976065e-01,  1.92895485e-01,  2.00247821e-01,\n",
       "         -5.45439177e-01, -6.79672830e-01,  1.43710472e-01,\n",
       "         -6.54956004e-02, -1.84296230e-01, -9.85126510e-02,\n",
       "          9.62247543e-01, -9.91167548e-01, -4.05653645e-02,\n",
       "         -4.84352304e-01, -1.28353196e-01, -3.21904002e-01,\n",
       "         -1.06746707e+00,  1.81226460e-01, -8.86725030e-02,\n",
       "         -3.15505046e-01, -2.36562538e-01,  3.00983180e-02,\n",
       "         -2.13195023e-01],\n",
       "        [ 8.39905072e-01,  2.86510917e-01, -1.95366878e-01,\n",
       "         -1.84365486e-01, -4.19449969e-01,  2.04649315e-01,\n",
       "          5.77150107e-03,  3.95527612e-01,  8.24791964e-01,\n",
       "          2.41497973e-02,  1.25761542e-01, -2.20702164e-01,\n",
       "         -9.50672860e-01,  5.15740702e-01,  1.13265866e-01,\n",
       "          4.53797557e-01, -4.35768101e-01, -5.27280562e-01,\n",
       "         -1.70757133e-01,  1.99348577e-01, -7.90399780e-01,\n",
       "          5.73854776e-01,  7.93928313e-01, -8.45531793e-01,\n",
       "         -1.64729413e-01,  5.42037184e-01,  3.19197551e-01,\n",
       "          9.41996834e-01,  2.75116670e-01,  8.17480965e-01,\n",
       "         -8.78358703e-03,  3.81557099e-01, -1.09632346e-01,\n",
       "         -3.93172902e-01,  2.97507826e-01, -1.70222271e-02,\n",
       "         -5.22077544e-01,  5.78415736e-01, -1.03103064e+00,\n",
       "          7.94260284e-01,  6.80904582e-01,  7.90580304e-01,\n",
       "          5.64051726e-01, -1.48668384e-01, -4.11324491e-01,\n",
       "         -3.79389049e-01, -1.28208373e-02,  5.94537981e-01,\n",
       "          3.35980404e-02, -3.43653388e-01, -5.03596730e-01,\n",
       "          1.64341085e-01,  2.11134768e-01,  2.96822709e-01,\n",
       "         -5.88846997e-01, -8.72824921e-01, -1.04429701e-02,\n",
       "          3.05478890e-01, -7.91769371e-02,  2.30906795e-01,\n",
       "         -1.53805669e-01, -8.67097948e-02,  2.00266425e-01,\n",
       "         -9.81016421e-02, -1.99055921e-01, -6.36621757e-01,\n",
       "         -3.57797528e-02, -4.40762583e-01,  6.08677477e-01,\n",
       "          7.73841983e-01,  2.84432593e-01,  1.06238655e-01,\n",
       "         -1.18077906e+00, -1.65616555e+00,  5.23979800e-01,\n",
       "         -8.01700975e-01, -1.02364502e+00,  3.37577002e-01,\n",
       "          7.62041812e-01, -1.51817801e-01, -3.15072683e-01,\n",
       "          4.11440116e-01,  1.17965028e-01,  1.59914029e-01,\n",
       "         -7.27831103e-01,  5.97533460e-01, -8.70182635e-01,\n",
       "          2.19951133e-01, -3.91655597e-01,  7.56910756e-01,\n",
       "         -1.11355052e-01, -9.50225862e-01, -2.44144863e-01,\n",
       "         -9.83972661e-01,  2.87181693e-01, -4.06907344e-01,\n",
       "          2.68833021e-01, -4.51110602e-02, -1.06077387e+00,\n",
       "          5.27991747e-01]]),\n",
       " array([[ 1.35628017],\n",
       "        [ 0.94487171],\n",
       "        [-0.5078132 ],\n",
       "        [ 0.6517632 ],\n",
       "        [-1.76135472],\n",
       "        [ 0.83355898],\n",
       "        [ 1.40546687],\n",
       "        [-0.77755492],\n",
       "        [-2.07720919],\n",
       "        [ 0.60057901],\n",
       "        [ 1.50708473],\n",
       "        [ 1.31329593],\n",
       "        [ 1.44706441],\n",
       "        [-1.4500504 ],\n",
       "        [-1.36703817],\n",
       "        [-1.14062739],\n",
       "        [-2.30185036],\n",
       "        [-0.66421807],\n",
       "        [ 1.17141263],\n",
       "        [-1.79371626],\n",
       "        [-1.34261477],\n",
       "        [-1.32359021],\n",
       "        [-1.80077131],\n",
       "        [-1.04386284],\n",
       "        [-0.97754407],\n",
       "        [ 1.00037754],\n",
       "        [ 1.30833293],\n",
       "        [-0.96225301],\n",
       "        [ 0.9269072 ],\n",
       "        [ 1.09343503],\n",
       "        [ 0.85027347],\n",
       "        [ 0.98608002],\n",
       "        [-0.87153879],\n",
       "        [ 2.40631113],\n",
       "        [-1.42326893],\n",
       "        [ 1.21705097],\n",
       "        [ 0.79472145],\n",
       "        [ 1.23186582],\n",
       "        [ 2.9032514 ],\n",
       "        [ 1.84573806],\n",
       "        [-0.83039018],\n",
       "        [ 1.60936977],\n",
       "        [ 1.24176622],\n",
       "        [ 1.23913487],\n",
       "        [ 1.0737316 ],\n",
       "        [-1.16748593],\n",
       "        [-1.06847524],\n",
       "        [-1.02337783],\n",
       "        [ 0.94518921],\n",
       "        [ 1.59236859],\n",
       "        [-0.72285142],\n",
       "        [-1.70165956],\n",
       "        [ 1.51855184],\n",
       "        [-1.34613572],\n",
       "        [ 0.83784094],\n",
       "        [-0.98798918],\n",
       "        [ 1.81947386],\n",
       "        [-1.33373387],\n",
       "        [-0.99051677],\n",
       "        [-1.00782054],\n",
       "        [ 1.2594594 ],\n",
       "        [ 1.53918439],\n",
       "        [ 1.81002477],\n",
       "        [ 0.91038468],\n",
       "        [ 0.53213111],\n",
       "        [-1.61243275],\n",
       "        [ 3.63768245],\n",
       "        [ 0.77848736],\n",
       "        [ 1.39921584],\n",
       "        [ 1.47428153],\n",
       "        [ 1.05635658],\n",
       "        [ 0.8048032 ],\n",
       "        [ 1.70128464],\n",
       "        [-1.93642899],\n",
       "        [-0.92203805],\n",
       "        [-1.4278565 ],\n",
       "        [ 1.62277736],\n",
       "        [ 1.78992808],\n",
       "        [-1.73024352],\n",
       "        [ 0.27085586],\n",
       "        [-1.07932504],\n",
       "        [ 1.25568956],\n",
       "        [-1.41219186],\n",
       "        [ 0.57524255],\n",
       "        [-0.89298368],\n",
       "        [-1.40671129],\n",
       "        [-1.26012343],\n",
       "        [ 1.27031609],\n",
       "        [-1.3524255 ],\n",
       "        [-1.85828547],\n",
       "        [-1.16732657],\n",
       "        [-1.7646673 ],\n",
       "        [-2.69172792],\n",
       "        [-1.28545887],\n",
       "        [ 0.61458332],\n",
       "        [ 1.41939723],\n",
       "        [ 1.03976772],\n",
       "        [-0.9005891 ],\n",
       "        [-1.21203726],\n",
       "        [-1.98928838]])]"
      ]
     },
     "execution_count": 12,
     "metadata": {},
     "output_type": "execute_result"
    }
   ],
   "source": [
    "mlpc_model.coefs_"
   ]
  },
  {
   "cell_type": "code",
   "execution_count": 13,
   "metadata": {},
   "outputs": [
    {
     "data": {
      "text/plain": [
       "[array([ 0.07955813,  0.67760231,  0.42516583, -0.02075285, -0.25873616,\n",
       "         0.00500037,  0.66821268, -0.21784373, -0.22557911,  0.36059068,\n",
       "         0.31227557,  0.68953213,  0.54507119,  0.35370843, -0.75728656,\n",
       "         0.61235323, -0.92067746,  0.07523327, -0.47273899,  0.17220758,\n",
       "        -0.0038009 ,  0.92723642, -0.96135847,  0.01943321,  0.7863939 ,\n",
       "        -0.13976583, -0.04583457,  0.55006885,  0.6747132 ,  0.62127964,\n",
       "         0.67969483,  0.37606851,  0.62511297, -1.18602113, -0.52849155,\n",
       "         0.79013323,  0.3636012 , -0.11555916, -1.29180386, -0.55191318,\n",
       "         0.01236513, -0.25116335,  0.61833643, -0.42411454,  0.1900151 ,\n",
       "        -0.11683286, -0.50879316,  0.08371912, -0.1293098 , -0.66576158,\n",
       "         0.4591849 ,  0.40481849,  0.93083105,  0.23403483,  0.86470039,\n",
       "         0.26413748, -0.50773589,  0.33512746,  0.89401096, -0.2881156 ,\n",
       "         0.20696581, -0.59003026, -0.70425129,  0.7614739 ,  0.36796535,\n",
       "         0.25456028, -1.61031591,  0.26506123, -0.5305847 , -0.39850437,\n",
       "        -0.3243603 ,  0.40405657,  0.02127089, -1.01985211,  0.60830173,\n",
       "         0.19471175,  0.42621577, -0.50369247, -0.6674601 ,  0.3278787 ,\n",
       "        -0.10691715,  0.82511717, -0.57089298,  0.28566649,  0.61521919,\n",
       "         0.13245001,  0.38085862,  0.00798379, -0.0478993 , -0.40108746,\n",
       "        -0.14559733, -0.25108981, -0.55887755,  0.068666  ,  0.09142878,\n",
       "        -0.37866922, -0.32419153,  0.69815692, -0.14314113,  0.37623087]),\n",
       " array([-0.04141975])]"
      ]
     },
     "execution_count": 13,
     "metadata": {},
     "output_type": "execute_result"
    }
   ],
   "source": [
    "mlpc_model.intercepts_"
   ]
  },
  {
   "cell_type": "code",
   "execution_count": 14,
   "metadata": {},
   "outputs": [],
   "source": [
    "y_pred = mlpc_model.predict(X_Scaled_Test)"
   ]
  },
  {
   "cell_type": "code",
   "execution_count": 15,
   "metadata": {},
   "outputs": [
    {
     "data": {
      "text/plain": [
       "0.5582905262390825"
      ]
     },
     "execution_count": 15,
     "metadata": {},
     "output_type": "execute_result"
    }
   ],
   "source": [
    "RMSE = np.sqrt(mean_squared_error(y_test, y_pred))\n",
    "RMSE"
   ]
  },
  {
   "cell_type": "code",
   "execution_count": 16,
   "metadata": {},
   "outputs": [
    {
     "data": {
      "text/plain": [
       "0.6883116883116883"
      ]
     },
     "execution_count": 16,
     "metadata": {},
     "output_type": "execute_result"
    }
   ],
   "source": [
    "accuracy_score(y_test, y_pred)"
   ]
  },
  {
   "cell_type": "code",
   "execution_count": 17,
   "metadata": {},
   "outputs": [
    {
     "data": {
      "text/plain": [
       "-0.3768211920529805"
      ]
     },
     "execution_count": 17,
     "metadata": {},
     "output_type": "execute_result"
    }
   ],
   "source": [
    "r2_score(y_test, y_pred)"
   ]
  },
  {
   "cell_type": "code",
   "execution_count": 18,
   "metadata": {},
   "outputs": [
    {
     "data": {
      "text/plain": [
       "array([[115,  36],\n",
       "       [ 36,  44]], dtype=int64)"
      ]
     },
     "execution_count": 18,
     "metadata": {},
     "output_type": "execute_result"
    }
   ],
   "source": [
    "confusion_matrix(y_test, y_pred)"
   ]
  },
  {
   "cell_type": "code",
   "execution_count": 19,
   "metadata": {},
   "outputs": [
    {
     "name": "stdout",
     "output_type": "stream",
     "text": [
      "              precision    recall  f1-score   support\n",
      "\n",
      "           0       0.76      0.76      0.76       151\n",
      "           1       0.55      0.55      0.55        80\n",
      "\n",
      "    accuracy                           0.69       231\n",
      "   macro avg       0.66      0.66      0.66       231\n",
      "weighted avg       0.69      0.69      0.69       231\n",
      "\n"
     ]
    }
   ],
   "source": [
    "print(classification_report(y_test, y_pred))"
   ]
  },
  {
   "cell_type": "code",
   "execution_count": 20,
   "metadata": {},
   "outputs": [
    {
     "data": {
      "text/plain": [
       "array([[9.99888072e-01, 1.11927978e-04],\n",
       "       [9.97442488e-01, 2.55751214e-03],\n",
       "       [9.16699799e-01, 8.33002005e-02],\n",
       "       [4.22186163e-01, 5.77813837e-01],\n",
       "       [8.04536742e-01, 1.95463258e-01],\n",
       "       [7.96366282e-01, 2.03633718e-01],\n",
       "       [1.00000000e+00, 1.89190910e-11],\n",
       "       [8.47435021e-03, 9.91525650e-01],\n",
       "       [1.81427869e-02, 9.81857213e-01],\n",
       "       [3.64138313e-02, 9.63586169e-01]])"
      ]
     },
     "execution_count": 20,
     "metadata": {},
     "output_type": "execute_result"
    }
   ],
   "source": [
    "mlpc_model.predict_proba(X_Scaled_Test)[:10]"
   ]
  },
  {
   "cell_type": "code",
   "execution_count": 21,
   "metadata": {},
   "outputs": [
    {
     "data": {
      "image/png": "[encoded data removed]",
      "text/plain": [
       "<Figure size 720x720 with 1 Axes>"
      ]
     },
     "metadata": {
      "needs_background": "light"
     },
     "output_type": "display_data"
    }
   ],
   "source": [
    "logit_roc_auc = roc_auc_score(y_test, mlpc_model.predict(X_Scaled_Test))\n",
    "fpr, tpr, thresholds = roc_curve(y_test, mlpc_model.predict_proba(X_Scaled_Test)[:,1])\n",
    "plt.figure(figsize=(10, 10))\n",
    "plt.plot(fpr, tpr, label=\"AUC (area = %.2f)\" % logit_roc_auc)\n",
    "plt.plot([0, 1], [0, 1], \"r--\")\n",
    "plt.xlim([.0, 1.0])\n",
    "plt.ylim([.0, 1.05])\n",
    "plt.xlabel(\"False Positive Rate\")\n",
    "plt.ylabel(\"True Positive Rate\")\n",
    "plt.title(\"Receiver Operating Characteristic\")\n",
    "plt.legend(loc=\"lower right\")\n",
    "plt.savefig(\"LOG_ROC\")\n",
    "plt.grid(1)\n",
    "plt.show()"
   ]
  },
  {
   "cell_type": "markdown",
   "metadata": {},
   "source": [
    "### MODEL TUNING"
   ]
  },
  {
   "cell_type": "code",
   "execution_count": 22,
   "metadata": {},
   "outputs": [],
   "source": [
    "mlcp_params = {\"alpha\": [.1, .001, .0001, .00005, .03],\n",
    "               \"hidden_layer_sizes\": [(10, 10), (3, 5), (100, 100, 100)]}"
   ]
  },
  {
   "cell_type": "code",
   "execution_count": 23,
   "metadata": {},
   "outputs": [],
   "source": [
    "mlpc_model = MLPClassifier(solver=\"lbfgs\", max_iter=10000).fit(X_Scaled_Train, y_train)"
   ]
  },
  {
   "cell_type": "code",
   "execution_count": 24,
   "metadata": {},
   "outputs": [
    {
     "name": "stdout",
     "output_type": "stream",
     "text": [
      "Fitting 10 folds for each of 15 candidates, totalling 150 fits\n"
     ]
    },
    {
     "name": "stderr",
     "output_type": "stream",
     "text": [
      "[Parallel(n_jobs=-1)]: Using backend LokyBackend with 2 concurrent workers.\n",
      "[Parallel(n_jobs=-1)]: Done  37 tasks      | elapsed:  8.6min\n",
      "[Parallel(n_jobs=-1)]: Done 150 out of 150 | elapsed: 12.6min finished\n"
     ]
    }
   ],
   "source": [
    "mlpc_cv_model = GridSearchCV(mlpc_model, mlcp_params, cv=10, verbose=2, n_jobs=-1).fit(X_Scaled_Train, y_train)"
   ]
  },
  {
   "cell_type": "code",
   "execution_count": 25,
   "metadata": {},
   "outputs": [
    {
     "data": {
      "text/plain": [
       "{'alpha': 0.0001, 'hidden_layer_sizes': (3, 5)}"
      ]
     },
     "execution_count": 25,
     "metadata": {},
     "output_type": "execute_result"
    }
   ],
   "source": [
    "mlpc_cv_model.best_params_"
   ]
  },
  {
   "cell_type": "code",
   "execution_count": 26,
   "metadata": {},
   "outputs": [
    {
     "data": {
      "text/plain": [
       "0.746785464709993"
      ]
     },
     "execution_count": 26,
     "metadata": {},
     "output_type": "execute_result"
    }
   ],
   "source": [
    "mlpc_cv_model.best_score_"
   ]
  },
  {
   "cell_type": "code",
   "execution_count": 27,
   "metadata": {},
   "outputs": [],
   "source": [
    "mlpc_tuned = MLPClassifier(alpha=mlpc_cv_model.best_params_.get(\"alpha\"),\n",
    "                           hidden_layer_sizes=mlpc_cv_model.best_params_.get(\"hidden_layer_sizes\"), \n",
    "                           max_iter=10000).fit(X_Scaled_Train, \n",
    "                                               y_train)"
   ]
  },
  {
   "cell_type": "code",
   "execution_count": 28,
   "metadata": {},
   "outputs": [],
   "source": [
    "y_pred = mlpc_tuned.predict(X_Scaled_Test)"
   ]
  },
  {
   "cell_type": "code",
   "execution_count": 29,
   "metadata": {},
   "outputs": [
    {
     "data": {
      "text/plain": [
       "0.4879500364742666"
      ]
     },
     "execution_count": 29,
     "metadata": {},
     "output_type": "execute_result"
    }
   ],
   "source": [
    "RMSE = np.sqrt(mean_squared_error(y_test, y_pred))\n",
    "RMSE"
   ]
  },
  {
   "cell_type": "code",
   "execution_count": 30,
   "metadata": {},
   "outputs": [
    {
     "data": {
      "text/plain": [
       "0.7619047619047619"
      ]
     },
     "execution_count": 30,
     "metadata": {},
     "output_type": "execute_result"
    }
   ],
   "source": [
    "accuracy_score(y_test, y_pred)"
   ]
  },
  {
   "cell_type": "code",
   "execution_count": 31,
   "metadata": {},
   "outputs": [
    {
     "data": {
      "text/plain": [
       "-0.051738410596026796"
      ]
     },
     "execution_count": 31,
     "metadata": {},
     "output_type": "execute_result"
    }
   ],
   "source": [
    "r2_score(y_test, y_pred)"
   ]
  },
  {
   "cell_type": "code",
   "execution_count": 32,
   "metadata": {},
   "outputs": [
    {
     "data": {
      "text/plain": [
       "array([[125,  26],\n",
       "       [ 29,  51]], dtype=int64)"
      ]
     },
     "execution_count": 32,
     "metadata": {},
     "output_type": "execute_result"
    }
   ],
   "source": [
    "confusion_matrix(y_test, y_pred)"
   ]
  },
  {
   "cell_type": "code",
   "execution_count": 33,
   "metadata": {},
   "outputs": [
    {
     "name": "stdout",
     "output_type": "stream",
     "text": [
      "              precision    recall  f1-score   support\n",
      "\n",
      "           0       0.81      0.83      0.82       151\n",
      "           1       0.66      0.64      0.65        80\n",
      "\n",
      "    accuracy                           0.76       231\n",
      "   macro avg       0.74      0.73      0.73       231\n",
      "weighted avg       0.76      0.76      0.76       231\n",
      "\n"
     ]
    }
   ],
   "source": [
    "print(classification_report(y_test, y_pred))"
   ]
  },
  {
   "cell_type": "code",
   "execution_count": 34,
   "metadata": {},
   "outputs": [
    {
     "data": {
      "text/plain": [
       "array([[0.8151997 , 0.1848003 ],\n",
       "       [0.86439223, 0.13560777],\n",
       "       [0.91944101, 0.08055899],\n",
       "       [0.77517097, 0.22482903],\n",
       "       [0.52946177, 0.47053823],\n",
       "       [0.75850133, 0.24149867],\n",
       "       [0.99319054, 0.00680946],\n",
       "       [0.29132104, 0.70867896],\n",
       "       [0.33801298, 0.66198702],\n",
       "       [0.2122732 , 0.7877268 ]])"
      ]
     },
     "execution_count": 34,
     "metadata": {},
     "output_type": "execute_result"
    }
   ],
   "source": [
    "mlpc_tuned.predict_proba(X_Scaled_Test)[:10]"
   ]
  },
  {
   "cell_type": "code",
   "execution_count": 35,
   "metadata": {},
   "outputs": [
    {
     "data": {
      "image/png": "[encoded data removed]",
      "text/plain": [
       "<Figure size 720x720 with 1 Axes>"
      ]
     },
     "metadata": {
      "needs_background": "light"
     },
     "output_type": "display_data"
    }
   ],
   "source": [
    "logit_roc_auc = roc_auc_score(y_test, mlpc_tuned.predict(X_Scaled_Test))\n",
    "fpr, tpr, thresholds = roc_curve(y_test, mlpc_tuned.predict_proba(X_Scaled_Test)[:,1])\n",
    "plt.figure(figsize=(10, 10))\n",
    "plt.plot(fpr, tpr, label=\"AUC (area = %.2f)\" % logit_roc_auc)\n",
    "plt.plot([0, 1], [0, 1], \"r--\")\n",
    "plt.xlim([.0, 1.0])\n",
    "plt.ylim([.0, 1.05])\n",
    "plt.xlabel(\"False Positive Rate\")\n",
    "plt.ylabel(\"True Positive Rate\")\n",
    "plt.title(\"Receiver Operating Characteristic\")\n",
    "plt.legend(loc=\"lower right\")\n",
    "plt.savefig(\"LOG_ROC\")\n",
    "plt.grid(1)\n",
    "plt.show()"
   ]
  },
  {
   "cell_type": "code",
   "execution_count": null,
   "metadata": {},
   "outputs": [],
   "source": []
  }
 ],
 "metadata": {
  "kernelspec": {
   "display_name": "Python 3",
   "language": "python",
   "name": "python3"
  },
  "language_info": {
   "codemirror_mode": {
    "name": "ipython",
    "version": 3
   },
   "file_extension": ".py",
   "mimetype": "text/x-python",
   "name": "python",
   "nbconvert_exporter": "python",
   "pygments_lexer": "ipython3",
   "version": "3.8.3"
  }
 },
 "nbformat": 4,
 "nbformat_minor": 4
}
