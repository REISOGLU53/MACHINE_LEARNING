{
 "cells": [
  {
   "cell_type": "markdown",
   "metadata": {},
   "source": [
    "# Gradient Boosting Machines"
   ]
  },
  {
   "cell_type": "code",
   "execution_count": 1,
   "metadata": {},
   "outputs": [],
   "source": [
    "import numpy as np\n",
    "import pandas as pd\n",
    "import statsmodels.api as sm\n",
    "import seaborn as sns\n",
    "import matplotlib.pyplot as plt\n",
    "from sklearn.preprocessing import scale, StandardScaler\n",
    "from sklearn.model_selection import train_test_split, GridSearchCV, cross_val_score\n",
    "from sklearn.metrics import confusion_matrix, accuracy_score, mean_squared_error, r2_score, roc_auc_score, roc_curve, classification_report\n",
    "from sklearn.linear_model import LogisticRegression\n",
    "from sklearn.neighbors import KNeighborsClassifier\n",
    "from sklearn.svm import SVC\n",
    "from sklearn.neural_network import MLPClassifier\n",
    "from sklearn.tree import DecisionTreeClassifier\n",
    "from sklearn.ensemble import RandomForestClassifier\n",
    "from sklearn.ensemble import GradientBoostingClassifier\n"
   ]
  },
  {
   "cell_type": "code",
   "execution_count": 2,
   "metadata": {},
   "outputs": [],
   "source": [
    "import warnings\n",
    "warnings.filterwarnings(\"ignore\", category=DeprecationWarning)\n",
    "warnings.filterwarnings(\"ignore\", category=FutureWarning)"
   ]
  },
  {
   "cell_type": "markdown",
   "metadata": {},
   "source": [
    "### DATASET"
   ]
  },
  {
   "cell_type": "code",
   "execution_count": 3,
   "metadata": {},
   "outputs": [],
   "source": [
    "df = pd.read_csv(\"C://Users//ertug//Desktop//Machine_Learning_Courses//_3_Classification//diabetes.csv//diabetes.csv\")"
   ]
  },
  {
   "cell_type": "code",
   "execution_count": 4,
   "metadata": {},
   "outputs": [
    {
     "data": {
      "text/html": [
       "<div>\n",
       "<style scoped>\n",
       "    .dataframe tbody tr th:only-of-type {\n",
       "        vertical-align: middle;\n",
       "    }\n",
       "\n",
       "    .dataframe tbody tr th {\n",
       "        vertical-align: top;\n",
       "    }\n",
       "\n",
       "    .dataframe thead th {\n",
       "        text-align: right;\n",
       "    }\n",
       "</style>\n",
       "<table border=\"1\" class=\"dataframe\">\n",
       "  <thead>\n",
       "    <tr style=\"text-align: right;\">\n",
       "      <th></th>\n",
       "      <th>Pregnancies</th>\n",
       "      <th>Glucose</th>\n",
       "      <th>BloodPressure</th>\n",
       "      <th>SkinThickness</th>\n",
       "      <th>Insulin</th>\n",
       "      <th>BMI</th>\n",
       "      <th>DiabetesPedigreeFunction</th>\n",
       "      <th>Age</th>\n",
       "      <th>Outcome</th>\n",
       "    </tr>\n",
       "  </thead>\n",
       "  <tbody>\n",
       "    <tr>\n",
       "      <th>0</th>\n",
       "      <td>6</td>\n",
       "      <td>148</td>\n",
       "      <td>72</td>\n",
       "      <td>35</td>\n",
       "      <td>0</td>\n",
       "      <td>33.6</td>\n",
       "      <td>0.627</td>\n",
       "      <td>50</td>\n",
       "      <td>1</td>\n",
       "    </tr>\n",
       "    <tr>\n",
       "      <th>1</th>\n",
       "      <td>1</td>\n",
       "      <td>85</td>\n",
       "      <td>66</td>\n",
       "      <td>29</td>\n",
       "      <td>0</td>\n",
       "      <td>26.6</td>\n",
       "      <td>0.351</td>\n",
       "      <td>31</td>\n",
       "      <td>0</td>\n",
       "    </tr>\n",
       "    <tr>\n",
       "      <th>2</th>\n",
       "      <td>8</td>\n",
       "      <td>183</td>\n",
       "      <td>64</td>\n",
       "      <td>0</td>\n",
       "      <td>0</td>\n",
       "      <td>23.3</td>\n",
       "      <td>0.672</td>\n",
       "      <td>32</td>\n",
       "      <td>1</td>\n",
       "    </tr>\n",
       "    <tr>\n",
       "      <th>3</th>\n",
       "      <td>1</td>\n",
       "      <td>89</td>\n",
       "      <td>66</td>\n",
       "      <td>23</td>\n",
       "      <td>94</td>\n",
       "      <td>28.1</td>\n",
       "      <td>0.167</td>\n",
       "      <td>21</td>\n",
       "      <td>0</td>\n",
       "    </tr>\n",
       "    <tr>\n",
       "      <th>4</th>\n",
       "      <td>0</td>\n",
       "      <td>137</td>\n",
       "      <td>40</td>\n",
       "      <td>35</td>\n",
       "      <td>168</td>\n",
       "      <td>43.1</td>\n",
       "      <td>2.288</td>\n",
       "      <td>33</td>\n",
       "      <td>1</td>\n",
       "    </tr>\n",
       "  </tbody>\n",
       "</table>\n",
       "</div>"
      ],
      "text/plain": [
       "   Pregnancies  Glucose  BloodPressure  SkinThickness  Insulin   BMI  \\\n",
       "0            6      148             72             35        0  33.6   \n",
       "1            1       85             66             29        0  26.6   \n",
       "2            8      183             64              0        0  23.3   \n",
       "3            1       89             66             23       94  28.1   \n",
       "4            0      137             40             35      168  43.1   \n",
       "\n",
       "   DiabetesPedigreeFunction  Age  Outcome  \n",
       "0                     0.627   50        1  \n",
       "1                     0.351   31        0  \n",
       "2                     0.672   32        1  \n",
       "3                     0.167   21        0  \n",
       "4                     2.288   33        1  "
      ]
     },
     "execution_count": 4,
     "metadata": {},
     "output_type": "execute_result"
    }
   ],
   "source": [
    "df.head()"
   ]
  },
  {
   "cell_type": "code",
   "execution_count": 5,
   "metadata": {},
   "outputs": [],
   "source": [
    "y = df[\"Outcome\"]"
   ]
  },
  {
   "cell_type": "code",
   "execution_count": 6,
   "metadata": {},
   "outputs": [],
   "source": [
    "X = df.drop([\"Outcome\"], axis=1)"
   ]
  },
  {
   "cell_type": "code",
   "execution_count": 7,
   "metadata": {},
   "outputs": [],
   "source": [
    "X_train, X_test, y_train, y_test = train_test_split(X,\n",
    "                                                    y, \n",
    "                                                    test_size=.3,\n",
    "                                                    random_state=42)"
   ]
  },
  {
   "cell_type": "markdown",
   "metadata": {},
   "source": [
    "### Model & Training"
   ]
  },
  {
   "cell_type": "code",
   "execution_count": 8,
   "metadata": {},
   "outputs": [],
   "source": [
    "gbm_model = GradientBoostingClassifier().fit(X_train, y_train)"
   ]
  },
  {
   "cell_type": "code",
   "execution_count": 17,
   "metadata": {
    "collapsed": true,
    "jupyter": {
     "outputs_hidden": true
    }
   },
   "outputs": [
    {
     "data": {
      "text/plain": [
       "['_SUPPORTED_LOSS',\n",
       " '__abstractmethods__',\n",
       " '__annotations__',\n",
       " '__class__',\n",
       " '__delattr__',\n",
       " '__dict__',\n",
       " '__dir__',\n",
       " '__doc__',\n",
       " '__eq__',\n",
       " '__format__',\n",
       " '__ge__',\n",
       " '__getattribute__',\n",
       " '__getitem__',\n",
       " '__getstate__',\n",
       " '__gt__',\n",
       " '__hash__',\n",
       " '__init__',\n",
       " '__init_subclass__',\n",
       " '__iter__',\n",
       " '__le__',\n",
       " '__len__',\n",
       " '__lt__',\n",
       " '__module__',\n",
       " '__ne__',\n",
       " '__new__',\n",
       " '__reduce__',\n",
       " '__reduce_ex__',\n",
       " '__repr__',\n",
       " '__setattr__',\n",
       " '__setstate__',\n",
       " '__sizeof__',\n",
       " '__str__',\n",
       " '__subclasshook__',\n",
       " '__weakref__',\n",
       " '_abc_impl',\n",
       " '_check_initialized',\n",
       " '_check_n_features',\n",
       " '_check_params',\n",
       " '_clear_state',\n",
       " '_compute_partial_dependence_recursion',\n",
       " '_estimator_type',\n",
       " '_fit_stage',\n",
       " '_fit_stages',\n",
       " '_get_param_names',\n",
       " '_get_tags',\n",
       " '_init_state',\n",
       " '_is_initialized',\n",
       " '_make_estimator',\n",
       " '_more_tags',\n",
       " '_raw_predict',\n",
       " '_raw_predict_init',\n",
       " '_repr_html_',\n",
       " '_repr_html_inner',\n",
       " '_repr_mimebundle_',\n",
       " '_required_parameters',\n",
       " '_resize_state',\n",
       " '_rng',\n",
       " '_staged_raw_predict',\n",
       " '_validate_data',\n",
       " '_validate_estimator',\n",
       " '_validate_y',\n",
       " 'alpha',\n",
       " 'apply',\n",
       " 'ccp_alpha',\n",
       " 'classes_',\n",
       " 'criterion',\n",
       " 'decision_function',\n",
       " 'estimators_',\n",
       " 'feature_importances_',\n",
       " 'fit',\n",
       " 'get_params',\n",
       " 'init',\n",
       " 'init_',\n",
       " 'learning_rate',\n",
       " 'loss',\n",
       " 'loss_',\n",
       " 'max_depth',\n",
       " 'max_features',\n",
       " 'max_features_',\n",
       " 'max_leaf_nodes',\n",
       " 'min_impurity_decrease',\n",
       " 'min_impurity_split',\n",
       " 'min_samples_leaf',\n",
       " 'min_samples_split',\n",
       " 'min_weight_fraction_leaf',\n",
       " 'n_classes_',\n",
       " 'n_estimators',\n",
       " 'n_estimators_',\n",
       " 'n_features_',\n",
       " 'n_features_in_',\n",
       " 'n_iter_no_change',\n",
       " 'predict',\n",
       " 'predict_log_proba',\n",
       " 'predict_proba',\n",
       " 'presort',\n",
       " 'random_state',\n",
       " 'score',\n",
       " 'set_params',\n",
       " 'staged_decision_function',\n",
       " 'staged_predict',\n",
       " 'staged_predict_proba',\n",
       " 'subsample',\n",
       " 'tol',\n",
       " 'train_score_',\n",
       " 'validation_fraction',\n",
       " 'verbose',\n",
       " 'warm_start']"
      ]
     },
     "execution_count": 17,
     "metadata": {},
     "output_type": "execute_result"
    }
   ],
   "source": [
    "dir(gbm_model)"
   ]
  },
  {
   "cell_type": "code",
   "execution_count": 19,
   "metadata": {
    "collapsed": true,
    "jupyter": {
     "outputs_hidden": true
    }
   },
   "outputs": [
    {
     "name": "stdout",
     "output_type": "stream",
     "text": [
      "Object `gbm_model #  loss --> gerçek değerler ile tahmin edilen değerler arasındaki farkın nasıl optimize edileceğinini inceler.` not found.\n"
     ]
    }
   ],
   "source": [
    "?gbm_model #  loss --> gerçek değerler ile tahmin edilen değerler arasındaki farkın nasıl optimize edileceğinini inceler.\n",
    "           #  learning_rate --> öğrenme oranıdır. learning_rate ile n_estimators arasında bir ilişki mevcuttur.\n",
    "           #  n_estimators --> kullanılacak olan ağaç sayısıdır. --> rassallığı sağlıyor.\n",
    "           #  criterion --> bölünmeleri ayarlayabilmek için belirli kriterler kullanılır \n",
    "           #  min_samples_split --> bölünme için gerekli olan minimum örnek sayısını ifade ediyor."
   ]
  },
  {
   "cell_type": "code",
   "execution_count": 9,
   "metadata": {},
   "outputs": [],
   "source": [
    "y_pred = gbm_model.predict(X_test)"
   ]
  },
  {
   "cell_type": "code",
   "execution_count": 10,
   "metadata": {},
   "outputs": [
    {
     "data": {
      "text/plain": [
       "0.5010810823432182"
      ]
     },
     "execution_count": 10,
     "metadata": {},
     "output_type": "execute_result"
    }
   ],
   "source": [
    "RMSE = np.sqrt(mean_squared_error(y_test, y_pred))\n",
    "RMSE"
   ]
  },
  {
   "cell_type": "code",
   "execution_count": 11,
   "metadata": {},
   "outputs": [
    {
     "data": {
      "text/plain": [
       "0.7489177489177489"
      ]
     },
     "execution_count": 11,
     "metadata": {},
     "output_type": "execute_result"
    }
   ],
   "source": [
    "accuracy_score(y_test, y_pred)"
   ]
  },
  {
   "cell_type": "code",
   "execution_count": 12,
   "metadata": {},
   "outputs": [
    {
     "data": {
      "text/plain": [
       "-0.10910596026490094"
      ]
     },
     "execution_count": 12,
     "metadata": {},
     "output_type": "execute_result"
    }
   ],
   "source": [
    "r2_score(y_test, y_pred)"
   ]
  },
  {
   "cell_type": "code",
   "execution_count": 13,
   "metadata": {},
   "outputs": [
    {
     "data": {
      "text/plain": [
       "array([[120,  31],\n",
       "       [ 27,  53]], dtype=int64)"
      ]
     },
     "execution_count": 13,
     "metadata": {},
     "output_type": "execute_result"
    }
   ],
   "source": [
    "confusion_matrix(y_test, y_pred)"
   ]
  },
  {
   "cell_type": "code",
   "execution_count": 14,
   "metadata": {},
   "outputs": [
    {
     "name": "stdout",
     "output_type": "stream",
     "text": [
      "              precision    recall  f1-score   support\n",
      "\n",
      "           0       0.82      0.79      0.81       151\n",
      "           1       0.63      0.66      0.65        80\n",
      "\n",
      "    accuracy                           0.75       231\n",
      "   macro avg       0.72      0.73      0.73       231\n",
      "weighted avg       0.75      0.75      0.75       231\n",
      "\n"
     ]
    }
   ],
   "source": [
    "print(classification_report(y_test, y_pred))"
   ]
  },
  {
   "cell_type": "code",
   "execution_count": 15,
   "metadata": {
    "collapsed": true,
    "jupyter": {
     "outputs_hidden": true
    }
   },
   "outputs": [
    {
     "data": {
      "text/plain": [
       "array([[0.33642461, 0.66357539],\n",
       "       [0.83853585, 0.16146415],\n",
       "       [0.89128753, 0.10871247],\n",
       "       [0.76567626, 0.23432374],\n",
       "       [0.61745974, 0.38254026],\n",
       "       [0.23770705, 0.76229295],\n",
       "       [0.99028205, 0.00971795],\n",
       "       [0.1284156 , 0.8715844 ],\n",
       "       [0.62036984, 0.37963016],\n",
       "       [0.48853852, 0.51146148],\n",
       "       [0.85317867, 0.14682133],\n",
       "       [0.07637002, 0.92362998],\n",
       "       [0.77366088, 0.22633912],\n",
       "       [0.73022905, 0.26977095],\n",
       "       [0.97226676, 0.02773324],\n",
       "       [0.57462907, 0.42537093],\n",
       "       [0.94266404, 0.05733596],\n",
       "       [0.98625689, 0.01374311],\n",
       "       [0.07512311, 0.92487689],\n",
       "       [0.52178194, 0.47821806],\n",
       "       [0.66812762, 0.33187238],\n",
       "       [0.94979389, 0.05020611],\n",
       "       [0.65277411, 0.34722589],\n",
       "       [0.98200284, 0.01799716],\n",
       "       [0.39951102, 0.60048898],\n",
       "       [0.04349328, 0.95650672],\n",
       "       [0.94777864, 0.05222136],\n",
       "       [0.97696141, 0.02303859],\n",
       "       [0.96205834, 0.03794166],\n",
       "       [0.85669346, 0.14330654],\n",
       "       [0.01296237, 0.98703763],\n",
       "       [0.25915209, 0.74084791],\n",
       "       [0.07232044, 0.92767956],\n",
       "       [0.03176928, 0.96823072],\n",
       "       [0.21232286, 0.78767714],\n",
       "       [0.35285645, 0.64714355],\n",
       "       [0.04664417, 0.95335583],\n",
       "       [0.64270655, 0.35729345],\n",
       "       [0.77815419, 0.22184581],\n",
       "       [0.24747726, 0.75252274],\n",
       "       [0.97530045, 0.02469955],\n",
       "       [0.50286635, 0.49713365],\n",
       "       [0.14810838, 0.85189162],\n",
       "       [0.71857789, 0.28142211],\n",
       "       [0.98747621, 0.01252379],\n",
       "       [0.13848901, 0.86151099],\n",
       "       [0.52123795, 0.47876205],\n",
       "       [0.90449556, 0.09550444],\n",
       "       [0.73784706, 0.26215294],\n",
       "       [0.03428316, 0.96571684],\n",
       "       [0.98799551, 0.01200449],\n",
       "       [0.14471291, 0.85528709],\n",
       "       [0.16867509, 0.83132491],\n",
       "       [0.76974839, 0.23025161],\n",
       "       [0.8898634 , 0.1101366 ],\n",
       "       [0.98271318, 0.01728682],\n",
       "       [0.48272395, 0.51727605],\n",
       "       [0.97271069, 0.02728931],\n",
       "       [0.85250118, 0.14749882],\n",
       "       [0.08813065, 0.91186935],\n",
       "       [0.6240734 , 0.3759266 ],\n",
       "       [0.75159751, 0.24840249],\n",
       "       [0.74361961, 0.25638039],\n",
       "       [0.63868818, 0.36131182],\n",
       "       [0.97520886, 0.02479114],\n",
       "       [0.5186682 , 0.4813318 ],\n",
       "       [0.98140123, 0.01859877],\n",
       "       [0.24664199, 0.75335801],\n",
       "       [0.93477241, 0.06522759],\n",
       "       [0.03154767, 0.96845233],\n",
       "       [0.4158043 , 0.5841957 ],\n",
       "       [0.9406781 , 0.0593219 ],\n",
       "       [0.95824513, 0.04175487],\n",
       "       [0.97180353, 0.02819647],\n",
       "       [0.93277267, 0.06722733],\n",
       "       [0.49287958, 0.50712042],\n",
       "       [0.73529461, 0.26470539],\n",
       "       [0.94693706, 0.05306294],\n",
       "       [0.92407568, 0.07592432],\n",
       "       [0.93927259, 0.06072741],\n",
       "       [0.11960817, 0.88039183],\n",
       "       [0.83406123, 0.16593877],\n",
       "       [0.94678994, 0.05321006],\n",
       "       [0.7668901 , 0.2331099 ],\n",
       "       [0.82413404, 0.17586596],\n",
       "       [0.05492728, 0.94507272],\n",
       "       [0.11965754, 0.88034246],\n",
       "       [0.65163465, 0.34836535],\n",
       "       [0.80860812, 0.19139188],\n",
       "       [0.98171748, 0.01828252],\n",
       "       [0.97339726, 0.02660274],\n",
       "       [0.87634605, 0.12365395],\n",
       "       [0.97368935, 0.02631065],\n",
       "       [0.3069522 , 0.6930478 ],\n",
       "       [0.60441067, 0.39558933],\n",
       "       [0.21798813, 0.78201187],\n",
       "       [0.27667163, 0.72332837],\n",
       "       [0.96845506, 0.03154494],\n",
       "       [0.19984765, 0.80015235],\n",
       "       [0.87792306, 0.12207694],\n",
       "       [0.0753957 , 0.9246043 ],\n",
       "       [0.98418599, 0.01581401],\n",
       "       [0.4718882 , 0.5281118 ],\n",
       "       [0.43981952, 0.56018048],\n",
       "       [0.08838925, 0.91161075],\n",
       "       [0.91047714, 0.08952286],\n",
       "       [0.89659441, 0.10340559],\n",
       "       [0.03703531, 0.96296469],\n",
       "       [0.94659421, 0.05340579],\n",
       "       [0.26648328, 0.73351672],\n",
       "       [0.97395435, 0.02604565],\n",
       "       [0.15057588, 0.84942412],\n",
       "       [0.63819204, 0.36180796],\n",
       "       [0.0571629 , 0.9428371 ],\n",
       "       [0.54956135, 0.45043865],\n",
       "       [0.51826819, 0.48173181],\n",
       "       [0.0657352 , 0.9342648 ],\n",
       "       [0.7258587 , 0.2741413 ],\n",
       "       [0.95177648, 0.04822352],\n",
       "       [0.19237005, 0.80762995],\n",
       "       [0.96967144, 0.03032856],\n",
       "       [0.96054878, 0.03945122],\n",
       "       [0.43725467, 0.56274533],\n",
       "       [0.97564565, 0.02435435],\n",
       "       [0.83980964, 0.16019036],\n",
       "       [0.63362725, 0.36637275],\n",
       "       [0.61239333, 0.38760667],\n",
       "       [0.0436371 , 0.9563629 ],\n",
       "       [0.02991857, 0.97008143],\n",
       "       [0.1068452 , 0.8931548 ],\n",
       "       [0.10058318, 0.89941682],\n",
       "       [0.43464444, 0.56535556],\n",
       "       [0.95539921, 0.04460079],\n",
       "       [0.82455578, 0.17544422],\n",
       "       [0.16125401, 0.83874599],\n",
       "       [0.66579098, 0.33420902],\n",
       "       [0.79036677, 0.20963323],\n",
       "       [0.11640902, 0.88359098],\n",
       "       [0.23226782, 0.76773218],\n",
       "       [0.98356242, 0.01643758],\n",
       "       [0.96239813, 0.03760187],\n",
       "       [0.98592175, 0.01407825],\n",
       "       [0.75483222, 0.24516778],\n",
       "       [0.38168358, 0.61831642],\n",
       "       [0.95278255, 0.04721745],\n",
       "       [0.65726233, 0.34273767],\n",
       "       [0.81419897, 0.18580103],\n",
       "       [0.98062266, 0.01937734],\n",
       "       [0.51111737, 0.48888263],\n",
       "       [0.21148102, 0.78851898],\n",
       "       [0.96893284, 0.03106716],\n",
       "       [0.53005004, 0.46994996],\n",
       "       [0.80371892, 0.19628108],\n",
       "       [0.80555936, 0.19444064],\n",
       "       [0.97058604, 0.02941396],\n",
       "       [0.28712878, 0.71287122],\n",
       "       [0.84405525, 0.15594475],\n",
       "       [0.42862912, 0.57137088],\n",
       "       [0.28514061, 0.71485939],\n",
       "       [0.93758479, 0.06241521],\n",
       "       [0.40825444, 0.59174556],\n",
       "       [0.40357666, 0.59642334],\n",
       "       [0.8937629 , 0.1062371 ],\n",
       "       [0.98062266, 0.01937734],\n",
       "       [0.91854802, 0.08145198],\n",
       "       [0.0626387 , 0.9373613 ],\n",
       "       [0.98407371, 0.01592629],\n",
       "       [0.80943053, 0.19056947],\n",
       "       [0.12569394, 0.87430606],\n",
       "       [0.25362911, 0.74637089],\n",
       "       [0.28988903, 0.71011097],\n",
       "       [0.92722344, 0.07277656],\n",
       "       [0.40396059, 0.59603941],\n",
       "       [0.10044857, 0.89955143],\n",
       "       [0.05576429, 0.94423571],\n",
       "       [0.90579768, 0.09420232],\n",
       "       [0.52678623, 0.47321377],\n",
       "       [0.6002127 , 0.3997873 ],\n",
       "       [0.46702095, 0.53297905],\n",
       "       [0.3009849 , 0.6990151 ],\n",
       "       [0.91992391, 0.08007609],\n",
       "       [0.73306579, 0.26693421],\n",
       "       [0.64039979, 0.35960021],\n",
       "       [0.14810805, 0.85189195],\n",
       "       [0.16415475, 0.83584525],\n",
       "       [0.96118494, 0.03881506],\n",
       "       [0.95444825, 0.04555175],\n",
       "       [0.96538335, 0.03461665],\n",
       "       [0.0750364 , 0.9249636 ],\n",
       "       [0.32979073, 0.67020927],\n",
       "       [0.98315354, 0.01684646],\n",
       "       [0.95368831, 0.04631169],\n",
       "       [0.06577132, 0.93422868],\n",
       "       [0.82131847, 0.17868153],\n",
       "       [0.89297244, 0.10702756],\n",
       "       [0.97508555, 0.02491445],\n",
       "       [0.94558773, 0.05441227],\n",
       "       [0.9918411 , 0.0081589 ],\n",
       "       [0.91798826, 0.08201174],\n",
       "       [0.0865084 , 0.9134916 ],\n",
       "       [0.80056499, 0.19943501],\n",
       "       [0.95813689, 0.04186311],\n",
       "       [0.52013388, 0.47986612],\n",
       "       [0.89355502, 0.10644498],\n",
       "       [0.31258201, 0.68741799],\n",
       "       [0.97169967, 0.02830033],\n",
       "       [0.96742263, 0.03257737],\n",
       "       [0.72514235, 0.27485765],\n",
       "       [0.10706917, 0.89293083],\n",
       "       [0.87757653, 0.12242347],\n",
       "       [0.41065381, 0.58934619],\n",
       "       [0.90917647, 0.09082353],\n",
       "       [0.75940211, 0.24059789],\n",
       "       [0.8730023 , 0.1269977 ],\n",
       "       [0.36484902, 0.63515098],\n",
       "       [0.95596015, 0.04403985],\n",
       "       [0.15758047, 0.84241953],\n",
       "       [0.27847003, 0.72152997],\n",
       "       [0.62476504, 0.37523496],\n",
       "       [0.04268395, 0.95731605],\n",
       "       [0.18516317, 0.81483683],\n",
       "       [0.8155505 , 0.1844495 ],\n",
       "       [0.82911044, 0.17088956],\n",
       "       [0.9284113 , 0.0715887 ],\n",
       "       [0.96478629, 0.03521371],\n",
       "       [0.11394668, 0.88605332],\n",
       "       [0.82215024, 0.17784976],\n",
       "       [0.88073588, 0.11926412],\n",
       "       [0.77953272, 0.22046728],\n",
       "       [0.79495825, 0.20504175],\n",
       "       [0.92513973, 0.07486027]])"
      ]
     },
     "execution_count": 15,
     "metadata": {},
     "output_type": "execute_result"
    }
   ],
   "source": [
    "gbm_model.predict_proba(X_test)"
   ]
  },
  {
   "cell_type": "code",
   "execution_count": 16,
   "metadata": {},
   "outputs": [
    {
     "data": {
      "image/png": "[encoded data removed]",
      "text/plain": [
       "<Figure size 720x720 with 1 Axes>"
      ]
     },
     "metadata": {
      "needs_background": "light"
     },
     "output_type": "display_data"
    }
   ],
   "source": [
    "logit_roc_auc = roc_auc_score(y_test, gbm_model.predict(X_test))\n",
    "fpr, tpr, thresholds = roc_curve(y_test, gbm_model.predict_proba(X_test)[:,1])\n",
    "plt.figure(figsize=(10, 10))\n",
    "plt.plot(fpr, tpr, label=\"AUC (area = %.2f)\" % logit_roc_auc)\n",
    "plt.plot([0, 1], [0, 1], \"r--\")\n",
    "plt.xlim([.0, 1.0])\n",
    "plt.ylim([.0, 1.05])\n",
    "plt.xlabel(\"False Positive Rate\")\n",
    "plt.ylabel(\"True Positive Rate\")\n",
    "plt.title(\"Receiver Operating Characteristic\")\n",
    "plt.legend(loc=\"lower right\")\n",
    "plt.savefig(\"GBM_ROC\")\n",
    "plt.grid(1)\n",
    "plt.show()"
   ]
  },
  {
   "cell_type": "markdown",
   "metadata": {},
   "source": [
    "### MODEL TUNING"
   ]
  },
  {
   "cell_type": "code",
   "execution_count": 21,
   "metadata": {},
   "outputs": [],
   "source": [
    "gbm_model = GradientBoostingClassifier()"
   ]
  },
  {
   "cell_type": "code",
   "execution_count": 22,
   "metadata": {},
   "outputs": [],
   "source": [
    "gbm_params = {\"learning_rate\": [.1, .01, .001, .0001, .00001],\n",
    "              \"n_estimators\": [100, 300, 500, 1000],\n",
    "              \"min_samples_split\": [3, 5, 7, 8]}"
   ]
  },
  {
   "cell_type": "code",
   "execution_count": 23,
   "metadata": {},
   "outputs": [
    {
     "name": "stdout",
     "output_type": "stream",
     "text": [
      "Fitting 10 folds for each of 80 candidates, totalling 800 fits\n"
     ]
    },
    {
     "name": "stderr",
     "output_type": "stream",
     "text": [
      "[Parallel(n_jobs=-1)]: Using backend LokyBackend with 2 concurrent workers.\n",
      "[Parallel(n_jobs=-1)]: Done  37 tasks      | elapsed:   28.4s\n",
      "[Parallel(n_jobs=-1)]: Done 158 tasks      | elapsed:  2.0min\n",
      "[Parallel(n_jobs=-1)]: Done 361 tasks      | elapsed:  3.8min\n",
      "[Parallel(n_jobs=-1)]: Done 644 tasks      | elapsed:  6.5min\n",
      "[Parallel(n_jobs=-1)]: Done 800 out of 800 | elapsed:  9.7min finished\n"
     ]
    }
   ],
   "source": [
    "gbm_cv_model = GridSearchCV(gbm_model, gbm_params, cv=10, verbose=2, n_jobs=-1).fit(X_train, y_train)"
   ]
  },
  {
   "cell_type": "code",
   "execution_count": 24,
   "metadata": {},
   "outputs": [
    {
     "data": {
      "text/plain": [
       "{'learning_rate': 0.01, 'min_samples_split': 7, 'n_estimators': 500}"
      ]
     },
     "execution_count": 24,
     "metadata": {},
     "output_type": "execute_result"
    }
   ],
   "source": [
    "gbm_cv_model.best_params_"
   ]
  },
  {
   "cell_type": "code",
   "execution_count": 25,
   "metadata": {},
   "outputs": [
    {
     "data": {
      "text/plain": [
       "0.7801537386443046"
      ]
     },
     "execution_count": 25,
     "metadata": {},
     "output_type": "execute_result"
    }
   ],
   "source": [
    "gbm_cv_model.best_score_"
   ]
  },
  {
   "cell_type": "code",
   "execution_count": 26,
   "metadata": {},
   "outputs": [],
   "source": [
    "gbm_tuned = GradientBoostingClassifier(learning_rate=gbm_cv_model.best_params_.get(\"learning_rate\"),\n",
    "                                       n_estimators=gbm_cv_model.best_params_.get(\"n_estimators\"),\n",
    "                                       min_samples_split=gbm_cv_model.best_params_.get(\"min_samples_split\"),).fit(X_train,\n",
    "                                                                                                                  y_train)"
   ]
  },
  {
   "cell_type": "code",
   "execution_count": 27,
   "metadata": {},
   "outputs": [],
   "source": [
    "y_pred = gbm_tuned.predict(X_test)"
   ]
  },
  {
   "cell_type": "code",
   "execution_count": 28,
   "metadata": {},
   "outputs": [
    {
     "data": {
      "text/plain": [
       "0.5010810823432182"
      ]
     },
     "execution_count": 28,
     "metadata": {},
     "output_type": "execute_result"
    }
   ],
   "source": [
    "RMSE = np.sqrt(mean_squared_error(y_test, y_pred))\n",
    "RMSE"
   ]
  },
  {
   "cell_type": "code",
   "execution_count": 29,
   "metadata": {},
   "outputs": [
    {
     "data": {
      "text/plain": [
       "0.7489177489177489"
      ]
     },
     "execution_count": 29,
     "metadata": {},
     "output_type": "execute_result"
    }
   ],
   "source": [
    "accuracy_score(y_test, y_pred)"
   ]
  },
  {
   "cell_type": "code",
   "execution_count": 30,
   "metadata": {},
   "outputs": [
    {
     "data": {
      "text/plain": [
       "-0.10910596026490094"
      ]
     },
     "execution_count": 30,
     "metadata": {},
     "output_type": "execute_result"
    }
   ],
   "source": [
    "r2_score(y_test, y_pred)"
   ]
  },
  {
   "cell_type": "code",
   "execution_count": 31,
   "metadata": {},
   "outputs": [
    {
     "data": {
      "text/plain": [
       "array([[120,  31],\n",
       "       [ 27,  53]], dtype=int64)"
      ]
     },
     "execution_count": 31,
     "metadata": {},
     "output_type": "execute_result"
    }
   ],
   "source": [
    "confusion_matrix(y_test, y_pred)"
   ]
  },
  {
   "cell_type": "code",
   "execution_count": 32,
   "metadata": {},
   "outputs": [
    {
     "name": "stdout",
     "output_type": "stream",
     "text": [
      "              precision    recall  f1-score   support\n",
      "\n",
      "           0       0.82      0.79      0.81       151\n",
      "           1       0.63      0.66      0.65        80\n",
      "\n",
      "    accuracy                           0.75       231\n",
      "   macro avg       0.72      0.73      0.73       231\n",
      "weighted avg       0.75      0.75      0.75       231\n",
      "\n"
     ]
    }
   ],
   "source": [
    "print(classification_report(y_test, y_pred))"
   ]
  },
  {
   "cell_type": "code",
   "execution_count": 33,
   "metadata": {
    "collapsed": true,
    "jupyter": {
     "outputs_hidden": true
    }
   },
   "outputs": [
    {
     "data": {
      "text/plain": [
       "array([[0.39829527, 0.60170473],\n",
       "       [0.82388611, 0.17611389],\n",
       "       [0.91239747, 0.08760253],\n",
       "       [0.76749708, 0.23250292],\n",
       "       [0.54758829, 0.45241171],\n",
       "       [0.33845164, 0.66154836],\n",
       "       [0.97053388, 0.02946612],\n",
       "       [0.26683176, 0.73316824],\n",
       "       [0.52397555, 0.47602445],\n",
       "       [0.39441553, 0.60558447],\n",
       "       [0.77162959, 0.22837041],\n",
       "       [0.10220552, 0.89779448],\n",
       "       [0.65890764, 0.34109236],\n",
       "       [0.7152354 , 0.2847646 ],\n",
       "       [0.94886957, 0.05113043],\n",
       "       [0.61573672, 0.38426328],\n",
       "       [0.92906819, 0.07093181],\n",
       "       [0.96258716, 0.03741284],\n",
       "       [0.16820164, 0.83179836],\n",
       "       [0.49309467, 0.50690533],\n",
       "       [0.67646521, 0.32353479],\n",
       "       [0.92023437, 0.07976563],\n",
       "       [0.59911306, 0.40088694],\n",
       "       [0.96169984, 0.03830016],\n",
       "       [0.46534967, 0.53465033],\n",
       "       [0.07782129, 0.92217871],\n",
       "       [0.93969576, 0.06030424],\n",
       "       [0.95597805, 0.04402195],\n",
       "       [0.92475429, 0.07524571],\n",
       "       [0.80115684, 0.19884316],\n",
       "       [0.0576692 , 0.9423308 ],\n",
       "       [0.22328897, 0.77671103],\n",
       "       [0.11971763, 0.88028237],\n",
       "       [0.06257875, 0.93742125],\n",
       "       [0.32511184, 0.67488816],\n",
       "       [0.29067839, 0.70932161],\n",
       "       [0.0578651 , 0.9421349 ],\n",
       "       [0.58692506, 0.41307494],\n",
       "       [0.76080296, 0.23919704],\n",
       "       [0.33398324, 0.66601676],\n",
       "       [0.95391283, 0.04608717],\n",
       "       [0.64120405, 0.35879595],\n",
       "       [0.28845072, 0.71154928],\n",
       "       [0.62872364, 0.37127636],\n",
       "       [0.96748536, 0.03251464],\n",
       "       [0.18192701, 0.81807299],\n",
       "       [0.59924882, 0.40075118],\n",
       "       [0.91830176, 0.08169824],\n",
       "       [0.76923415, 0.23076585],\n",
       "       [0.05776428, 0.94223572],\n",
       "       [0.97042717, 0.02957283],\n",
       "       [0.23916471, 0.76083529],\n",
       "       [0.20726936, 0.79273064],\n",
       "       [0.80058404, 0.19941596],\n",
       "       [0.81207448, 0.18792552],\n",
       "       [0.96241653, 0.03758347],\n",
       "       [0.34991065, 0.65008935],\n",
       "       [0.96103295, 0.03896705],\n",
       "       [0.7955569 , 0.2044431 ],\n",
       "       [0.21500063, 0.78499937],\n",
       "       [0.4970937 , 0.5029063 ],\n",
       "       [0.76782844, 0.23217156],\n",
       "       [0.76414516, 0.23585484],\n",
       "       [0.52345317, 0.47654683],\n",
       "       [0.94153941, 0.05846059],\n",
       "       [0.45397557, 0.54602443],\n",
       "       [0.95743154, 0.04256846],\n",
       "       [0.29916638, 0.70083362],\n",
       "       [0.91900382, 0.08099618],\n",
       "       [0.07579662, 0.92420338],\n",
       "       [0.28563448, 0.71436552],\n",
       "       [0.85931927, 0.14068073],\n",
       "       [0.9330257 , 0.0669743 ],\n",
       "       [0.95412613, 0.04587387],\n",
       "       [0.91650682, 0.08349318],\n",
       "       [0.49770269, 0.50229731],\n",
       "       [0.72262129, 0.27737871],\n",
       "       [0.92242598, 0.07757402],\n",
       "       [0.87003599, 0.12996401],\n",
       "       [0.85230653, 0.14769347],\n",
       "       [0.14574915, 0.85425085],\n",
       "       [0.86142974, 0.13857026],\n",
       "       [0.88546863, 0.11453137],\n",
       "       [0.60688408, 0.39311592],\n",
       "       [0.79193144, 0.20806856],\n",
       "       [0.09355466, 0.90644534],\n",
       "       [0.16570971, 0.83429029],\n",
       "       [0.49248881, 0.50751119],\n",
       "       [0.80065564, 0.19934436],\n",
       "       [0.95570694, 0.04429306],\n",
       "       [0.94974235, 0.05025765],\n",
       "       [0.871998  , 0.128002  ],\n",
       "       [0.96103295, 0.03896705],\n",
       "       [0.49131   , 0.50869   ],\n",
       "       [0.66768805, 0.33231195],\n",
       "       [0.37143291, 0.62856709],\n",
       "       [0.43564531, 0.56435469],\n",
       "       [0.93324771, 0.06675229],\n",
       "       [0.16666894, 0.83333106],\n",
       "       [0.79722441, 0.20277559],\n",
       "       [0.13218011, 0.86781989],\n",
       "       [0.95767318, 0.04232682],\n",
       "       [0.43878389, 0.56121611],\n",
       "       [0.48524474, 0.51475526],\n",
       "       [0.13623546, 0.86376454],\n",
       "       [0.8390816 , 0.1609184 ],\n",
       "       [0.86209535, 0.13790465],\n",
       "       [0.07302869, 0.92697131],\n",
       "       [0.91684597, 0.08315403],\n",
       "       [0.32979692, 0.67020308],\n",
       "       [0.96104322, 0.03895678],\n",
       "       [0.30449143, 0.69550857],\n",
       "       [0.79088184, 0.20911816],\n",
       "       [0.0952516 , 0.9047484 ],\n",
       "       [0.67968757, 0.32031243],\n",
       "       [0.62486253, 0.37513747],\n",
       "       [0.16032723, 0.83967277],\n",
       "       [0.74846475, 0.25153525],\n",
       "       [0.94828586, 0.05171414],\n",
       "       [0.43138088, 0.56861912],\n",
       "       [0.96336048, 0.03663952],\n",
       "       [0.86794404, 0.13205596],\n",
       "       [0.57990221, 0.42009779],\n",
       "       [0.96044646, 0.03955354],\n",
       "       [0.85716397, 0.14283603],\n",
       "       [0.63645743, 0.36354257],\n",
       "       [0.81448974, 0.18551026],\n",
       "       [0.14098925, 0.85901075],\n",
       "       [0.11822856, 0.88177144],\n",
       "       [0.19547558, 0.80452442],\n",
       "       [0.19090368, 0.80909632],\n",
       "       [0.3609397 , 0.6390603 ],\n",
       "       [0.93906053, 0.06093947],\n",
       "       [0.82101957, 0.17898043],\n",
       "       [0.13469365, 0.86530635],\n",
       "       [0.6540665 , 0.3459335 ],\n",
       "       [0.85780945, 0.14219055],\n",
       "       [0.14921925, 0.85078075],\n",
       "       [0.2370677 , 0.7629323 ],\n",
       "       [0.96986179, 0.03013821],\n",
       "       [0.94132753, 0.05867247],\n",
       "       [0.96754588, 0.03245412],\n",
       "       [0.67304588, 0.32695412],\n",
       "       [0.51705418, 0.48294582],\n",
       "       [0.93527493, 0.06472507],\n",
       "       [0.67200097, 0.32799903],\n",
       "       [0.79636464, 0.20363536],\n",
       "       [0.96816364, 0.03183636],\n",
       "       [0.52923881, 0.47076119],\n",
       "       [0.24729126, 0.75270874],\n",
       "       [0.92611664, 0.07388336],\n",
       "       [0.62722764, 0.37277236],\n",
       "       [0.72750966, 0.27249034],\n",
       "       [0.72380966, 0.27619034],\n",
       "       [0.9597583 , 0.0402417 ],\n",
       "       [0.47903957, 0.52096043],\n",
       "       [0.82240686, 0.17759314],\n",
       "       [0.38962195, 0.61037805],\n",
       "       [0.35326061, 0.64673939],\n",
       "       [0.91527252, 0.08472748],\n",
       "       [0.61062031, 0.38937969],\n",
       "       [0.37891414, 0.62108586],\n",
       "       [0.887781  , 0.112219  ],\n",
       "       [0.96816364, 0.03183636],\n",
       "       [0.91715026, 0.08284974],\n",
       "       [0.08761333, 0.91238667],\n",
       "       [0.96193161, 0.03806839],\n",
       "       [0.77507382, 0.22492618],\n",
       "       [0.1204088 , 0.8795912 ],\n",
       "       [0.36945417, 0.63054583],\n",
       "       [0.37360449, 0.62639551],\n",
       "       [0.8979176 , 0.1020824 ],\n",
       "       [0.48005847, 0.51994153],\n",
       "       [0.12175567, 0.87824433],\n",
       "       [0.10100789, 0.89899211],\n",
       "       [0.87582627, 0.12417373],\n",
       "       [0.54222484, 0.45777516],\n",
       "       [0.51763626, 0.48236374],\n",
       "       [0.50709506, 0.49290494],\n",
       "       [0.2937674 , 0.7062326 ],\n",
       "       [0.83428602, 0.16571398],\n",
       "       [0.63647909, 0.36352091],\n",
       "       [0.63890835, 0.36109165],\n",
       "       [0.2859854 , 0.7140146 ],\n",
       "       [0.24315336, 0.75684664],\n",
       "       [0.92693557, 0.07306443],\n",
       "       [0.93284552, 0.06715448],\n",
       "       [0.95177783, 0.04822217],\n",
       "       [0.25852254, 0.74147746],\n",
       "       [0.34683508, 0.65316492],\n",
       "       [0.95157322, 0.04842678],\n",
       "       [0.93940559, 0.06059441],\n",
       "       [0.15502042, 0.84497958],\n",
       "       [0.71066384, 0.28933616],\n",
       "       [0.83440489, 0.16559511],\n",
       "       [0.9281796 , 0.0718204 ],\n",
       "       [0.91461795, 0.08538205],\n",
       "       [0.97217608, 0.02782392],\n",
       "       [0.85809847, 0.14190153],\n",
       "       [0.12331216, 0.87668784],\n",
       "       [0.79491039, 0.20508961],\n",
       "       [0.92965837, 0.07034163],\n",
       "       [0.63011447, 0.36988553],\n",
       "       [0.8359067 , 0.1640933 ],\n",
       "       [0.31465927, 0.68534073],\n",
       "       [0.94406635, 0.05593365],\n",
       "       [0.94233335, 0.05766665],\n",
       "       [0.6955341 , 0.3044659 ],\n",
       "       [0.11990217, 0.88009783],\n",
       "       [0.69522022, 0.30477978],\n",
       "       [0.43196085, 0.56803915],\n",
       "       [0.86627913, 0.13372087],\n",
       "       [0.92698721, 0.07301279],\n",
       "       [0.87478331, 0.12521669],\n",
       "       [0.38811979, 0.61188021],\n",
       "       [0.93637483, 0.06362517],\n",
       "       [0.17730387, 0.82269613],\n",
       "       [0.34642745, 0.65357255],\n",
       "       [0.5528529 , 0.4471471 ],\n",
       "       [0.08952893, 0.91047107],\n",
       "       [0.24043148, 0.75956852],\n",
       "       [0.75756767, 0.24243233],\n",
       "       [0.92731556, 0.07268444],\n",
       "       [0.86455933, 0.13544067],\n",
       "       [0.94256157, 0.05743843],\n",
       "       [0.25336585, 0.74663415],\n",
       "       [0.82322282, 0.17677718],\n",
       "       [0.84823264, 0.15176736],\n",
       "       [0.71218153, 0.28781847],\n",
       "       [0.7437261 , 0.2562739 ],\n",
       "       [0.86399204, 0.13600796]])"
      ]
     },
     "execution_count": 33,
     "metadata": {},
     "output_type": "execute_result"
    }
   ],
   "source": [
    "gbm_tuned.predict_proba(X_test)"
   ]
  },
  {
   "cell_type": "code",
   "execution_count": 34,
   "metadata": {},
   "outputs": [
    {
     "data": {
      "image/png": "[encoded data removed]",
      "text/plain": [
       "<Figure size 720x720 with 1 Axes>"
      ]
     },
     "metadata": {
      "needs_background": "light"
     },
     "output_type": "display_data"
    }
   ],
   "source": [
    "logit_roc_auc = roc_auc_score(y_test, gbm_tuned.predict(X_test))\n",
    "fpr, tpr, thresholds = roc_curve(y_test, gbm_tuned.predict_proba(X_test)[:,1])\n",
    "plt.figure(figsize=(10, 10))\n",
    "plt.plot(fpr, tpr, label=\"AUC (area = %.2f)\" % logit_roc_auc)\n",
    "plt.plot([0, 1], [0, 1], \"r--\")\n",
    "plt.xlim([.0, 1.0])\n",
    "plt.ylim([.0, 1.05])\n",
    "plt.xlabel(\"False Positive Rate\")\n",
    "plt.ylabel(\"True Positive Rate\")\n",
    "plt.title(\"Receiver Operating Characteristic\")\n",
    "plt.legend(loc=\"lower right\")\n",
    "plt.savefig(\"GBM_ROC\")\n",
    "plt.grid(1)\n",
    "plt.show()"
   ]
  },
  {
   "cell_type": "code",
   "execution_count": 36,
   "metadata": {},
   "outputs": [
    {
     "data": {
      "text/plain": [
       "array([0.02633569, 0.48075185, 0.01556919, 0.00771271, 0.04015497,\n",
       "       0.19387032, 0.07976282, 0.15584245])"
      ]
     },
     "execution_count": 36,
     "metadata": {},
     "output_type": "execute_result"
    }
   ],
   "source": [
    "gbm_tuned.feature_importances_"
   ]
  },
  {
   "cell_type": "code",
   "execution_count": 37,
   "metadata": {},
   "outputs": [
    {
     "data": {
      "image/png": "[encoded data removed]",
      "text/plain": [
       "<Figure size 1440x360 with 1 Axes>"
      ]
     },
     "metadata": {
      "needs_background": "light"
     },
     "output_type": "display_data"
    }
   ],
   "source": [
    "feature_imp = pd.Series(gbm_tuned.feature_importances_,\n",
    "                        index=X_train.columns).sort_values(ascending=False)\n",
    "plt.figure(figsize=(20,5))\n",
    "sns.barplot(x=feature_imp, y=feature_imp.index)\n",
    "plt.xlabel(\"Değişken Önem Skorları\")\n",
    "plt.ylabel(\"Değişkenler\")\n",
    "plt.title(\"Değişken Önem Düzeyleri\");"
   ]
  },
  {
   "cell_type": "code",
   "execution_count": null,
   "metadata": {},
   "outputs": [],
   "source": []
  }
 ],
 "metadata": {
  "kernelspec": {
   "display_name": "Python 3",
   "language": "python",
   "name": "python3"
  },
  "language_info": {
   "codemirror_mode": {
    "name": "ipython",
    "version": 3
   },
   "file_extension": ".py",
   "mimetype": "text/x-python",
   "name": "python",
   "nbconvert_exporter": "python",
   "pygments_lexer": "ipython3",
   "version": "3.8.3"
  }
 },
 "nbformat": 4,
 "nbformat_minor": 4
}
