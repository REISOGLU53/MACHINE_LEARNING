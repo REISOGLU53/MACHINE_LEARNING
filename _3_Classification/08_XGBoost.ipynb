{
 "cells": [
  {
   "cell_type": "markdown",
   "metadata": {},
   "source": [
    "# XGBoost"
   ]
  },
  {
   "cell_type": "code",
   "execution_count": 43,
   "metadata": {},
   "outputs": [],
   "source": [
    "import numpy as np\n",
    "import pandas as pd\n",
    "import statsmodels.api as sm\n",
    "import seaborn as sns\n",
    "import matplotlib.pyplot as plt\n",
    "from sklearn.preprocessing import scale, StandardScaler\n",
    "from sklearn.model_selection import train_test_split, GridSearchCV, cross_val_score\n",
    "from sklearn.metrics import confusion_matrix, accuracy_score, mean_squared_error, r2_score, roc_auc_score, roc_curve, classification_report\n",
    "from sklearn.linear_model import LogisticRegression\n",
    "from sklearn.neighbors import KNeighborsClassifier\n",
    "from sklearn.svm import SVC\n",
    "from sklearn.neural_network import MLPClassifier\n",
    "from sklearn.tree import DecisionTreeClassifier\n",
    "from sklearn.ensemble import RandomForestClassifier\n",
    "from sklearn.ensemble import GradientBoostingClassifier\n"
   ]
  },
  {
   "cell_type": "code",
   "execution_count": 44,
   "metadata": {},
   "outputs": [],
   "source": [
    "import warnings\n",
    "warnings.filterwarnings(\"ignore\", category=DeprecationWarning)\n",
    "warnings.filterwarnings(\"ignore\", category=FutureWarning)"
   ]
  },
  {
   "cell_type": "markdown",
   "metadata": {},
   "source": [
    "### DATASET"
   ]
  },
  {
   "cell_type": "code",
   "execution_count": 45,
   "metadata": {},
   "outputs": [],
   "source": [
    "df = pd.read_csv(\"C://Users//ertug//Desktop//Machine_Learning_Courses//_3_Classification//diabetes.csv//diabetes.csv\")"
   ]
  },
  {
   "cell_type": "code",
   "execution_count": 46,
   "metadata": {},
   "outputs": [
    {
     "data": {
      "text/html": [
       "<div>\n",
       "<style scoped>\n",
       "    .dataframe tbody tr th:only-of-type {\n",
       "        vertical-align: middle;\n",
       "    }\n",
       "\n",
       "    .dataframe tbody tr th {\n",
       "        vertical-align: top;\n",
       "    }\n",
       "\n",
       "    .dataframe thead th {\n",
       "        text-align: right;\n",
       "    }\n",
       "</style>\n",
       "<table border=\"1\" class=\"dataframe\">\n",
       "  <thead>\n",
       "    <tr style=\"text-align: right;\">\n",
       "      <th></th>\n",
       "      <th>Pregnancies</th>\n",
       "      <th>Glucose</th>\n",
       "      <th>BloodPressure</th>\n",
       "      <th>SkinThickness</th>\n",
       "      <th>Insulin</th>\n",
       "      <th>BMI</th>\n",
       "      <th>DiabetesPedigreeFunction</th>\n",
       "      <th>Age</th>\n",
       "      <th>Outcome</th>\n",
       "    </tr>\n",
       "  </thead>\n",
       "  <tbody>\n",
       "    <tr>\n",
       "      <th>0</th>\n",
       "      <td>6</td>\n",
       "      <td>148</td>\n",
       "      <td>72</td>\n",
       "      <td>35</td>\n",
       "      <td>0</td>\n",
       "      <td>33.6</td>\n",
       "      <td>0.627</td>\n",
       "      <td>50</td>\n",
       "      <td>1</td>\n",
       "    </tr>\n",
       "    <tr>\n",
       "      <th>1</th>\n",
       "      <td>1</td>\n",
       "      <td>85</td>\n",
       "      <td>66</td>\n",
       "      <td>29</td>\n",
       "      <td>0</td>\n",
       "      <td>26.6</td>\n",
       "      <td>0.351</td>\n",
       "      <td>31</td>\n",
       "      <td>0</td>\n",
       "    </tr>\n",
       "    <tr>\n",
       "      <th>2</th>\n",
       "      <td>8</td>\n",
       "      <td>183</td>\n",
       "      <td>64</td>\n",
       "      <td>0</td>\n",
       "      <td>0</td>\n",
       "      <td>23.3</td>\n",
       "      <td>0.672</td>\n",
       "      <td>32</td>\n",
       "      <td>1</td>\n",
       "    </tr>\n",
       "    <tr>\n",
       "      <th>3</th>\n",
       "      <td>1</td>\n",
       "      <td>89</td>\n",
       "      <td>66</td>\n",
       "      <td>23</td>\n",
       "      <td>94</td>\n",
       "      <td>28.1</td>\n",
       "      <td>0.167</td>\n",
       "      <td>21</td>\n",
       "      <td>0</td>\n",
       "    </tr>\n",
       "    <tr>\n",
       "      <th>4</th>\n",
       "      <td>0</td>\n",
       "      <td>137</td>\n",
       "      <td>40</td>\n",
       "      <td>35</td>\n",
       "      <td>168</td>\n",
       "      <td>43.1</td>\n",
       "      <td>2.288</td>\n",
       "      <td>33</td>\n",
       "      <td>1</td>\n",
       "    </tr>\n",
       "  </tbody>\n",
       "</table>\n",
       "</div>"
      ],
      "text/plain": [
       "   Pregnancies  Glucose  BloodPressure  SkinThickness  Insulin   BMI  \\\n",
       "0            6      148             72             35        0  33.6   \n",
       "1            1       85             66             29        0  26.6   \n",
       "2            8      183             64              0        0  23.3   \n",
       "3            1       89             66             23       94  28.1   \n",
       "4            0      137             40             35      168  43.1   \n",
       "\n",
       "   DiabetesPedigreeFunction  Age  Outcome  \n",
       "0                     0.627   50        1  \n",
       "1                     0.351   31        0  \n",
       "2                     0.672   32        1  \n",
       "3                     0.167   21        0  \n",
       "4                     2.288   33        1  "
      ]
     },
     "execution_count": 46,
     "metadata": {},
     "output_type": "execute_result"
    }
   ],
   "source": [
    "df.head()"
   ]
  },
  {
   "cell_type": "code",
   "execution_count": 47,
   "metadata": {},
   "outputs": [],
   "source": [
    "y = df[\"Outcome\"]"
   ]
  },
  {
   "cell_type": "code",
   "execution_count": 48,
   "metadata": {},
   "outputs": [],
   "source": [
    "X = df.drop([\"Outcome\"], axis=1)"
   ]
  },
  {
   "cell_type": "code",
   "execution_count": 49,
   "metadata": {},
   "outputs": [],
   "source": [
    "X_train, X_test, y_train, y_test = train_test_split(X,\n",
    "                                                    y, \n",
    "                                                    test_size=.3,\n",
    "                                                    random_state=42)"
   ]
  },
  {
   "cell_type": "markdown",
   "metadata": {},
   "source": [
    "### Model & Training"
   ]
  },
  {
   "cell_type": "code",
   "execution_count": 50,
   "metadata": {},
   "outputs": [],
   "source": [
    "import xgboost\n",
    "from xgboost import XGBClassifier"
   ]
  },
  {
   "cell_type": "code",
   "execution_count": 51,
   "metadata": {},
   "outputs": [],
   "source": [
    "xgb_model = XGBClassifier().fit(X_train, y_train)"
   ]
  },
  {
   "cell_type": "code",
   "execution_count": 52,
   "metadata": {},
   "outputs": [],
   "source": [
    "y_pred = xgb_model.predict(X_test)"
   ]
  },
  {
   "cell_type": "code",
   "execution_count": 53,
   "metadata": {},
   "outputs": [
    {
     "data": {
      "text/plain": [
       "['_Booster',\n",
       " '__class__',\n",
       " '__delattr__',\n",
       " '__dict__',\n",
       " '__dir__',\n",
       " '__doc__',\n",
       " '__eq__',\n",
       " '__format__',\n",
       " '__ge__',\n",
       " '__getattribute__',\n",
       " '__getstate__',\n",
       " '__gt__',\n",
       " '__hash__',\n",
       " '__init__',\n",
       " '__init_subclass__',\n",
       " '__le__',\n",
       " '__lt__',\n",
       " '__module__',\n",
       " '__ne__',\n",
       " '__new__',\n",
       " '__reduce__',\n",
       " '__reduce_ex__',\n",
       " '__repr__',\n",
       " '__setattr__',\n",
       " '__setstate__',\n",
       " '__sizeof__',\n",
       " '__str__',\n",
       " '__subclasshook__',\n",
       " '__weakref__',\n",
       " '_check_n_features',\n",
       " '_estimator_type',\n",
       " '_features_count',\n",
       " '_get_param_names',\n",
       " '_get_tags',\n",
       " '_le',\n",
       " '_more_tags',\n",
       " '_repr_html_',\n",
       " '_repr_html_inner',\n",
       " '_repr_mimebundle_',\n",
       " '_validate_data',\n",
       " 'apply',\n",
       " 'base_score',\n",
       " 'booster',\n",
       " 'classes_',\n",
       " 'coef_',\n",
       " 'colsample_bylevel',\n",
       " 'colsample_bynode',\n",
       " 'colsample_bytree',\n",
       " 'evals_result',\n",
       " 'feature_importances_',\n",
       " 'fit',\n",
       " 'gamma',\n",
       " 'get_booster',\n",
       " 'get_num_boosting_rounds',\n",
       " 'get_params',\n",
       " 'get_xgb_params',\n",
       " 'gpu_id',\n",
       " 'importance_type',\n",
       " 'interaction_constraints',\n",
       " 'intercept_',\n",
       " 'kwargs',\n",
       " 'learning_rate',\n",
       " 'load_model',\n",
       " 'max_delta_step',\n",
       " 'max_depth',\n",
       " 'min_child_weight',\n",
       " 'missing',\n",
       " 'monotone_constraints',\n",
       " 'n_classes_',\n",
       " 'n_estimators',\n",
       " 'n_features_in_',\n",
       " 'n_jobs',\n",
       " 'num_parallel_tree',\n",
       " 'objective',\n",
       " 'predict',\n",
       " 'predict_proba',\n",
       " 'random_state',\n",
       " 'reg_alpha',\n",
       " 'reg_lambda',\n",
       " 'save_model',\n",
       " 'scale_pos_weight',\n",
       " 'score',\n",
       " 'set_params',\n",
       " 'subsample',\n",
       " 'tree_method',\n",
       " 'validate_parameters',\n",
       " 'verbosity']"
      ]
     },
     "execution_count": 53,
     "metadata": {},
     "output_type": "execute_result"
    }
   ],
   "source": [
    "dir(xgb_model)"
   ]
  },
  {
   "cell_type": "code",
   "execution_count": 54,
   "metadata": {},
   "outputs": [
    {
     "name": "stdout",
     "output_type": "stream",
     "text": [
      "Object `xgb_model #  loss --> gerçek değerler ile tahmin edilen değerler arasındaki farkın nasıl optimize edileceğinini inceler.` not found.\n"
     ]
    }
   ],
   "source": [
    "?xgb_model #  loss --> gerçek değerler ile tahmin edilen değerler arasındaki farkın nasıl optimize edileceğinini inceler.\n",
    "           #  learning_rate --> öğrenme oranıdır. learning_rate ile n_estimators arasında bir ilişki mevcuttur.\n",
    "           #  n_estimators --> kullanılacak olan ağaç sayısıdır. --> rassallığı sağlıyor.\n",
    "           #  criterion --> bölünmeleri ayarlayabilmek için belirli kriterler kullanılır \n",
    "           #  min_samples_split --> bölünme için gerekli olan minimum örnek sayısını ifade ediyor."
   ]
  },
  {
   "cell_type": "code",
   "execution_count": 55,
   "metadata": {},
   "outputs": [
    {
     "data": {
      "text/plain": [
       "0.513876701232177"
      ]
     },
     "execution_count": 55,
     "metadata": {},
     "output_type": "execute_result"
    }
   ],
   "source": [
    "RMSE = np.sqrt(mean_squared_error(y_test, y_pred))\n",
    "RMSE"
   ]
  },
  {
   "cell_type": "code",
   "execution_count": 56,
   "metadata": {},
   "outputs": [
    {
     "data": {
      "text/plain": [
       "0.7359307359307359"
      ]
     },
     "execution_count": 56,
     "metadata": {},
     "output_type": "execute_result"
    }
   ],
   "source": [
    "accuracy_score(y_test, y_pred)"
   ]
  },
  {
   "cell_type": "code",
   "execution_count": 57,
   "metadata": {},
   "outputs": [
    {
     "data": {
      "text/plain": [
       "-0.16647350993377508"
      ]
     },
     "execution_count": 57,
     "metadata": {},
     "output_type": "execute_result"
    }
   ],
   "source": [
    "r2_score(y_test, y_pred)"
   ]
  },
  {
   "cell_type": "code",
   "execution_count": 58,
   "metadata": {},
   "outputs": [
    {
     "data": {
      "text/plain": [
       "array([[116,  35],\n",
       "       [ 26,  54]], dtype=int64)"
      ]
     },
     "execution_count": 58,
     "metadata": {},
     "output_type": "execute_result"
    }
   ],
   "source": [
    "confusion_matrix(y_test, y_pred)"
   ]
  },
  {
   "cell_type": "code",
   "execution_count": 59,
   "metadata": {},
   "outputs": [
    {
     "name": "stdout",
     "output_type": "stream",
     "text": [
      "              precision    recall  f1-score   support\n",
      "\n",
      "           0       0.82      0.77      0.79       151\n",
      "           1       0.61      0.68      0.64        80\n",
      "\n",
      "    accuracy                           0.74       231\n",
      "   macro avg       0.71      0.72      0.72       231\n",
      "weighted avg       0.74      0.74      0.74       231\n",
      "\n"
     ]
    }
   ],
   "source": [
    "print(classification_report(y_test, y_pred))"
   ]
  },
  {
   "cell_type": "code",
   "execution_count": 60,
   "metadata": {},
   "outputs": [
    {
     "data": {
      "text/plain": [
       "array([[2.86711514e-01, 7.13288486e-01],\n",
       "       [9.35198545e-01, 6.48014322e-02],\n",
       "       [9.69252884e-01, 3.07471156e-02],\n",
       "       [9.05433238e-01, 9.45667773e-02],\n",
       "       [8.55554700e-01, 1.44445285e-01],\n",
       "       [1.83682442e-01, 8.16317558e-01],\n",
       "       [9.99794304e-01, 2.05702978e-04],\n",
       "       [3.64508033e-02, 9.63549197e-01],\n",
       "       [2.49039948e-01, 7.50960052e-01],\n",
       "       [6.02806568e-01, 3.97193432e-01],\n",
       "       [9.41632152e-01, 5.83678260e-02],\n",
       "       [1.30645633e-02, 9.86935437e-01],\n",
       "       [9.73568857e-01, 2.64311563e-02],\n",
       "       [8.85742247e-01, 1.14257768e-01],\n",
       "       [9.99483824e-01, 5.16197993e-04],\n",
       "       [6.49103880e-01, 3.50896120e-01],\n",
       "       [9.94587541e-01, 5.41247474e-03],\n",
       "       [9.99858558e-01, 1.41437515e-04],\n",
       "       [2.29358733e-01, 7.70641267e-01],\n",
       "       [3.98710072e-01, 6.01289928e-01],\n",
       "       [5.09828210e-01, 4.90171790e-01],\n",
       "       [9.97552752e-01, 2.44723447e-03],\n",
       "       [9.38261390e-01, 6.17386177e-02],\n",
       "       [9.99914825e-01, 8.51854275e-05],\n",
       "       [3.14296782e-01, 6.85703218e-01],\n",
       "       [1.99097395e-03, 9.98009026e-01],\n",
       "       [9.86598611e-01, 1.34013761e-02],\n",
       "       [9.98977959e-01, 1.02204061e-03],\n",
       "       [9.96479869e-01, 3.52014019e-03],\n",
       "       [9.71903503e-01, 2.80965064e-02],\n",
       "       [6.53463602e-03, 9.93465364e-01],\n",
       "       [6.31528497e-02, 9.36847150e-01],\n",
       "       [7.67102838e-02, 9.23289716e-01],\n",
       "       [2.18423009e-02, 9.78157699e-01],\n",
       "       [2.40606725e-01, 7.59393275e-01],\n",
       "       [2.42576182e-01, 7.57423818e-01],\n",
       "       [1.11049414e-03, 9.98889506e-01],\n",
       "       [9.20986593e-01, 7.90134072e-02],\n",
       "       [9.94213223e-01, 5.78674721e-03],\n",
       "       [1.70659423e-02, 9.82934058e-01],\n",
       "       [9.97816682e-01, 2.18329811e-03],\n",
       "       [7.02048063e-01, 2.97951907e-01],\n",
       "       [1.34093821e-01, 8.65906179e-01],\n",
       "       [7.37848282e-01, 2.62151748e-01],\n",
       "       [9.97877181e-01, 2.12280359e-03],\n",
       "       [1.37051284e-01, 8.62948716e-01],\n",
       "       [3.73748839e-01, 6.26251161e-01],\n",
       "       [9.60277259e-01, 3.97227332e-02],\n",
       "       [9.86478865e-01, 1.35211414e-02],\n",
       "       [1.11113191e-02, 9.88888681e-01],\n",
       "       [9.99674439e-01, 3.25582630e-04],\n",
       "       [3.24515700e-02, 9.67548430e-01],\n",
       "       [8.33572149e-02, 9.16642785e-01],\n",
       "       [9.12392437e-01, 8.76075849e-02],\n",
       "       [9.96794462e-01, 3.20552452e-03],\n",
       "       [9.99777079e-01, 2.22895062e-04],\n",
       "       [8.76038074e-02, 9.12396193e-01],\n",
       "       [9.96438384e-01, 3.56159662e-03],\n",
       "       [9.57824171e-01, 4.21758331e-02],\n",
       "       [2.16261148e-02, 9.78373885e-01],\n",
       "       [1.64913118e-01, 8.35086882e-01],\n",
       "       [9.35200870e-01, 6.47991076e-02],\n",
       "       [8.76707911e-01, 1.23292111e-01],\n",
       "       [8.49122167e-01, 1.50877833e-01],\n",
       "       [9.98170435e-01, 1.82953582e-03],\n",
       "       [8.30615163e-02, 9.16938484e-01],\n",
       "       [9.97691154e-01, 2.30885134e-03],\n",
       "       [1.76674366e-01, 8.23325634e-01],\n",
       "       [9.98080492e-01, 1.91950053e-03],\n",
       "       [1.29231811e-02, 9.87076819e-01],\n",
       "       [1.97904527e-01, 8.02095473e-01],\n",
       "       [9.95959163e-01, 4.04083822e-03],\n",
       "       [9.99136329e-01, 8.63685622e-04],\n",
       "       [9.99749720e-01, 2.50272162e-04],\n",
       "       [9.50258255e-01, 4.97417524e-02],\n",
       "       [6.75283015e-01, 3.24716985e-01],\n",
       "       [9.41832483e-01, 5.81675284e-02],\n",
       "       [9.99032497e-01, 9.67529195e-04],\n",
       "       [9.87582505e-01, 1.24174794e-02],\n",
       "       [9.88383412e-01, 1.16166174e-02],\n",
       "       [6.48391247e-03, 9.93516088e-01],\n",
       "       [9.18744504e-01, 8.12555179e-02],\n",
       "       [9.85845447e-01, 1.41545366e-02],\n",
       "       [7.42710590e-01, 2.57289410e-01],\n",
       "       [9.36249316e-01, 6.37506768e-02],\n",
       "       [8.96513462e-04, 9.99103487e-01],\n",
       "       [1.20904982e-01, 8.79095018e-01],\n",
       "       [9.06137168e-01, 9.38628167e-02],\n",
       "       [9.12214756e-01, 8.77852291e-02],\n",
       "       [9.99169409e-01, 8.30600096e-04],\n",
       "       [9.99596357e-01, 4.03614686e-04],\n",
       "       [9.17965949e-01, 8.20340291e-02],\n",
       "       [9.98450398e-01, 1.54959236e-03],\n",
       "       [1.00481987e-01, 8.99518013e-01],\n",
       "       [3.13714206e-01, 6.86285794e-01],\n",
       "       [1.10234559e-01, 8.89765441e-01],\n",
       "       [1.20646358e-01, 8.79353642e-01],\n",
       "       [9.99258935e-01, 7.41089811e-04],\n",
       "       [1.49250746e-01, 8.50749254e-01],\n",
       "       [9.88952935e-01, 1.10470904e-02],\n",
       "       [1.86324120e-03, 9.98136759e-01],\n",
       "       [9.99862850e-01, 1.37174677e-04],\n",
       "       [4.73269343e-01, 5.26730657e-01],\n",
       "       [5.06278992e-01, 4.93720978e-01],\n",
       "       [2.82581449e-02, 9.71741855e-01],\n",
       "       [9.12521005e-01, 8.74789730e-02],\n",
       "       [9.82866824e-01, 1.71331652e-02],\n",
       "       [6.05791807e-03, 9.93942082e-01],\n",
       "       [9.92442548e-01, 7.55744847e-03],\n",
       "       [1.46485567e-02, 9.85351443e-01],\n",
       "       [9.99427497e-01, 5.72518737e-04],\n",
       "       [6.78477287e-02, 9.32152271e-01],\n",
       "       [9.54685330e-01, 4.53146920e-02],\n",
       "       [2.47353315e-03, 9.97526467e-01],\n",
       "       [4.38669622e-01, 5.61330378e-01],\n",
       "       [2.28512883e-01, 7.71487117e-01],\n",
       "       [1.74469948e-02, 9.82553005e-01],\n",
       "       [4.91819441e-01, 5.08180559e-01],\n",
       "       [9.96342123e-01, 3.65787884e-03],\n",
       "       [1.30736530e-01, 8.69263470e-01],\n",
       "       [9.98797238e-01, 1.20277889e-03],\n",
       "       [8.48863959e-01, 1.51136011e-01],\n",
       "       [9.25083995e-01, 7.49160275e-02],\n",
       "       [9.98394370e-01, 1.60563493e-03],\n",
       "       [9.65715170e-01, 3.42848524e-02],\n",
       "       [5.45130014e-01, 4.54869956e-01],\n",
       "       [9.59654331e-01, 4.03456725e-02],\n",
       "       [4.24692631e-02, 9.57530737e-01],\n",
       "       [7.58796930e-03, 9.92412031e-01],\n",
       "       [1.78039908e-01, 8.21960092e-01],\n",
       "       [1.54222250e-01, 8.45777750e-01],\n",
       "       [1.80185854e-01, 8.19814146e-01],\n",
       "       [9.75159943e-01, 2.48400308e-02],\n",
       "       [6.08336508e-01, 3.91663492e-01],\n",
       "       [3.11138749e-01, 6.88861251e-01],\n",
       "       [5.57335556e-01, 4.42664444e-01],\n",
       "       [9.91474450e-01, 8.52552801e-03],\n",
       "       [1.44063830e-02, 9.85593617e-01],\n",
       "       [1.00533009e-01, 8.99466991e-01],\n",
       "       [9.98411655e-01, 1.58834539e-03],\n",
       "       [9.98960733e-01, 1.03925657e-03],\n",
       "       [9.99473989e-01, 5.25996322e-04],\n",
       "       [9.94242430e-01, 5.75755164e-03],\n",
       "       [6.38071299e-01, 3.61928672e-01],\n",
       "       [9.92504239e-01, 7.49573112e-03],\n",
       "       [1.26554668e-01, 8.73445332e-01],\n",
       "       [9.88838553e-01, 1.11614354e-02],\n",
       "       [9.99239862e-01, 7.60116323e-04],\n",
       "       [7.52719700e-01, 2.47280285e-01],\n",
       "       [1.11935616e-01, 8.88064384e-01],\n",
       "       [9.99085367e-01, 9.14650271e-04],\n",
       "       [8.94652665e-01, 1.05347350e-01],\n",
       "       [5.75804710e-01, 4.24195290e-01],\n",
       "       [7.05584764e-01, 2.94415236e-01],\n",
       "       [9.98459280e-01, 1.54070137e-03],\n",
       "       [1.81728721e-01, 8.18271279e-01],\n",
       "       [8.89331818e-01, 1.10668175e-01],\n",
       "       [1.33351147e-01, 8.66648853e-01],\n",
       "       [1.37639284e-01, 8.62360716e-01],\n",
       "       [9.91033018e-01, 8.96696467e-03],\n",
       "       [2.95172870e-01, 7.04827130e-01],\n",
       "       [1.47028387e-01, 8.52971613e-01],\n",
       "       [9.83591199e-01, 1.64088104e-02],\n",
       "       [9.99576390e-01, 4.23604797e-04],\n",
       "       [9.71575797e-01, 2.84241773e-02],\n",
       "       [2.21061707e-03, 9.97789383e-01],\n",
       "       [9.99767542e-01, 2.32472157e-04],\n",
       "       [9.53773022e-01, 4.62269858e-02],\n",
       "       [6.31471276e-02, 9.36852872e-01],\n",
       "       [2.45437205e-01, 7.54562795e-01],\n",
       "       [2.09258735e-01, 7.90741265e-01],\n",
       "       [9.97907162e-01, 2.09283829e-03],\n",
       "       [6.57624006e-02, 9.34237599e-01],\n",
       "       [2.57696271e-01, 7.42303729e-01],\n",
       "       [1.10714436e-02, 9.88928556e-01],\n",
       "       [9.91125047e-01, 8.87496956e-03],\n",
       "       [3.77074718e-01, 6.22925282e-01],\n",
       "       [2.96093404e-01, 7.03906596e-01],\n",
       "       [3.67879152e-01, 6.32120848e-01],\n",
       "       [7.47066855e-01, 2.52933145e-01],\n",
       "       [9.26157951e-01, 7.38420412e-02],\n",
       "       [8.48901391e-01, 1.51098594e-01],\n",
       "       [7.35617518e-01, 2.64382482e-01],\n",
       "       [5.18034101e-02, 9.48196590e-01],\n",
       "       [1.21462345e-01, 8.78537655e-01],\n",
       "       [9.99321997e-01, 6.78005337e-04],\n",
       "       [9.98837471e-01, 1.16254610e-03],\n",
       "       [9.98176754e-01, 1.82324823e-03],\n",
       "       [3.38815093e-01, 6.61184907e-01],\n",
       "       [3.35081935e-01, 6.64918065e-01],\n",
       "       [9.96891022e-01, 3.10896570e-03],\n",
       "       [9.95266557e-01, 4.73344559e-03],\n",
       "       [2.53991485e-02, 9.74600852e-01],\n",
       "       [8.66323590e-01, 1.33676395e-01],\n",
       "       [9.45729136e-01, 5.42708337e-02],\n",
       "       [9.98821378e-01, 1.17864064e-03],\n",
       "       [9.97596920e-01, 2.40305881e-03],\n",
       "       [9.99846518e-01, 1.53510715e-04],\n",
       "       [9.83174443e-01, 1.68255381e-02],\n",
       "       [5.17004728e-03, 9.94829953e-01],\n",
       "       [9.81296301e-01, 1.87037084e-02],\n",
       "       [9.97789502e-01, 2.21048924e-03],\n",
       "       [8.65850508e-01, 1.34149492e-01],\n",
       "       [9.19878125e-01, 8.01218450e-02],\n",
       "       [1.07829392e-01, 8.92170608e-01],\n",
       "       [9.95637894e-01, 4.36210679e-03],\n",
       "       [9.89788592e-01, 1.02113914e-02],\n",
       "       [9.18660045e-01, 8.13399404e-02],\n",
       "       [3.37459445e-02, 9.66254056e-01],\n",
       "       [9.51804996e-01, 4.81949858e-02],\n",
       "       [5.50861478e-01, 4.49138492e-01],\n",
       "       [9.92100060e-01, 7.89992977e-03],\n",
       "       [9.98265982e-01, 1.73399167e-03],\n",
       "       [9.90727365e-01, 9.27262101e-03],\n",
       "       [2.02419877e-01, 7.97580123e-01],\n",
       "       [9.92497683e-01, 7.50233559e-03],\n",
       "       [2.71555781e-02, 9.72844422e-01],\n",
       "       [1.31444037e-01, 8.68555963e-01],\n",
       "       [8.91909719e-01, 1.08090311e-01],\n",
       "       [1.60944462e-03, 9.98390555e-01],\n",
       "       [2.76381969e-02, 9.72361803e-01],\n",
       "       [9.58858669e-01, 4.11413573e-02],\n",
       "       [9.98907447e-01, 1.09252660e-03],\n",
       "       [9.93847370e-01, 6.15263917e-03],\n",
       "       [9.87305224e-01, 1.26947565e-02],\n",
       "       [6.78175688e-03, 9.93218243e-01],\n",
       "       [8.28637362e-01, 1.71362653e-01],\n",
       "       [9.56368804e-01, 4.36311737e-02],\n",
       "       [9.69523609e-01, 3.04763988e-02],\n",
       "       [9.29980576e-01, 7.00194165e-02],\n",
       "       [9.96715248e-01, 3.28474352e-03]], dtype=float32)"
      ]
     },
     "execution_count": 60,
     "metadata": {},
     "output_type": "execute_result"
    }
   ],
   "source": [
    "xgb_model.predict_proba(X_test)"
   ]
  },
  {
   "cell_type": "code",
   "execution_count": 61,
   "metadata": {},
   "outputs": [
    {
     "data": {
      "image/png": "[encoded data removed]",
      "text/plain": [
       "<Figure size 720x720 with 1 Axes>"
      ]
     },
     "metadata": {
      "needs_background": "light"
     },
     "output_type": "display_data"
    }
   ],
   "source": [
    "logit_roc_auc = roc_auc_score(y_test, xgb_model.predict(X_test))\n",
    "fpr, tpr, thresholds = roc_curve(y_test, xgb_model.predict_proba(X_test)[:,1])\n",
    "plt.figure(figsize=(10, 10))\n",
    "plt.plot(fpr, tpr, label=\"AUC (area = %.2f)\" % logit_roc_auc)\n",
    "plt.plot([0, 1], [0, 1], \"r--\")\n",
    "plt.xlim([.0, 1.0])\n",
    "plt.ylim([.0, 1.05])\n",
    "plt.xlabel(\"False Positive Rate\")\n",
    "plt.ylabel(\"True Positive Rate\")\n",
    "plt.title(\"Receiver Operating Characteristic\")\n",
    "plt.legend(loc=\"lower right\")\n",
    "plt.savefig(\"GBM_ROC\")\n",
    "plt.grid(1)\n",
    "plt.show()"
   ]
  },
  {
   "cell_type": "code",
   "execution_count": 62,
   "metadata": {},
   "outputs": [
    {
     "data": {
      "image/png": "[encoded data removed]",
      "text/plain": [
       "<Figure size 1440x360 with 1 Axes>"
      ]
     },
     "metadata": {
      "needs_background": "light"
     },
     "output_type": "display_data"
    }
   ],
   "source": [
    "feature_imp = pd.Series(xgb_model.feature_importances_,\n",
    "                        index=X_train.columns).sort_values(ascending=False)\n",
    "plt.figure(figsize=(20,5))\n",
    "sns.barplot(x=feature_imp, y=feature_imp.index)\n",
    "plt.xlabel(\"Değişken Önem Skorları\")\n",
    "plt.ylabel(\"Değişkenler\")\n",
    "plt.title(\"Değişken Önem Düzeyleri\");"
   ]
  },
  {
   "cell_type": "markdown",
   "metadata": {},
   "source": [
    "### MODEL TUNING"
   ]
  },
  {
   "cell_type": "code",
   "execution_count": 27,
   "metadata": {},
   "outputs": [],
   "source": [
    "xgb_model = XGBClassifier()"
   ]
  },
  {
   "cell_type": "code",
   "execution_count": 28,
   "metadata": {},
   "outputs": [],
   "source": [
    "xgb_params = {\"n_estimators\": [100, 200, 500, 1000, 2000],\n",
    "              \"subsample\": [.6, .8, 1],\n",
    "              \"max_depth\": [3, 5, 7],\n",
    "              \"learning_rate\": [.1, .01, .001, .0001, .00001]}"
   ]
  },
  {
   "cell_type": "code",
   "execution_count": 29,
   "metadata": {},
   "outputs": [
    {
     "name": "stdout",
     "output_type": "stream",
     "text": [
      "Fitting 10 folds for each of 225 candidates, totalling 2250 fits\n"
     ]
    },
    {
     "name": "stderr",
     "output_type": "stream",
     "text": [
      "[Parallel(n_jobs=-1)]: Using backend LokyBackend with 2 concurrent workers.\n",
      "[Parallel(n_jobs=-1)]: Done  40 tasks      | elapsed:   11.3s\n",
      "[Parallel(n_jobs=-1)]: Done 196 tasks      | elapsed:   47.3s\n",
      "[Parallel(n_jobs=-1)]: Done 399 tasks      | elapsed:  1.8min\n",
      "[Parallel(n_jobs=-1)]: Done 682 tasks      | elapsed:  3.4min\n",
      "[Parallel(n_jobs=-1)]: Done 1047 tasks      | elapsed:  5.9min\n",
      "[Parallel(n_jobs=-1)]: Done 1492 tasks      | elapsed:  8.6min\n",
      "[Parallel(n_jobs=-1)]: Done 2057 tasks      | elapsed: 11.8min\n",
      "[Parallel(n_jobs=-1)]: Done 2250 out of 2250 | elapsed: 13.5min finished\n"
     ]
    }
   ],
   "source": [
    "xgb_cv_model = GridSearchCV(xgb_model, xgb_params, cv=10, verbose=2, n_jobs=-1).fit(X_train, y_train)"
   ]
  },
  {
   "cell_type": "code",
   "execution_count": 30,
   "metadata": {},
   "outputs": [
    {
     "data": {
      "text/plain": [
       "{'learning_rate': 1e-05,\n",
       " 'max_depth': 7,\n",
       " 'n_estimators': 1000,\n",
       " 'subsample': 0.6}"
      ]
     },
     "execution_count": 30,
     "metadata": {},
     "output_type": "execute_result"
    }
   ],
   "source": [
    "xgb_cv_model.best_params_"
   ]
  },
  {
   "cell_type": "code",
   "execution_count": 31,
   "metadata": {},
   "outputs": [
    {
     "data": {
      "text/plain": [
       "0.7819357092941999"
      ]
     },
     "execution_count": 31,
     "metadata": {},
     "output_type": "execute_result"
    }
   ],
   "source": [
    "xgb_cv_model.best_score_"
   ]
  },
  {
   "cell_type": "code",
   "execution_count": 32,
   "metadata": {},
   "outputs": [],
   "source": [
    "xgb_tuned = XGBClassifier(n_estimators=xgb_cv_model.best_params_.get(\"n_estimators\"),\n",
    "                          subsample=xgb_cv_model.best_params_.get(\"subsample\"),\n",
    "                          max_depth=xgb_cv_model.best_params_.get(\"max_depth\"),\n",
    "                          learning_rate=xgb_cv_model.best_params_.get(\"learning_rate\"),).fit(X_train,\n",
    "                                                                                             y_train)"
   ]
  },
  {
   "cell_type": "code",
   "execution_count": 33,
   "metadata": {},
   "outputs": [],
   "source": [
    "y_pred = xgb_tuned.predict(X_test)"
   ]
  },
  {
   "cell_type": "code",
   "execution_count": 34,
   "metadata": {},
   "outputs": [
    {
     "data": {
      "text/plain": [
       "0.49236596391733095"
      ]
     },
     "execution_count": 34,
     "metadata": {},
     "output_type": "execute_result"
    }
   ],
   "source": [
    "RMSE = np.sqrt(mean_squared_error(y_test, y_pred))\n",
    "RMSE"
   ]
  },
  {
   "cell_type": "code",
   "execution_count": 35,
   "metadata": {},
   "outputs": [
    {
     "data": {
      "text/plain": [
       "0.7575757575757576"
      ]
     },
     "execution_count": 35,
     "metadata": {},
     "output_type": "execute_result"
    }
   ],
   "source": [
    "accuracy_score(y_test, y_pred)"
   ]
  },
  {
   "cell_type": "code",
   "execution_count": 36,
   "metadata": {},
   "outputs": [
    {
     "data": {
      "text/plain": [
       "-0.07086092715231818"
      ]
     },
     "execution_count": 36,
     "metadata": {},
     "output_type": "execute_result"
    }
   ],
   "source": [
    "r2_score(y_test, y_pred)"
   ]
  },
  {
   "cell_type": "code",
   "execution_count": 37,
   "metadata": {},
   "outputs": [
    {
     "data": {
      "text/plain": [
       "array([[121,  30],\n",
       "       [ 26,  54]], dtype=int64)"
      ]
     },
     "execution_count": 37,
     "metadata": {},
     "output_type": "execute_result"
    }
   ],
   "source": [
    "confusion_matrix(y_test, y_pred)"
   ]
  },
  {
   "cell_type": "code",
   "execution_count": 38,
   "metadata": {},
   "outputs": [
    {
     "name": "stdout",
     "output_type": "stream",
     "text": [
      "              precision    recall  f1-score   support\n",
      "\n",
      "           0       0.82      0.80      0.81       151\n",
      "           1       0.64      0.68      0.66        80\n",
      "\n",
      "    accuracy                           0.76       231\n",
      "   macro avg       0.73      0.74      0.74       231\n",
      "weighted avg       0.76      0.76      0.76       231\n",
      "\n"
     ]
    }
   ],
   "source": [
    "print(classification_report(y_test, y_pred))"
   ]
  },
  {
   "cell_type": "code",
   "execution_count": 39,
   "metadata": {
    "collapsed": true,
    "jupyter": {
     "outputs_hidden": true
    }
   },
   "outputs": [
    {
     "data": {
      "text/plain": [
       "array([[0.5001975 , 0.4998025 ],\n",
       "       [0.5037015 , 0.4962985 ],\n",
       "       [0.50414723, 0.49585277],\n",
       "       [0.5032978 , 0.49670216],\n",
       "       [0.50095165, 0.49904838],\n",
       "       [0.49917674, 0.50082326],\n",
       "       [0.5044681 , 0.49553192],\n",
       "       [0.49838203, 0.50161797],\n",
       "       [0.49909824, 0.50090176],\n",
       "       [0.49893826, 0.50106174],\n",
       "       [0.5012226 , 0.49877742],\n",
       "       [0.4967422 , 0.5032578 ],\n",
       "       [0.50080705, 0.49919295],\n",
       "       [0.500512  , 0.499488  ],\n",
       "       [0.5043285 , 0.4956715 ],\n",
       "       [0.5020344 , 0.49796554],\n",
       "       [0.5042135 , 0.4957865 ],\n",
       "       [0.5043116 , 0.49568838],\n",
       "       [0.49840063, 0.5015994 ],\n",
       "       [0.499389  , 0.500611  ],\n",
       "       [0.5004742 , 0.49952582],\n",
       "       [0.5035738 , 0.4964262 ],\n",
       "       [0.50089073, 0.4991093 ],\n",
       "       [0.5044079 , 0.4955921 ],\n",
       "       [0.49894536, 0.50105464],\n",
       "       [0.4959188 , 0.5040812 ],\n",
       "       [0.5041981 , 0.4958019 ],\n",
       "       [0.5044312 , 0.4955688 ],\n",
       "       [0.5025735 , 0.49742648],\n",
       "       [0.5027032 , 0.49729684],\n",
       "       [0.49685508, 0.5031449 ],\n",
       "       [0.49764723, 0.5023528 ],\n",
       "       [0.49687135, 0.50312865],\n",
       "       [0.49635202, 0.503648  ],\n",
       "       [0.4998827 , 0.5001173 ],\n",
       "       [0.49866366, 0.50133634],\n",
       "       [0.49632257, 0.5036774 ],\n",
       "       [0.50029737, 0.49970263],\n",
       "       [0.5021918 , 0.49780822],\n",
       "       [0.49946237, 0.50053763],\n",
       "       [0.5043515 , 0.4956485 ],\n",
       "       [0.5018604 , 0.49813965],\n",
       "       [0.49876523, 0.50123477],\n",
       "       [0.49955946, 0.50044054],\n",
       "       [0.5042669 , 0.49573308],\n",
       "       [0.49718928, 0.5028107 ],\n",
       "       [0.49886394, 0.50113606],\n",
       "       [0.5040747 , 0.49592528],\n",
       "       [0.503291  , 0.496709  ],\n",
       "       [0.49653953, 0.50346047],\n",
       "       [0.50444883, 0.49555117],\n",
       "       [0.49812734, 0.50187266],\n",
       "       [0.49821657, 0.50178343],\n",
       "       [0.50198495, 0.49801508],\n",
       "       [0.5023376 , 0.49766243],\n",
       "       [0.5044079 , 0.49559215],\n",
       "       [0.49794972, 0.5020503 ],\n",
       "       [0.5044354 , 0.49556458],\n",
       "       [0.50326216, 0.4967378 ],\n",
       "       [0.4967022 , 0.5032978 ],\n",
       "       [0.49863267, 0.50136733],\n",
       "       [0.50344706, 0.4965529 ],\n",
       "       [0.5025708 , 0.4974292 ],\n",
       "       [0.5015675 , 0.49843255],\n",
       "       [0.5042918 , 0.4957082 ],\n",
       "       [0.49900687, 0.50099313],\n",
       "       [0.5044488 , 0.49555123],\n",
       "       [0.5002209 , 0.49977908],\n",
       "       [0.5043665 , 0.4956335 ],\n",
       "       [0.49684614, 0.50315386],\n",
       "       [0.498568  , 0.501432  ],\n",
       "       [0.5028784 , 0.49712154],\n",
       "       [0.50354934, 0.49645063],\n",
       "       [0.504364  , 0.49563602],\n",
       "       [0.50376534, 0.49623463],\n",
       "       [0.5007802 , 0.4992198 ],\n",
       "       [0.50316   , 0.49684   ],\n",
       "       [0.50352913, 0.49647087],\n",
       "       [0.50390124, 0.4960988 ],\n",
       "       [0.5027067 , 0.4972933 ],\n",
       "       [0.49663067, 0.50336933],\n",
       "       [0.50388074, 0.49611923],\n",
       "       [0.5026343 , 0.4973657 ],\n",
       "       [0.4998755 , 0.5001245 ],\n",
       "       [0.503399  , 0.49660102],\n",
       "       [0.49596238, 0.5040376 ],\n",
       "       [0.49903518, 0.5009648 ],\n",
       "       [0.5001323 , 0.4998677 ],\n",
       "       [0.5019343 , 0.4980657 ],\n",
       "       [0.50438094, 0.49561903],\n",
       "       [0.50426507, 0.4957349 ],\n",
       "       [0.50290215, 0.49709788],\n",
       "       [0.50444245, 0.49555755],\n",
       "       [0.49964994, 0.50035006],\n",
       "       [0.50243115, 0.49756882],\n",
       "       [0.49886054, 0.50113946],\n",
       "       [0.4989949 , 0.5010051 ],\n",
       "       [0.5041372 , 0.49586278],\n",
       "       [0.49761075, 0.50238925],\n",
       "       [0.5027161 , 0.49728388],\n",
       "       [0.4963171 , 0.5036829 ],\n",
       "       [0.50434613, 0.49565384],\n",
       "       [0.49976248, 0.5002375 ],\n",
       "       [0.49904484, 0.50095516],\n",
       "       [0.49666363, 0.50333637],\n",
       "       [0.5029478 , 0.49705216],\n",
       "       [0.50174546, 0.49825457],\n",
       "       [0.49618024, 0.50381976],\n",
       "       [0.50403214, 0.49596786],\n",
       "       [0.49841523, 0.50158477],\n",
       "       [0.5044222 , 0.4955778 ],\n",
       "       [0.499007  , 0.500993  ],\n",
       "       [0.5038909 , 0.49610913],\n",
       "       [0.4966718 , 0.5033282 ],\n",
       "       [0.5032761 , 0.49672392],\n",
       "       [0.5025298 , 0.4974702 ],\n",
       "       [0.49734724, 0.50265276],\n",
       "       [0.50145674, 0.49854323],\n",
       "       [0.5042696 , 0.4957304 ],\n",
       "       [0.5006737 , 0.4993263 ],\n",
       "       [0.5044447 , 0.49555528],\n",
       "       [0.5027875 , 0.49721253],\n",
       "       [0.5016726 , 0.49832737],\n",
       "       [0.50427914, 0.49572083],\n",
       "       [0.5012086 , 0.4987914 ],\n",
       "       [0.50012934, 0.49987063],\n",
       "       [0.5032388 , 0.49676123],\n",
       "       [0.4977234 , 0.5022766 ],\n",
       "       [0.49757332, 0.5024267 ],\n",
       "       [0.49850768, 0.5014923 ],\n",
       "       [0.49848193, 0.5015181 ],\n",
       "       [0.4987486 , 0.5012514 ],\n",
       "       [0.5040592 , 0.49594077],\n",
       "       [0.5012781 , 0.4987219 ],\n",
       "       [0.49752414, 0.50247586],\n",
       "       [0.5007945 , 0.49920553],\n",
       "       [0.5034721 , 0.49652794],\n",
       "       [0.49711126, 0.50288874],\n",
       "       [0.49796128, 0.5020387 ],\n",
       "       [0.504467  , 0.49553296],\n",
       "       [0.50425243, 0.49574757],\n",
       "       [0.50445986, 0.4955401 ],\n",
       "       [0.5025883 , 0.49741173],\n",
       "       [0.49962312, 0.5003769 ],\n",
       "       [0.50412107, 0.4958789 ],\n",
       "       [0.5013428 , 0.49865726],\n",
       "       [0.50229836, 0.49770164],\n",
       "       [0.5044664 , 0.49553356],\n",
       "       [0.50072753, 0.49927247],\n",
       "       [0.4966278 , 0.5033722 ],\n",
       "       [0.50406885, 0.49593115],\n",
       "       [0.50077474, 0.49922526],\n",
       "       [0.50096893, 0.4990311 ],\n",
       "       [0.50118   , 0.49882   ],\n",
       "       [0.50444573, 0.49555427],\n",
       "       [0.4992776 , 0.5007224 ],\n",
       "       [0.50158155, 0.49841845],\n",
       "       [0.49894977, 0.50105023],\n",
       "       [0.49947536, 0.50052464],\n",
       "       [0.5029764 , 0.49702358],\n",
       "       [0.5010338 , 0.49896622],\n",
       "       [0.49849212, 0.5015079 ],\n",
       "       [0.5031576 , 0.4968424 ],\n",
       "       [0.50445974, 0.49554023],\n",
       "       [0.5038343 , 0.4961657 ],\n",
       "       [0.49647206, 0.50352794],\n",
       "       [0.5044408 , 0.4955592 ],\n",
       "       [0.5014994 , 0.49850056],\n",
       "       [0.49653554, 0.50346446],\n",
       "       [0.49905455, 0.50094545],\n",
       "       [0.49899173, 0.5010083 ],\n",
       "       [0.5040846 , 0.49591544],\n",
       "       [0.4993633 , 0.5006367 ],\n",
       "       [0.50155604, 0.498444  ],\n",
       "       [0.49742788, 0.5025721 ],\n",
       "       [0.5041376 , 0.49586242],\n",
       "       [0.49934018, 0.5006598 ],\n",
       "       [0.50004935, 0.49995065],\n",
       "       [0.499031  , 0.500969  ],\n",
       "       [0.49906427, 0.50093573],\n",
       "       [0.5011018 , 0.4988982 ],\n",
       "       [0.50043344, 0.49956658],\n",
       "       [0.5005442 , 0.4994558 ],\n",
       "       [0.49886835, 0.50113165],\n",
       "       [0.4983304 , 0.5016696 ],\n",
       "       [0.50433993, 0.49566004],\n",
       "       [0.5041829 , 0.49581712],\n",
       "       [0.50427353, 0.49572647],\n",
       "       [0.49891722, 0.5010828 ],\n",
       "       [0.49889964, 0.50110036],\n",
       "       [0.5043627 , 0.49563733],\n",
       "       [0.50439715, 0.49560288],\n",
       "       [0.49754584, 0.50245416],\n",
       "       [0.5018812 , 0.49811882],\n",
       "       [0.502394  , 0.49760598],\n",
       "       [0.5042449 , 0.49575508],\n",
       "       [0.50442445, 0.49557558],\n",
       "       [0.50445604, 0.495544  ],\n",
       "       [0.50395817, 0.49604183],\n",
       "       [0.49637234, 0.50362766],\n",
       "       [0.502141  , 0.49785903],\n",
       "       [0.5041628 , 0.49583724],\n",
       "       [0.5010562 , 0.49894378],\n",
       "       [0.50308025, 0.49691978],\n",
       "       [0.49786198, 0.502138  ],\n",
       "       [0.50432193, 0.49567807],\n",
       "       [0.5043423 , 0.49565768],\n",
       "       [0.5020822 , 0.49791777],\n",
       "       [0.49686873, 0.5031313 ],\n",
       "       [0.50140584, 0.49859414],\n",
       "       [0.5003105 , 0.49968952],\n",
       "       [0.50399756, 0.49600247],\n",
       "       [0.50430167, 0.49569836],\n",
       "       [0.5036987 , 0.49630132],\n",
       "       [0.49952132, 0.5004787 ],\n",
       "       [0.5038016 , 0.4961984 ],\n",
       "       [0.49783593, 0.50216407],\n",
       "       [0.49902147, 0.5009785 ],\n",
       "       [0.50101507, 0.49898496],\n",
       "       [0.49638903, 0.50361097],\n",
       "       [0.49761778, 0.5023822 ],\n",
       "       [0.5018929 , 0.4981071 ],\n",
       "       [0.5043231 , 0.4956769 ],\n",
       "       [0.5040262 , 0.49597386],\n",
       "       [0.50367343, 0.49632657],\n",
       "       [0.4979424 , 0.5020576 ],\n",
       "       [0.50337493, 0.49662507],\n",
       "       [0.5028345 , 0.4971655 ],\n",
       "       [0.5025351 , 0.49746493],\n",
       "       [0.5009335 , 0.4990665 ],\n",
       "       [0.50254947, 0.49745053]], dtype=float32)"
      ]
     },
     "execution_count": 39,
     "metadata": {},
     "output_type": "execute_result"
    }
   ],
   "source": [
    "xgb_tuned.predict_proba(X_test)"
   ]
  },
  {
   "cell_type": "code",
   "execution_count": 40,
   "metadata": {},
   "outputs": [
    {
     "data": {
      "image/png": "[encoded data removed]",
      "text/plain": [
       "<Figure size 720x720 with 1 Axes>"
      ]
     },
     "metadata": {
      "needs_background": "light"
     },
     "output_type": "display_data"
    }
   ],
   "source": [
    "logit_roc_auc = roc_auc_score(y_test, xgb_tuned.predict(X_test))\n",
    "fpr, tpr, thresholds = roc_curve(y_test, xgb_tuned.predict_proba(X_test)[:,1])\n",
    "plt.figure(figsize=(10, 10))\n",
    "plt.plot(fpr, tpr, label=\"AUC (area = %.2f)\" % logit_roc_auc)\n",
    "plt.plot([0, 1], [0, 1], \"r--\")\n",
    "plt.xlim([.0, 1.0])\n",
    "plt.ylim([.0, 1.05])\n",
    "plt.xlabel(\"False Positive Rate\")\n",
    "plt.ylabel(\"True Positive Rate\")\n",
    "plt.title(\"Receiver Operating Characteristic\")\n",
    "plt.legend(loc=\"lower right\")\n",
    "plt.savefig(\"GBM_ROC\")\n",
    "plt.grid(1)\n",
    "plt.show()"
   ]
  },
  {
   "cell_type": "code",
   "execution_count": 41,
   "metadata": {},
   "outputs": [
    {
     "data": {
      "image/png": "[encoded data removed]",
      "text/plain": [
       "<Figure size 1440x360 with 1 Axes>"
      ]
     },
     "metadata": {
      "needs_background": "light"
     },
     "output_type": "display_data"
    }
   ],
   "source": [
    "feature_imp = pd.Series(xgb_tuned.feature_importances_,\n",
    "                        index=X_train.columns).sort_values(ascending=False)\n",
    "plt.figure(figsize=(20,5))\n",
    "sns.barplot(x=feature_imp, y=feature_imp.index)\n",
    "plt.xlabel(\"Değişken Önem Skorları\")\n",
    "plt.ylabel(\"Değişkenler\")\n",
    "plt.title(\"Değişken Önem Düzeyleri\");"
   ]
  },
  {
   "cell_type": "code",
   "execution_count": null,
   "metadata": {},
   "outputs": [],
   "source": []
  }
 ],
 "metadata": {
  "kernelspec": {
   "display_name": "Python 3",
   "language": "python",
   "name": "python3"
  },
  "language_info": {
   "codemirror_mode": {
    "name": "ipython",
    "version": 3
   },
   "file_extension": ".py",
   "mimetype": "text/x-python",
   "name": "python",
   "nbconvert_exporter": "python",
   "pygments_lexer": "ipython3",
   "version": "3.8.3"
  }
 },
 "nbformat": 4,
 "nbformat_minor": 4
}
