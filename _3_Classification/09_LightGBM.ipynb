{
 "cells": [
  {
   "cell_type": "markdown",
   "metadata": {},
   "source": [
    "# LIGHTGBM"
   ]
  },
  {
   "cell_type": "code",
   "execution_count": 2,
   "metadata": {},
   "outputs": [],
   "source": [
    "import numpy as np\n",
    "import pandas as pd\n",
    "import statsmodels.api as sm\n",
    "import seaborn as sns\n",
    "import matplotlib.pyplot as plt\n",
    "from sklearn.preprocessing import scale, StandardScaler\n",
    "from sklearn.model_selection import train_test_split, GridSearchCV, cross_val_score\n",
    "from sklearn.metrics import confusion_matrix, accuracy_score, mean_squared_error, r2_score, roc_auc_score, roc_curve, classification_report\n",
    "from sklearn.linear_model import LogisticRegression\n",
    "from sklearn.neighbors import KNeighborsClassifier\n",
    "from sklearn.svm import SVC\n",
    "from sklearn.neural_network import MLPClassifier\n",
    "from sklearn.tree import DecisionTreeClassifier\n",
    "from sklearn.ensemble import RandomForestClassifier\n",
    "from sklearn.ensemble import GradientBoostingClassifier\n"
   ]
  },
  {
   "cell_type": "code",
   "execution_count": 3,
   "metadata": {},
   "outputs": [],
   "source": [
    "import warnings\n",
    "warnings.filterwarnings(\"ignore\", category=DeprecationWarning)\n",
    "warnings.filterwarnings(\"ignore\", category=FutureWarning)"
   ]
  },
  {
   "cell_type": "markdown",
   "metadata": {},
   "source": [
    "### DATASET"
   ]
  },
  {
   "cell_type": "code",
   "execution_count": 4,
   "metadata": {},
   "outputs": [],
   "source": [
    "df = pd.read_csv(\"C://Users//ertug//Desktop//Machine_Learning_Courses//_3_Classification//diabetes.csv//diabetes.csv\")"
   ]
  },
  {
   "cell_type": "code",
   "execution_count": 5,
   "metadata": {},
   "outputs": [
    {
     "data": {
      "text/html": [
       "<div>\n",
       "<style scoped>\n",
       "    .dataframe tbody tr th:only-of-type {\n",
       "        vertical-align: middle;\n",
       "    }\n",
       "\n",
       "    .dataframe tbody tr th {\n",
       "        vertical-align: top;\n",
       "    }\n",
       "\n",
       "    .dataframe thead th {\n",
       "        text-align: right;\n",
       "    }\n",
       "</style>\n",
       "<table border=\"1\" class=\"dataframe\">\n",
       "  <thead>\n",
       "    <tr style=\"text-align: right;\">\n",
       "      <th></th>\n",
       "      <th>Pregnancies</th>\n",
       "      <th>Glucose</th>\n",
       "      <th>BloodPressure</th>\n",
       "      <th>SkinThickness</th>\n",
       "      <th>Insulin</th>\n",
       "      <th>BMI</th>\n",
       "      <th>DiabetesPedigreeFunction</th>\n",
       "      <th>Age</th>\n",
       "      <th>Outcome</th>\n",
       "    </tr>\n",
       "  </thead>\n",
       "  <tbody>\n",
       "    <tr>\n",
       "      <th>0</th>\n",
       "      <td>6</td>\n",
       "      <td>148</td>\n",
       "      <td>72</td>\n",
       "      <td>35</td>\n",
       "      <td>0</td>\n",
       "      <td>33.6</td>\n",
       "      <td>0.627</td>\n",
       "      <td>50</td>\n",
       "      <td>1</td>\n",
       "    </tr>\n",
       "    <tr>\n",
       "      <th>1</th>\n",
       "      <td>1</td>\n",
       "      <td>85</td>\n",
       "      <td>66</td>\n",
       "      <td>29</td>\n",
       "      <td>0</td>\n",
       "      <td>26.6</td>\n",
       "      <td>0.351</td>\n",
       "      <td>31</td>\n",
       "      <td>0</td>\n",
       "    </tr>\n",
       "    <tr>\n",
       "      <th>2</th>\n",
       "      <td>8</td>\n",
       "      <td>183</td>\n",
       "      <td>64</td>\n",
       "      <td>0</td>\n",
       "      <td>0</td>\n",
       "      <td>23.3</td>\n",
       "      <td>0.672</td>\n",
       "      <td>32</td>\n",
       "      <td>1</td>\n",
       "    </tr>\n",
       "    <tr>\n",
       "      <th>3</th>\n",
       "      <td>1</td>\n",
       "      <td>89</td>\n",
       "      <td>66</td>\n",
       "      <td>23</td>\n",
       "      <td>94</td>\n",
       "      <td>28.1</td>\n",
       "      <td>0.167</td>\n",
       "      <td>21</td>\n",
       "      <td>0</td>\n",
       "    </tr>\n",
       "    <tr>\n",
       "      <th>4</th>\n",
       "      <td>0</td>\n",
       "      <td>137</td>\n",
       "      <td>40</td>\n",
       "      <td>35</td>\n",
       "      <td>168</td>\n",
       "      <td>43.1</td>\n",
       "      <td>2.288</td>\n",
       "      <td>33</td>\n",
       "      <td>1</td>\n",
       "    </tr>\n",
       "  </tbody>\n",
       "</table>\n",
       "</div>"
      ],
      "text/plain": [
       "   Pregnancies  Glucose  BloodPressure  SkinThickness  Insulin   BMI  \\\n",
       "0            6      148             72             35        0  33.6   \n",
       "1            1       85             66             29        0  26.6   \n",
       "2            8      183             64              0        0  23.3   \n",
       "3            1       89             66             23       94  28.1   \n",
       "4            0      137             40             35      168  43.1   \n",
       "\n",
       "   DiabetesPedigreeFunction  Age  Outcome  \n",
       "0                     0.627   50        1  \n",
       "1                     0.351   31        0  \n",
       "2                     0.672   32        1  \n",
       "3                     0.167   21        0  \n",
       "4                     2.288   33        1  "
      ]
     },
     "execution_count": 5,
     "metadata": {},
     "output_type": "execute_result"
    }
   ],
   "source": [
    "df.head()"
   ]
  },
  {
   "cell_type": "code",
   "execution_count": 6,
   "metadata": {},
   "outputs": [],
   "source": [
    "y = df[\"Outcome\"]"
   ]
  },
  {
   "cell_type": "code",
   "execution_count": 7,
   "metadata": {},
   "outputs": [],
   "source": [
    "X = df.drop([\"Outcome\"], axis=1)"
   ]
  },
  {
   "cell_type": "code",
   "execution_count": 8,
   "metadata": {},
   "outputs": [],
   "source": [
    "X_train, X_test, y_train, y_test = train_test_split(X,\n",
    "                                                    y, \n",
    "                                                    test_size=.3,\n",
    "                                                    random_state=42)"
   ]
  },
  {
   "cell_type": "markdown",
   "metadata": {},
   "source": [
    "### Model & Training"
   ]
  },
  {
   "cell_type": "code",
   "execution_count": 9,
   "metadata": {},
   "outputs": [],
   "source": [
    "import lightgbm\n",
    "from lightgbm import LGBMClassifier"
   ]
  },
  {
   "cell_type": "code",
   "execution_count": 10,
   "metadata": {},
   "outputs": [],
   "source": [
    "lgbm_model = LGBMClassifier().fit(X_train, y_train)"
   ]
  },
  {
   "cell_type": "code",
   "execution_count": 11,
   "metadata": {
    "collapsed": true,
    "jupyter": {
     "outputs_hidden": true
    }
   },
   "outputs": [
    {
     "data": {
      "text/plain": [
       "['_Booster',\n",
       " '__class__',\n",
       " '__delattr__',\n",
       " '__dict__',\n",
       " '__dir__',\n",
       " '__doc__',\n",
       " '__eq__',\n",
       " '__format__',\n",
       " '__ge__',\n",
       " '__getattribute__',\n",
       " '__getstate__',\n",
       " '__gt__',\n",
       " '__hash__',\n",
       " '__init__',\n",
       " '__init_subclass__',\n",
       " '__le__',\n",
       " '__lt__',\n",
       " '__module__',\n",
       " '__ne__',\n",
       " '__new__',\n",
       " '__reduce__',\n",
       " '__reduce_ex__',\n",
       " '__repr__',\n",
       " '__setattr__',\n",
       " '__setstate__',\n",
       " '__sizeof__',\n",
       " '__str__',\n",
       " '__subclasshook__',\n",
       " '__weakref__',\n",
       " '_base_doc',\n",
       " '_best_iteration',\n",
       " '_best_score',\n",
       " '_check_n_features',\n",
       " '_class_map',\n",
       " '_class_weight',\n",
       " '_classes',\n",
       " '_estimator_type',\n",
       " '_evals_result',\n",
       " '_fobj',\n",
       " '_get_param_names',\n",
       " '_get_tags',\n",
       " '_le',\n",
       " '_more_tags',\n",
       " '_n_classes',\n",
       " '_n_features',\n",
       " '_n_features_in',\n",
       " '_objective',\n",
       " '_other_params',\n",
       " '_repr_html_',\n",
       " '_repr_html_inner',\n",
       " '_repr_mimebundle_',\n",
       " '_validate_data',\n",
       " 'best_iteration_',\n",
       " 'best_score_',\n",
       " 'booster_',\n",
       " 'boosting_type',\n",
       " 'class_weight',\n",
       " 'classes_',\n",
       " 'colsample_bytree',\n",
       " 'evals_result_',\n",
       " 'feature_importances_',\n",
       " 'feature_name_',\n",
       " 'fit',\n",
       " 'get_params',\n",
       " 'importance_type',\n",
       " 'learning_rate',\n",
       " 'max_depth',\n",
       " 'min_child_samples',\n",
       " 'min_child_weight',\n",
       " 'min_split_gain',\n",
       " 'n_classes_',\n",
       " 'n_estimators',\n",
       " 'n_features_',\n",
       " 'n_features_in_',\n",
       " 'n_jobs',\n",
       " 'num_leaves',\n",
       " 'objective',\n",
       " 'objective_',\n",
       " 'predict',\n",
       " 'predict_proba',\n",
       " 'random_state',\n",
       " 'reg_alpha',\n",
       " 'reg_lambda',\n",
       " 'score',\n",
       " 'set_params',\n",
       " 'silent',\n",
       " 'subsample',\n",
       " 'subsample_for_bin',\n",
       " 'subsample_freq']"
      ]
     },
     "execution_count": 11,
     "metadata": {},
     "output_type": "execute_result"
    }
   ],
   "source": [
    "dir(lgbm_model)"
   ]
  },
  {
   "cell_type": "code",
   "execution_count": 12,
   "metadata": {},
   "outputs": [
    {
     "data": {
      "text/plain": [
       "\u001b[1;31mType:\u001b[0m           LGBMClassifier\n",
       "\u001b[1;31mString form:\u001b[0m    LGBMClassifier()\n",
       "\u001b[1;31mFile:\u001b[0m           c:\\users\\ertug\\anaconda3\\lib\\site-packages\\lightgbm\\sklearn.py\n",
       "\u001b[1;31mDocstring:\u001b[0m      LightGBM classifier.\n",
       "\u001b[1;31mInit docstring:\u001b[0m\n",
       "Construct a gradient boosting model.\n",
       "\n",
       "Parameters\n",
       "----------\n",
       "boosting_type : string, optional (default='gbdt')\n",
       "    'gbdt', traditional Gradient Boosting Decision Tree.\n",
       "    'dart', Dropouts meet Multiple Additive Regression Trees.\n",
       "    'goss', Gradient-based One-Side Sampling.\n",
       "    'rf', Random Forest.\n",
       "num_leaves : int, optional (default=31)\n",
       "    Maximum tree leaves for base learners.\n",
       "max_depth : int, optional (default=-1)\n",
       "    Maximum tree depth for base learners, <=0 means no limit.\n",
       "learning_rate : float, optional (default=0.1)\n",
       "    Boosting learning rate.\n",
       "    You can use ``callbacks`` parameter of ``fit`` method to shrink/adapt learning rate\n",
       "    in training using ``reset_parameter`` callback.\n",
       "    Note, that this will ignore the ``learning_rate`` argument in training.\n",
       "n_estimators : int, optional (default=100)\n",
       "    Number of boosted trees to fit.\n",
       "subsample_for_bin : int, optional (default=200000)\n",
       "    Number of samples for constructing bins.\n",
       "objective : string, callable or None, optional (default=None)\n",
       "    Specify the learning task and the corresponding learning objective or\n",
       "    a custom objective function to be used (see note below).\n",
       "    Default: 'regression' for LGBMRegressor, 'binary' or 'multiclass' for LGBMClassifier, 'lambdarank' for LGBMRanker.\n",
       "class_weight : dict, 'balanced' or None, optional (default=None)\n",
       "    Weights associated with classes in the form ``{class_label: weight}``.\n",
       "    Use this parameter only for multi-class classification task;\n",
       "    for binary classification task you may use ``is_unbalance`` or ``scale_pos_weight`` parameters.\n",
       "    Note, that the usage of all these parameters will result in poor estimates of the individual class probabilities.\n",
       "    You may want to consider performing probability calibration\n",
       "    (https://scikit-learn.org/stable/modules/calibration.html) of your model.\n",
       "    The 'balanced' mode uses the values of y to automatically adjust weights\n",
       "    inversely proportional to class frequencies in the input data as ``n_samples / (n_classes * np.bincount(y))``.\n",
       "    If None, all classes are supposed to have weight one.\n",
       "    Note, that these weights will be multiplied with ``sample_weight`` (passed through the ``fit`` method)\n",
       "    if ``sample_weight`` is specified.\n",
       "min_split_gain : float, optional (default=0.)\n",
       "    Minimum loss reduction required to make a further partition on a leaf node of the tree.\n",
       "min_child_weight : float, optional (default=1e-3)\n",
       "    Minimum sum of instance weight (hessian) needed in a child (leaf).\n",
       "min_child_samples : int, optional (default=20)\n",
       "    Minimum number of data needed in a child (leaf).\n",
       "subsample : float, optional (default=1.)\n",
       "    Subsample ratio of the training instance.\n",
       "subsample_freq : int, optional (default=0)\n",
       "    Frequence of subsample, <=0 means no enable.\n",
       "colsample_bytree : float, optional (default=1.)\n",
       "    Subsample ratio of columns when constructing each tree.\n",
       "reg_alpha : float, optional (default=0.)\n",
       "    L1 regularization term on weights.\n",
       "reg_lambda : float, optional (default=0.)\n",
       "    L2 regularization term on weights.\n",
       "random_state : int, RandomState object or None, optional (default=None)\n",
       "    Random number seed.\n",
       "    If int, this number is used to seed the C++ code.\n",
       "    If RandomState object (numpy), a random integer is picked based on its state to seed the C++ code.\n",
       "    If None, default seeds in C++ code are used.\n",
       "n_jobs : int, optional (default=-1)\n",
       "    Number of parallel threads.\n",
       "silent : bool, optional (default=True)\n",
       "    Whether to print messages while running boosting.\n",
       "importance_type : string, optional (default='split')\n",
       "    The type of feature importance to be filled into ``feature_importances_``.\n",
       "    If 'split', result contains numbers of times the feature is used in a model.\n",
       "    If 'gain', result contains total gains of splits which use the feature.\n",
       "**kwargs\n",
       "    Other parameters for the model.\n",
       "    Check http://lightgbm.readthedocs.io/en/latest/Parameters.html for more parameters.\n",
       "\n",
       "    .. warning::\n",
       "\n",
       "        \\*\\*kwargs is not supported in sklearn, it may cause unexpected issues.\n",
       "\n",
       "Note\n",
       "----\n",
       "A custom objective function can be provided for the ``objective`` parameter.\n",
       "In this case, it should have the signature\n",
       "``objective(y_true, y_pred) -> grad, hess`` or\n",
       "``objective(y_true, y_pred, group) -> grad, hess``:\n",
       "\n",
       "    y_true : array-like of shape = [n_samples]\n",
       "        The target values.\n",
       "    y_pred : array-like of shape = [n_samples] or shape = [n_samples * n_classes] (for multi-class task)\n",
       "        The predicted values.\n",
       "    group : array-like\n",
       "        Group/query data, used for ranking task.\n",
       "    grad : array-like of shape = [n_samples] or shape = [n_samples * n_classes] (for multi-class task)\n",
       "        The value of the first order derivative (gradient) for each sample point.\n",
       "    hess : array-like of shape = [n_samples] or shape = [n_samples * n_classes] (for multi-class task)\n",
       "        The value of the second order derivative (Hessian) for each sample point.\n",
       "\n",
       "For binary task, the y_pred is margin.\n",
       "For multi-class task, the y_pred is group by class_id first, then group by row_id.\n",
       "If you want to get i-th row y_pred in j-th class, the access way is y_pred[j * num_data + i]\n",
       "and you should group grad and hess in this way as well.\n"
      ]
     },
     "metadata": {},
     "output_type": "display_data"
    }
   ],
   "source": [
    "?lgbm_model"
   ]
  },
  {
   "cell_type": "code",
   "execution_count": 13,
   "metadata": {},
   "outputs": [],
   "source": [
    "y_pred = lgbm_model.predict(X_test)"
   ]
  },
  {
   "cell_type": "code",
   "execution_count": 14,
   "metadata": {},
   "outputs": [
    {
     "data": {
      "text/plain": [
       "0.5263613559678152"
      ]
     },
     "execution_count": 14,
     "metadata": {},
     "output_type": "execute_result"
    }
   ],
   "source": [
    "RMSE = np.sqrt(mean_squared_error(y_test, y_pred))\n",
    "RMSE"
   ]
  },
  {
   "cell_type": "code",
   "execution_count": 15,
   "metadata": {},
   "outputs": [
    {
     "data": {
      "text/plain": [
       "0.7229437229437229"
      ]
     },
     "execution_count": 15,
     "metadata": {},
     "output_type": "execute_result"
    }
   ],
   "source": [
    "accuracy_score(y_test, y_pred)"
   ]
  },
  {
   "cell_type": "code",
   "execution_count": 16,
   "metadata": {},
   "outputs": [
    {
     "data": {
      "text/plain": [
       "-0.22384105960264944"
      ]
     },
     "execution_count": 16,
     "metadata": {},
     "output_type": "execute_result"
    }
   ],
   "source": [
    "r2_score(y_test, y_pred)"
   ]
  },
  {
   "cell_type": "code",
   "execution_count": 17,
   "metadata": {},
   "outputs": [
    {
     "data": {
      "text/plain": [
       "array([[115,  36],\n",
       "       [ 28,  52]], dtype=int64)"
      ]
     },
     "execution_count": 17,
     "metadata": {},
     "output_type": "execute_result"
    }
   ],
   "source": [
    "confusion_matrix(y_test, y_pred)"
   ]
  },
  {
   "cell_type": "code",
   "execution_count": 18,
   "metadata": {},
   "outputs": [
    {
     "name": "stdout",
     "output_type": "stream",
     "text": [
      "              precision    recall  f1-score   support\n",
      "\n",
      "           0       0.80      0.76      0.78       151\n",
      "           1       0.59      0.65      0.62        80\n",
      "\n",
      "    accuracy                           0.72       231\n",
      "   macro avg       0.70      0.71      0.70       231\n",
      "weighted avg       0.73      0.72      0.73       231\n",
      "\n"
     ]
    }
   ],
   "source": [
    "print(classification_report(y_test, y_pred))"
   ]
  },
  {
   "cell_type": "code",
   "execution_count": 19,
   "metadata": {
    "collapsed": true,
    "jupyter": {
     "outputs_hidden": true
    }
   },
   "outputs": [
    {
     "data": {
      "text/plain": [
       "array([[5.50844081e-01, 4.49155919e-01],\n",
       "       [8.77802474e-01, 1.22197526e-01],\n",
       "       [9.87693561e-01, 1.23064385e-02],\n",
       "       [8.67813908e-01, 1.32186092e-01],\n",
       "       [6.27765552e-01, 3.72234448e-01],\n",
       "       [1.70811635e-01, 8.29188365e-01],\n",
       "       [9.99216408e-01, 7.83591619e-04],\n",
       "       [9.28381745e-02, 9.07161825e-01],\n",
       "       [3.08948936e-01, 6.91051064e-01],\n",
       "       [4.66100670e-01, 5.33899330e-01],\n",
       "       [9.35878516e-01, 6.41214844e-02],\n",
       "       [4.11524077e-03, 9.95884759e-01],\n",
       "       [9.57736224e-01, 4.22637761e-02],\n",
       "       [7.74636203e-01, 2.25363797e-01],\n",
       "       [9.99276437e-01, 7.23563393e-04],\n",
       "       [5.74406447e-01, 4.25593553e-01],\n",
       "       [9.85113866e-01, 1.48861337e-02],\n",
       "       [9.99593715e-01, 4.06284769e-04],\n",
       "       [3.63080218e-02, 9.63691978e-01],\n",
       "       [6.44754261e-01, 3.55245739e-01],\n",
       "       [6.08690877e-01, 3.91309123e-01],\n",
       "       [9.94214324e-01, 5.78567598e-03],\n",
       "       [9.15603174e-01, 8.43968264e-02],\n",
       "       [9.99860801e-01, 1.39199097e-04],\n",
       "       [5.55061319e-01, 4.44938681e-01],\n",
       "       [2.38976591e-03, 9.97610234e-01],\n",
       "       [9.96075103e-01, 3.92489707e-03],\n",
       "       [9.98998358e-01, 1.00164232e-03],\n",
       "       [9.90318968e-01, 9.68103168e-03],\n",
       "       [9.81896124e-01, 1.81038758e-02],\n",
       "       [8.53530137e-02, 9.14646986e-01],\n",
       "       [1.23474797e-01, 8.76525203e-01],\n",
       "       [5.12362177e-02, 9.48763782e-01],\n",
       "       [3.25496171e-02, 9.67450383e-01],\n",
       "       [1.59698641e-01, 8.40301359e-01],\n",
       "       [1.62252641e-01, 8.37747359e-01],\n",
       "       [1.52943525e-02, 9.84705648e-01],\n",
       "       [9.05913188e-01, 9.40868120e-02],\n",
       "       [9.55179136e-01, 4.48208635e-02],\n",
       "       [2.70114560e-02, 9.72988544e-01],\n",
       "       [9.98923690e-01, 1.07631015e-03],\n",
       "       [6.66250766e-01, 3.33749234e-01],\n",
       "       [6.57992675e-02, 9.34200733e-01],\n",
       "       [4.85662551e-01, 5.14337449e-01],\n",
       "       [9.98845725e-01, 1.15427517e-03],\n",
       "       [5.73879375e-01, 4.26120625e-01],\n",
       "       [2.37594308e-01, 7.62405692e-01],\n",
       "       [9.47714896e-01, 5.22851042e-02],\n",
       "       [9.34210243e-01, 6.57897569e-02],\n",
       "       [7.79003868e-03, 9.92209961e-01],\n",
       "       [9.99250083e-01, 7.49916918e-04],\n",
       "       [8.59398030e-02, 9.14060197e-01],\n",
       "       [7.83935256e-02, 9.21606474e-01],\n",
       "       [8.38390985e-01, 1.61609015e-01],\n",
       "       [9.96060744e-01, 3.93925617e-03],\n",
       "       [9.99778625e-01, 2.21375303e-04],\n",
       "       [1.81426558e-01, 8.18573442e-01],\n",
       "       [9.97819608e-01, 2.18039212e-03],\n",
       "       [9.20051143e-01, 7.99488566e-02],\n",
       "       [1.76028910e-02, 9.82397109e-01],\n",
       "       [2.79171675e-01, 7.20828325e-01],\n",
       "       [8.31740495e-01, 1.68259505e-01],\n",
       "       [8.07976890e-01, 1.92023110e-01],\n",
       "       [7.69663403e-01, 2.30336597e-01],\n",
       "       [9.87964079e-01, 1.20359210e-02],\n",
       "       [1.64047165e-01, 8.35952835e-01],\n",
       "       [9.98102989e-01, 1.89701142e-03],\n",
       "       [1.31508234e-01, 8.68491766e-01],\n",
       "       [9.97241839e-01, 2.75816117e-03],\n",
       "       [5.88998282e-02, 9.41100172e-01],\n",
       "       [2.68243297e-01, 7.31756703e-01],\n",
       "       [9.88370654e-01, 1.16293463e-02],\n",
       "       [9.95710775e-01, 4.28922527e-03],\n",
       "       [9.99657314e-01, 3.42686081e-04],\n",
       "       [9.90820314e-01, 9.17968631e-03],\n",
       "       [7.44880047e-01, 2.55119953e-01],\n",
       "       [8.12617567e-01, 1.87382433e-01],\n",
       "       [9.94200333e-01, 5.79966654e-03],\n",
       "       [9.83553408e-01, 1.64465917e-02],\n",
       "       [9.69206393e-01, 3.07936074e-02],\n",
       "       [1.54074164e-02, 9.84592584e-01],\n",
       "       [8.95919327e-01, 1.04080673e-01],\n",
       "       [9.84443938e-01, 1.55560624e-02],\n",
       "       [7.95522032e-01, 2.04477968e-01],\n",
       "       [8.13019078e-01, 1.86980922e-01],\n",
       "       [6.27710877e-03, 9.93722891e-01],\n",
       "       [3.32701264e-01, 6.67298736e-01],\n",
       "       [7.58938487e-01, 2.41061513e-01],\n",
       "       [8.63315021e-01, 1.36684979e-01],\n",
       "       [9.96781637e-01, 3.21836303e-03],\n",
       "       [9.99782457e-01, 2.17542702e-04],\n",
       "       [9.14247064e-01, 8.57529357e-02],\n",
       "       [9.98656758e-01, 1.34324158e-03],\n",
       "       [1.53300646e-01, 8.46699354e-01],\n",
       "       [1.54776678e-01, 8.45223322e-01],\n",
       "       [1.94777175e-01, 8.05222825e-01],\n",
       "       [1.31338150e-01, 8.68661850e-01],\n",
       "       [9.97877681e-01, 2.12231922e-03],\n",
       "       [1.01845877e-01, 8.98154123e-01],\n",
       "       [9.87680413e-01, 1.23195874e-02],\n",
       "       [8.47160229e-03, 9.91528398e-01],\n",
       "       [9.99630836e-01, 3.69163608e-04],\n",
       "       [1.65280981e-01, 8.34719019e-01],\n",
       "       [1.32457990e-01, 8.67542010e-01],\n",
       "       [1.17778503e-01, 8.82221497e-01],\n",
       "       [9.55060847e-01, 4.49391528e-02],\n",
       "       [9.35315032e-01, 6.46849678e-02],\n",
       "       [1.49541665e-02, 9.85045834e-01],\n",
       "       [9.82596891e-01, 1.74031095e-02],\n",
       "       [2.98123119e-02, 9.70187688e-01],\n",
       "       [9.99356196e-01, 6.43804278e-04],\n",
       "       [4.22764413e-01, 5.77235587e-01],\n",
       "       [9.65350206e-01, 3.46497944e-02],\n",
       "       [1.89398807e-03, 9.98106012e-01],\n",
       "       [4.58742786e-01, 5.41257214e-01],\n",
       "       [2.07134826e-01, 7.92865174e-01],\n",
       "       [2.83561934e-02, 9.71643807e-01],\n",
       "       [7.40563100e-01, 2.59436900e-01],\n",
       "       [9.93920224e-01, 6.07977602e-03],\n",
       "       [3.89055405e-01, 6.10944595e-01],\n",
       "       [9.99179577e-01, 8.20423336e-04],\n",
       "       [7.35544056e-01, 2.64455944e-01],\n",
       "       [9.04652092e-01, 9.53479083e-02],\n",
       "       [9.97117410e-01, 2.88258993e-03],\n",
       "       [9.92598345e-01, 7.40165543e-03],\n",
       "       [8.68289715e-01, 1.31710285e-01],\n",
       "       [9.85476109e-01, 1.45238909e-02],\n",
       "       [6.43632147e-02, 9.35636785e-01],\n",
       "       [6.86980692e-03, 9.93130193e-01],\n",
       "       [1.51885201e-01, 8.48114799e-01],\n",
       "       [1.80713184e-01, 8.19286816e-01],\n",
       "       [3.93507495e-01, 6.06492505e-01],\n",
       "       [9.85965646e-01, 1.40343540e-02],\n",
       "       [7.07547968e-01, 2.92452032e-01],\n",
       "       [1.28546335e-01, 8.71453665e-01],\n",
       "       [3.54408721e-01, 6.45591279e-01],\n",
       "       [9.89583159e-01, 1.04168409e-02],\n",
       "       [2.12501539e-02, 9.78749846e-01],\n",
       "       [2.52596998e-01, 7.47403002e-01],\n",
       "       [9.98656985e-01, 1.34301505e-03],\n",
       "       [9.98225988e-01, 1.77401221e-03],\n",
       "       [9.98244927e-01, 1.75507310e-03],\n",
       "       [9.67620806e-01, 3.23791935e-02],\n",
       "       [5.08908151e-01, 4.91091849e-01],\n",
       "       [9.88373086e-01, 1.16269141e-02],\n",
       "       [4.44866617e-01, 5.55133383e-01],\n",
       "       [9.74906315e-01, 2.50936855e-02],\n",
       "       [9.99480586e-01, 5.19414171e-04],\n",
       "       [7.85425639e-01, 2.14574361e-01],\n",
       "       [2.51028658e-01, 7.48971342e-01],\n",
       "       [9.97821751e-01, 2.17824871e-03],\n",
       "       [8.24141148e-01, 1.75858852e-01],\n",
       "       [5.03748499e-01, 4.96251501e-01],\n",
       "       [6.35713319e-01, 3.64286681e-01],\n",
       "       [9.98787793e-01, 1.21220688e-03],\n",
       "       [8.03161698e-02, 9.19683830e-01],\n",
       "       [7.80675466e-01, 2.19324534e-01],\n",
       "       [2.66535311e-01, 7.33464689e-01],\n",
       "       [3.18482565e-01, 6.81517435e-01],\n",
       "       [9.62909628e-01, 3.70903717e-02],\n",
       "       [2.60724831e-01, 7.39275169e-01],\n",
       "       [4.80610275e-02, 9.51938973e-01],\n",
       "       [9.29019095e-01, 7.09809050e-02],\n",
       "       [9.99372788e-01, 6.27212048e-04],\n",
       "       [9.62403836e-01, 3.75961643e-02],\n",
       "       [7.33877851e-02, 9.26612215e-01],\n",
       "       [9.99210970e-01, 7.89029954e-04],\n",
       "       [9.53011708e-01, 4.69882924e-02],\n",
       "       [3.25661131e-02, 9.67433887e-01],\n",
       "       [2.82531197e-01, 7.17468803e-01],\n",
       "       [7.63192300e-02, 9.23680770e-01],\n",
       "       [9.93670908e-01, 6.32909190e-03],\n",
       "       [3.99099583e-02, 9.60090042e-01],\n",
       "       [5.65180642e-01, 4.34819358e-01],\n",
       "       [1.56532664e-01, 8.43467336e-01],\n",
       "       [9.93719175e-01, 6.28082526e-03],\n",
       "       [2.65984058e-01, 7.34015942e-01],\n",
       "       [4.62309396e-01, 5.37690604e-01],\n",
       "       [2.18375743e-01, 7.81624257e-01],\n",
       "       [6.41379002e-01, 3.58620998e-01],\n",
       "       [8.97793645e-01, 1.02206355e-01],\n",
       "       [9.03794670e-01, 9.62053299e-02],\n",
       "       [3.64389101e-01, 6.35610899e-01],\n",
       "       [5.78212473e-02, 9.42178753e-01],\n",
       "       [1.19858344e-01, 8.80141656e-01],\n",
       "       [9.99487391e-01, 5.12608770e-04],\n",
       "       [9.99405077e-01, 5.94922888e-04],\n",
       "       [9.98336293e-01, 1.66370653e-03],\n",
       "       [2.06940613e-01, 7.93059387e-01],\n",
       "       [4.89479016e-01, 5.10520984e-01],\n",
       "       [9.90985939e-01, 9.01406130e-03],\n",
       "       [9.80111752e-01, 1.98882482e-02],\n",
       "       [1.99003140e-02, 9.80099686e-01],\n",
       "       [9.03850094e-01, 9.61499057e-02],\n",
       "       [9.68462993e-01, 3.15370069e-02],\n",
       "       [9.98486902e-01, 1.51309788e-03],\n",
       "       [9.98682487e-01, 1.31751329e-03],\n",
       "       [9.99668577e-01, 3.31422747e-04],\n",
       "       [9.73456591e-01, 2.65434088e-02],\n",
       "       [9.48842751e-03, 9.90511572e-01],\n",
       "       [8.92694966e-01, 1.07305034e-01],\n",
       "       [9.99025063e-01, 9.74937118e-04],\n",
       "       [8.04112244e-01, 1.95887756e-01],\n",
       "       [9.48234416e-01, 5.17655837e-02],\n",
       "       [1.61390064e-01, 8.38609936e-01],\n",
       "       [9.97981744e-01, 2.01825624e-03],\n",
       "       [9.85830153e-01, 1.41698466e-02],\n",
       "       [7.73143633e-01, 2.26856367e-01],\n",
       "       [1.93814794e-02, 9.80618521e-01],\n",
       "       [8.58335012e-01, 1.41664988e-01],\n",
       "       [3.43379354e-01, 6.56620646e-01],\n",
       "       [9.38802133e-01, 6.11978673e-02],\n",
       "       [9.96105900e-01, 3.89410026e-03],\n",
       "       [9.86451789e-01, 1.35482107e-02],\n",
       "       [5.96725861e-01, 4.03274139e-01],\n",
       "       [9.94018380e-01, 5.98162020e-03],\n",
       "       [1.31370835e-01, 8.68629165e-01],\n",
       "       [1.72841489e-01, 8.27158511e-01],\n",
       "       [8.07991933e-01, 1.92008067e-01],\n",
       "       [1.86614676e-02, 9.81338532e-01],\n",
       "       [7.66088391e-02, 9.23391161e-01],\n",
       "       [9.70989330e-01, 2.90106700e-02],\n",
       "       [9.97762614e-01, 2.23738632e-03],\n",
       "       [9.75687735e-01, 2.43122653e-02],\n",
       "       [9.90730431e-01, 9.26956911e-03],\n",
       "       [1.96967779e-02, 9.80303222e-01],\n",
       "       [8.89504224e-01, 1.10495776e-01],\n",
       "       [9.47774197e-01, 5.22258025e-02],\n",
       "       [7.26640791e-01, 2.73359209e-01],\n",
       "       [9.27005791e-01, 7.29942093e-02],\n",
       "       [9.76432937e-01, 2.35670632e-02]])"
      ]
     },
     "execution_count": 19,
     "metadata": {},
     "output_type": "execute_result"
    }
   ],
   "source": [
    "lgbm_model.predict_proba(X_test)"
   ]
  },
  {
   "cell_type": "code",
   "execution_count": 20,
   "metadata": {},
   "outputs": [
    {
     "data": {
      "image/png": "[encoded data removed]",
      "text/plain": [
       "<Figure size 720x720 with 1 Axes>"
      ]
     },
     "metadata": {
      "needs_background": "light"
     },
     "output_type": "display_data"
    }
   ],
   "source": [
    "logit_roc_auc = roc_auc_score(y_test, lgbm_model.predict(X_test))\n",
    "fpr, tpr, thresholds = roc_curve(y_test, lgbm_model.predict_proba(X_test)[:,1])\n",
    "plt.figure(figsize=(10, 10))\n",
    "plt.plot(fpr, tpr, label=\"AUC (area = %.2f)\" % logit_roc_auc)\n",
    "plt.plot([0, 1], [0, 1], \"r--\")\n",
    "plt.xlim([.0, 1.0])\n",
    "plt.ylim([.0, 1.05])\n",
    "plt.xlabel(\"False Positive Rate\")\n",
    "plt.ylabel(\"True Positive Rate\")\n",
    "plt.title(\"Receiver Operating Characteristic\")\n",
    "plt.legend(loc=\"lower right\")\n",
    "plt.savefig(\"GBM_ROC\")\n",
    "plt.grid(1)\n",
    "plt.show()"
   ]
  },
  {
   "cell_type": "code",
   "execution_count": 21,
   "metadata": {},
   "outputs": [
    {
     "data": {
      "image/png": "[encoded data removed]",
      "text/plain": [
       "<Figure size 1440x360 with 1 Axes>"
      ]
     },
     "metadata": {
      "needs_background": "light"
     },
     "output_type": "display_data"
    }
   ],
   "source": [
    "feature_imp = pd.Series(lgbm_model.feature_importances_,\n",
    "                        index=X_train.columns).sort_values(ascending=False)\n",
    "plt.figure(figsize=(20,5))\n",
    "sns.barplot(x=feature_imp, y=feature_imp.index)\n",
    "plt.xlabel(\"Değişken Önem Skorları\")\n",
    "plt.ylabel(\"Değişkenler\")\n",
    "plt.title(\"Değişken Önem Düzeyleri\");"
   ]
  },
  {
   "cell_type": "markdown",
   "metadata": {},
   "source": [
    "### MODEL TUNING"
   ]
  },
  {
   "cell_type": "code",
   "execution_count": 22,
   "metadata": {},
   "outputs": [],
   "source": [
    "lgbm_model = LGBMClassifier()"
   ]
  },
  {
   "cell_type": "code",
   "execution_count": 23,
   "metadata": {},
   "outputs": [],
   "source": [
    "lgbm_params = {\"learning_rate\": [.1, .01, .001, .0001, .00001],\n",
    "               \"n_estimaterts\": [200, 500, 1000, 2000],\n",
    "               \"max_depth\": [2, 3, 5, 8]}"
   ]
  },
  {
   "cell_type": "code",
   "execution_count": 24,
   "metadata": {},
   "outputs": [
    {
     "name": "stdout",
     "output_type": "stream",
     "text": [
      "Fitting 10 folds for each of 80 candidates, totalling 800 fits\n"
     ]
    },
    {
     "name": "stderr",
     "output_type": "stream",
     "text": [
      "[Parallel(n_jobs=-1)]: Using backend LokyBackend with 2 concurrent workers.\n",
      "[Parallel(n_jobs=-1)]: Done  44 tasks      | elapsed:    8.4s\n",
      "[Parallel(n_jobs=-1)]: Done 286 tasks      | elapsed:   18.7s\n",
      "[Parallel(n_jobs=-1)]: Done 692 tasks      | elapsed:   35.1s\n"
     ]
    },
    {
     "name": "stdout",
     "output_type": "stream",
     "text": [
      "[LightGBM] [Warning] Unknown parameter: n_estimaterts\n"
     ]
    },
    {
     "name": "stderr",
     "output_type": "stream",
     "text": [
      "[Parallel(n_jobs=-1)]: Done 800 out of 800 | elapsed:   39.8s finished\n"
     ]
    }
   ],
   "source": [
    "lgbm_cv_model = GridSearchCV(lgbm_model, lgbm_params, cv=10, verbose=2, n_jobs=-1).fit(X_train, y_train)"
   ]
  },
  {
   "cell_type": "code",
   "execution_count": 25,
   "metadata": {},
   "outputs": [
    {
     "data": {
      "text/plain": [
       "{'learning_rate': 0.1, 'max_depth': 2, 'n_estimaterts': 200}"
      ]
     },
     "execution_count": 25,
     "metadata": {},
     "output_type": "execute_result"
    }
   ],
   "source": [
    "lgbm_cv_model.best_params_"
   ]
  },
  {
   "cell_type": "code",
   "execution_count": 26,
   "metadata": {},
   "outputs": [
    {
     "data": {
      "text/plain": [
       "0.7690076869322152"
      ]
     },
     "execution_count": 26,
     "metadata": {},
     "output_type": "execute_result"
    }
   ],
   "source": [
    "lgbm_cv_model.best_score_"
   ]
  },
  {
   "cell_type": "code",
   "execution_count": 27,
   "metadata": {},
   "outputs": [],
   "source": [
    "lgbm_tuned = LGBMClassifier(learning_rate=lgbm_cv_model.best_params_.get(\"learning_rate\"),\n",
    "                            n_estimaterts=lgbm_cv_model.best_params_.get(\"n_estimaterts\"),\n",
    "                            max_depth=lgbm_cv_model.best_params_.get(\"max_depth\")).fit(X_train,\n",
    "                                                                                       y_train)"
   ]
  },
  {
   "cell_type": "code",
   "execution_count": 28,
   "metadata": {},
   "outputs": [],
   "source": [
    "y_pred = lgbm_tuned.predict(X_test)"
   ]
  },
  {
   "cell_type": "code",
   "execution_count": 29,
   "metadata": {},
   "outputs": [
    {
     "data": {
      "text/plain": [
       "0.496742636335202"
      ]
     },
     "execution_count": 29,
     "metadata": {},
     "output_type": "execute_result"
    }
   ],
   "source": [
    "RMSE = np.sqrt(mean_squared_error(y_test, y_pred))\n",
    "RMSE"
   ]
  },
  {
   "cell_type": "code",
   "execution_count": 30,
   "metadata": {},
   "outputs": [
    {
     "data": {
      "text/plain": [
       "0.7532467532467533"
      ]
     },
     "execution_count": 30,
     "metadata": {},
     "output_type": "execute_result"
    }
   ],
   "source": [
    "accuracy_score(y_test, y_pred)"
   ]
  },
  {
   "cell_type": "code",
   "execution_count": 31,
   "metadata": {},
   "outputs": [
    {
     "data": {
      "text/plain": [
       "-0.08998344370860956"
      ]
     },
     "execution_count": 31,
     "metadata": {},
     "output_type": "execute_result"
    }
   ],
   "source": [
    "r2_score(y_test, y_pred)"
   ]
  },
  {
   "cell_type": "code",
   "execution_count": 32,
   "metadata": {},
   "outputs": [
    {
     "data": {
      "text/plain": [
       "array([[121,  30],\n",
       "       [ 27,  53]], dtype=int64)"
      ]
     },
     "execution_count": 32,
     "metadata": {},
     "output_type": "execute_result"
    }
   ],
   "source": [
    "confusion_matrix(y_test, y_pred)"
   ]
  },
  {
   "cell_type": "code",
   "execution_count": 33,
   "metadata": {},
   "outputs": [
    {
     "name": "stdout",
     "output_type": "stream",
     "text": [
      "              precision    recall  f1-score   support\n",
      "\n",
      "           0       0.82      0.80      0.81       151\n",
      "           1       0.64      0.66      0.65        80\n",
      "\n",
      "    accuracy                           0.75       231\n",
      "   macro avg       0.73      0.73      0.73       231\n",
      "weighted avg       0.76      0.75      0.75       231\n",
      "\n"
     ]
    }
   ],
   "source": [
    "print(classification_report(y_test, y_pred))"
   ]
  },
  {
   "cell_type": "code",
   "execution_count": 34,
   "metadata": {
    "collapsed": true,
    "jupyter": {
     "outputs_hidden": true
    }
   },
   "outputs": [
    {
     "data": {
      "text/plain": [
       "array([[0.57704805, 0.42295195],\n",
       "       [0.9220817 , 0.0779183 ],\n",
       "       [0.92585403, 0.07414597],\n",
       "       [0.84612637, 0.15387363],\n",
       "       [0.47557763, 0.52442237],\n",
       "       [0.33061042, 0.66938958],\n",
       "       [0.99775003, 0.00224997],\n",
       "       [0.23035875, 0.76964125],\n",
       "       [0.33902692, 0.66097308],\n",
       "       [0.49523487, 0.50476513],\n",
       "       [0.71939741, 0.28060259],\n",
       "       [0.10766553, 0.89233447],\n",
       "       [0.83025996, 0.16974004],\n",
       "       [0.87291041, 0.12708959],\n",
       "       [0.97820976, 0.02179024],\n",
       "       [0.46920684, 0.53079316],\n",
       "       [0.88166526, 0.11833474],\n",
       "       [0.99134966, 0.00865034],\n",
       "       [0.10724267, 0.89275733],\n",
       "       [0.51408488, 0.48591512],\n",
       "       [0.54323632, 0.45676368],\n",
       "       [0.95708069, 0.04291931],\n",
       "       [0.65330246, 0.34669754],\n",
       "       [0.97288592, 0.02711408],\n",
       "       [0.39324643, 0.60675357],\n",
       "       [0.05243104, 0.94756896],\n",
       "       [0.92831549, 0.07168451],\n",
       "       [0.98631323, 0.01368677],\n",
       "       [0.96965908, 0.03034092],\n",
       "       [0.86081545, 0.13918455],\n",
       "       [0.09223957, 0.90776043],\n",
       "       [0.38149406, 0.61850594],\n",
       "       [0.19310491, 0.80689509],\n",
       "       [0.05986541, 0.94013459],\n",
       "       [0.46133686, 0.53866314],\n",
       "       [0.23875341, 0.76124659],\n",
       "       [0.06755862, 0.93244138],\n",
       "       [0.54647383, 0.45352617],\n",
       "       [0.85287457, 0.14712543],\n",
       "       [0.20511021, 0.79488979],\n",
       "       [0.99088349, 0.00911651],\n",
       "       [0.58910682, 0.41089318],\n",
       "       [0.38136801, 0.61863199],\n",
       "       [0.45920995, 0.54079005],\n",
       "       [0.99314291, 0.00685709],\n",
       "       [0.27278806, 0.72721194],\n",
       "       [0.52118632, 0.47881368],\n",
       "       [0.82607636, 0.17392364],\n",
       "       [0.76233214, 0.23766786],\n",
       "       [0.03768255, 0.96231745],\n",
       "       [0.99590148, 0.00409852],\n",
       "       [0.14349894, 0.85650106],\n",
       "       [0.1386156 , 0.8613844 ],\n",
       "       [0.71448861, 0.28551139],\n",
       "       [0.93572263, 0.06427737],\n",
       "       [0.98899156, 0.01100844],\n",
       "       [0.27662638, 0.72337362],\n",
       "       [0.9955081 , 0.0044919 ],\n",
       "       [0.8261682 , 0.1738318 ],\n",
       "       [0.06836617, 0.93163383],\n",
       "       [0.32334213, 0.67665787],\n",
       "       [0.63115519, 0.36884481],\n",
       "       [0.64324196, 0.35675804],\n",
       "       [0.81395455, 0.18604545],\n",
       "       [0.90050663, 0.09949337],\n",
       "       [0.48664214, 0.51335786],\n",
       "       [0.96270693, 0.03729307],\n",
       "       [0.25210693, 0.74789307],\n",
       "       [0.93146705, 0.06853295],\n",
       "       [0.11732467, 0.88267533],\n",
       "       [0.31737698, 0.68262302],\n",
       "       [0.9177313 , 0.0822687 ],\n",
       "       [0.92805825, 0.07194175],\n",
       "       [0.97027709, 0.02972291],\n",
       "       [0.8961174 , 0.1038826 ],\n",
       "       [0.79737887, 0.20262113],\n",
       "       [0.82493044, 0.17506956],\n",
       "       [0.93176569, 0.06823431],\n",
       "       [0.85898359, 0.14101641],\n",
       "       [0.85632973, 0.14367027],\n",
       "       [0.10550439, 0.89449561],\n",
       "       [0.92935464, 0.07064536],\n",
       "       [0.95553383, 0.04446617],\n",
       "       [0.6401445 , 0.3598555 ],\n",
       "       [0.81917714, 0.18082286],\n",
       "       [0.08911074, 0.91088926],\n",
       "       [0.21671671, 0.78328329],\n",
       "       [0.58404888, 0.41595112],\n",
       "       [0.76413705, 0.23586295],\n",
       "       [0.99575101, 0.00424899],\n",
       "       [0.97009003, 0.02990997],\n",
       "       [0.85007043, 0.14992957],\n",
       "       [0.9955081 , 0.0044919 ],\n",
       "       [0.35501982, 0.64498018],\n",
       "       [0.31429328, 0.68570672],\n",
       "       [0.32181873, 0.67818127],\n",
       "       [0.35332315, 0.64667685],\n",
       "       [0.98699474, 0.01300526],\n",
       "       [0.27507237, 0.72492763],\n",
       "       [0.89556198, 0.10443802],\n",
       "       [0.15602693, 0.84397307],\n",
       "       [0.98591536, 0.01408464],\n",
       "       [0.33489852, 0.66510148],\n",
       "       [0.39786361, 0.60213639],\n",
       "       [0.14603541, 0.85396459],\n",
       "       [0.80790308, 0.19209692],\n",
       "       [0.88748993, 0.11251007],\n",
       "       [0.05241933, 0.94758067],\n",
       "       [0.96180385, 0.03819615],\n",
       "       [0.45347434, 0.54652566],\n",
       "       [0.95240397, 0.04759603],\n",
       "       [0.38320638, 0.61679362],\n",
       "       [0.93633863, 0.06366137],\n",
       "       [0.0875753 , 0.9124247 ],\n",
       "       [0.61724593, 0.38275407],\n",
       "       [0.51036371, 0.48963629],\n",
       "       [0.09263254, 0.90736746],\n",
       "       [0.63151433, 0.36848567],\n",
       "       [0.95066132, 0.04933868],\n",
       "       [0.61759917, 0.38240083],\n",
       "       [0.97939576, 0.02060424],\n",
       "       [0.87800238, 0.12199762],\n",
       "       [0.77919876, 0.22080124],\n",
       "       [0.99386323, 0.00613677],\n",
       "       [0.92626746, 0.07373254],\n",
       "       [0.71796635, 0.28203365],\n",
       "       [0.84611096, 0.15388904],\n",
       "       [0.0859638 , 0.9140362 ],\n",
       "       [0.10780665, 0.89219335],\n",
       "       [0.22130594, 0.77869406],\n",
       "       [0.22098865, 0.77901135],\n",
       "       [0.25160401, 0.74839599],\n",
       "       [0.96908171, 0.03091829],\n",
       "       [0.66989146, 0.33010854],\n",
       "       [0.33011342, 0.66988658],\n",
       "       [0.57442491, 0.42557509],\n",
       "       [0.9142724 , 0.0857276 ],\n",
       "       [0.1482707 , 0.8517293 ],\n",
       "       [0.20413113, 0.79586887],\n",
       "       [0.99708938, 0.00291062],\n",
       "       [0.95591057, 0.04408943],\n",
       "       [0.98831952, 0.01168048],\n",
       "       [0.85722595, 0.14277405],\n",
       "       [0.59784097, 0.40215903],\n",
       "       [0.91652796, 0.08347204],\n",
       "       [0.54311765, 0.45688235],\n",
       "       [0.88799193, 0.11200807],\n",
       "       [0.99362239, 0.00637761],\n",
       "       [0.61268285, 0.38731715],\n",
       "       [0.1775098 , 0.8224902 ],\n",
       "       [0.98674053, 0.01325947],\n",
       "       [0.6130131 , 0.3869869 ],\n",
       "       [0.70409269, 0.29590731],\n",
       "       [0.76931037, 0.23068963],\n",
       "       [0.9922657 , 0.0077343 ],\n",
       "       [0.56940099, 0.43059901],\n",
       "       [0.77537649, 0.22462351],\n",
       "       [0.36693233, 0.63306767],\n",
       "       [0.24449708, 0.75550292],\n",
       "       [0.94134803, 0.05865197],\n",
       "       [0.48117027, 0.51882973],\n",
       "       [0.24351299, 0.75648701],\n",
       "       [0.85532555, 0.14467445],\n",
       "       [0.99300534, 0.00699466],\n",
       "       [0.9555769 , 0.0444231 ],\n",
       "       [0.05542516, 0.94457484],\n",
       "       [0.98717006, 0.01282994],\n",
       "       [0.90892219, 0.09107781],\n",
       "       [0.10412662, 0.89587338],\n",
       "       [0.34973724, 0.65026276],\n",
       "       [0.35351391, 0.64648609],\n",
       "       [0.84324238, 0.15675762],\n",
       "       [0.37907643, 0.62092357],\n",
       "       [0.76112799, 0.23887201],\n",
       "       [0.12816876, 0.87183124],\n",
       "       [0.86145754, 0.13854246],\n",
       "       [0.6439549 , 0.3560451 ],\n",
       "       [0.51117855, 0.48882145],\n",
       "       [0.58301134, 0.41698866],\n",
       "       [0.31251205, 0.68748795],\n",
       "       [0.79858304, 0.20141696],\n",
       "       [0.59357686, 0.40642314],\n",
       "       [0.46972501, 0.53027499],\n",
       "       [0.33584764, 0.66415236],\n",
       "       [0.21142419, 0.78857581],\n",
       "       [0.95379903, 0.04620097],\n",
       "       [0.98998474, 0.01001526],\n",
       "       [0.97308513, 0.02691487],\n",
       "       [0.25644774, 0.74355226],\n",
       "       [0.48461517, 0.51538483],\n",
       "       [0.92697066, 0.07302934],\n",
       "       [0.92744363, 0.07255637],\n",
       "       [0.16007024, 0.83992976],\n",
       "       [0.70558619, 0.29441381],\n",
       "       [0.92935328, 0.07064672],\n",
       "       [0.98208281, 0.01791719],\n",
       "       [0.96959714, 0.03040286],\n",
       "       [0.99759665, 0.00240335],\n",
       "       [0.8850851 , 0.1149149 ],\n",
       "       [0.08602676, 0.91397324],\n",
       "       [0.8590173 , 0.1409827 ],\n",
       "       [0.94218897, 0.05781103],\n",
       "       [0.74782403, 0.25217597],\n",
       "       [0.82641273, 0.17358727],\n",
       "       [0.31568133, 0.68431867],\n",
       "       [0.98269447, 0.01730553],\n",
       "       [0.93316416, 0.06683584],\n",
       "       [0.71518248, 0.28481752],\n",
       "       [0.17033505, 0.82966495],\n",
       "       [0.76389739, 0.23610261],\n",
       "       [0.51416356, 0.48583644],\n",
       "       [0.78609707, 0.21390293],\n",
       "       [0.93835048, 0.06164952],\n",
       "       [0.82843426, 0.17156574],\n",
       "       [0.3658374 , 0.6341626 ],\n",
       "       [0.97252417, 0.02747583],\n",
       "       [0.24894116, 0.75105884],\n",
       "       [0.32828192, 0.67171808],\n",
       "       [0.54439709, 0.45560291],\n",
       "       [0.07201238, 0.92798762],\n",
       "       [0.20006389, 0.79993611],\n",
       "       [0.9352871 , 0.0647129 ],\n",
       "       [0.96235315, 0.03764685],\n",
       "       [0.89762702, 0.10237298],\n",
       "       [0.94552847, 0.05447153],\n",
       "       [0.19256523, 0.80743477],\n",
       "       [0.84092058, 0.15907942],\n",
       "       [0.80432995, 0.19567005],\n",
       "       [0.77148667, 0.22851333],\n",
       "       [0.87234592, 0.12765408],\n",
       "       [0.93858809, 0.06141191]])"
      ]
     },
     "execution_count": 34,
     "metadata": {},
     "output_type": "execute_result"
    }
   ],
   "source": [
    "lgbm_tuned.predict_proba(X_test)"
   ]
  },
  {
   "cell_type": "code",
   "execution_count": 35,
   "metadata": {},
   "outputs": [
    {
     "data": {
      "image/png": "[encoded data removed]",
      "text/plain": [
       "<Figure size 720x720 with 1 Axes>"
      ]
     },
     "metadata": {
      "needs_background": "light"
     },
     "output_type": "display_data"
    }
   ],
   "source": [
    "logit_roc_auc = roc_auc_score(y_test, lgbm_tuned.predict(X_test))\n",
    "fpr, tpr, thresholds = roc_curve(y_test, lgbm_tuned.predict_proba(X_test)[:,1])\n",
    "plt.figure(figsize=(10, 10))\n",
    "plt.plot(fpr, tpr, label=\"AUC (area = %.2f)\" % logit_roc_auc)\n",
    "plt.plot([0, 1], [0, 1], \"r--\")\n",
    "plt.xlim([.0, 1.0])\n",
    "plt.ylim([.0, 1.05])\n",
    "plt.xlabel(\"False Positive Rate\")\n",
    "plt.ylabel(\"True Positive Rate\")\n",
    "plt.title(\"Receiver Operating Characteristic\")\n",
    "plt.legend(loc=\"lower right\")\n",
    "plt.savefig(\"GBM_ROC\")\n",
    "plt.grid(1)\n",
    "plt.show()"
   ]
  },
  {
   "cell_type": "code",
   "execution_count": 37,
   "metadata": {},
   "outputs": [
    {
     "data": {
      "image/png": "[encoded data removed]",
      "text/plain": [
       "<Figure size 1440x360 with 1 Axes>"
      ]
     },
     "metadata": {
      "needs_background": "light"
     },
     "output_type": "display_data"
    }
   ],
   "source": [
    "feature_imp = pd.Series(lgbm_tuned.feature_importances_,\n",
    "                        index=X_train.columns).sort_values(ascending=False)\n",
    "plt.figure(figsize=(20,5))\n",
    "sns.barplot(x=feature_imp, y=feature_imp.index)\n",
    "plt.xlabel(\"Değişken Önem Skorları\")\n",
    "plt.ylabel(\"Değişkenler\")\n",
    "plt.title(\"Değişken Önem Düzeyleri\");"
   ]
  },
  {
   "cell_type": "code",
   "execution_count": null,
   "metadata": {},
   "outputs": [],
   "source": []
  }
 ],
 "metadata": {
  "kernelspec": {
   "display_name": "Python 3",
   "language": "python",
   "name": "python3"
  },
  "language_info": {
   "codemirror_mode": {
    "name": "ipython",
    "version": 3
   },
   "file_extension": ".py",
   "mimetype": "text/x-python",
   "name": "python",
   "nbconvert_exporter": "python",
   "pygments_lexer": "ipython3",
   "version": "3.8.3"
  }
 },
 "nbformat": 4,
 "nbformat_minor": 4
}
