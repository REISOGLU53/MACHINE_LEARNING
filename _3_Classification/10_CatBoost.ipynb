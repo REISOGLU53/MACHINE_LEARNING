{
 "cells": [
  {
   "cell_type": "markdown",
   "metadata": {},
   "source": [
    "# CATBOOST"
   ]
  },
  {
   "cell_type": "code",
   "execution_count": 1,
   "metadata": {},
   "outputs": [],
   "source": [
    "import numpy as np\n",
    "import pandas as pd\n",
    "import statsmodels.api as sm\n",
    "import seaborn as sns\n",
    "import matplotlib.pyplot as plt\n",
    "from sklearn.preprocessing import scale, StandardScaler\n",
    "from sklearn.model_selection import train_test_split, GridSearchCV, cross_val_score\n",
    "from sklearn.metrics import confusion_matrix, accuracy_score, mean_squared_error, r2_score, roc_auc_score, roc_curve, classification_report\n",
    "from sklearn.linear_model import LogisticRegression\n",
    "from sklearn.neighbors import KNeighborsClassifier\n",
    "from sklearn.svm import SVC\n",
    "from sklearn.neural_network import MLPClassifier\n",
    "from sklearn.tree import DecisionTreeClassifier\n",
    "from sklearn.ensemble import RandomForestClassifier\n",
    "from sklearn.ensemble import GradientBoostingClassifier\n"
   ]
  },
  {
   "cell_type": "code",
   "execution_count": 2,
   "metadata": {},
   "outputs": [],
   "source": [
    "import warnings\n",
    "warnings.filterwarnings(\"ignore\", category=DeprecationWarning)\n",
    "warnings.filterwarnings(\"ignore\", category=FutureWarning)"
   ]
  },
  {
   "cell_type": "markdown",
   "metadata": {},
   "source": [
    "### DATASET"
   ]
  },
  {
   "cell_type": "code",
   "execution_count": 3,
   "metadata": {},
   "outputs": [],
   "source": [
    "df = pd.read_csv(\"C://Users//ertug//Desktop//Machine_Learning_Courses//_3_Classification//diabetes.csv//diabetes.csv\")"
   ]
  },
  {
   "cell_type": "code",
   "execution_count": 4,
   "metadata": {},
   "outputs": [
    {
     "data": {
      "text/html": [
       "<div>\n",
       "<style scoped>\n",
       "    .dataframe tbody tr th:only-of-type {\n",
       "        vertical-align: middle;\n",
       "    }\n",
       "\n",
       "    .dataframe tbody tr th {\n",
       "        vertical-align: top;\n",
       "    }\n",
       "\n",
       "    .dataframe thead th {\n",
       "        text-align: right;\n",
       "    }\n",
       "</style>\n",
       "<table border=\"1\" class=\"dataframe\">\n",
       "  <thead>\n",
       "    <tr style=\"text-align: right;\">\n",
       "      <th></th>\n",
       "      <th>Pregnancies</th>\n",
       "      <th>Glucose</th>\n",
       "      <th>BloodPressure</th>\n",
       "      <th>SkinThickness</th>\n",
       "      <th>Insulin</th>\n",
       "      <th>BMI</th>\n",
       "      <th>DiabetesPedigreeFunction</th>\n",
       "      <th>Age</th>\n",
       "      <th>Outcome</th>\n",
       "    </tr>\n",
       "  </thead>\n",
       "  <tbody>\n",
       "    <tr>\n",
       "      <th>0</th>\n",
       "      <td>6</td>\n",
       "      <td>148</td>\n",
       "      <td>72</td>\n",
       "      <td>35</td>\n",
       "      <td>0</td>\n",
       "      <td>33.6</td>\n",
       "      <td>0.627</td>\n",
       "      <td>50</td>\n",
       "      <td>1</td>\n",
       "    </tr>\n",
       "    <tr>\n",
       "      <th>1</th>\n",
       "      <td>1</td>\n",
       "      <td>85</td>\n",
       "      <td>66</td>\n",
       "      <td>29</td>\n",
       "      <td>0</td>\n",
       "      <td>26.6</td>\n",
       "      <td>0.351</td>\n",
       "      <td>31</td>\n",
       "      <td>0</td>\n",
       "    </tr>\n",
       "    <tr>\n",
       "      <th>2</th>\n",
       "      <td>8</td>\n",
       "      <td>183</td>\n",
       "      <td>64</td>\n",
       "      <td>0</td>\n",
       "      <td>0</td>\n",
       "      <td>23.3</td>\n",
       "      <td>0.672</td>\n",
       "      <td>32</td>\n",
       "      <td>1</td>\n",
       "    </tr>\n",
       "    <tr>\n",
       "      <th>3</th>\n",
       "      <td>1</td>\n",
       "      <td>89</td>\n",
       "      <td>66</td>\n",
       "      <td>23</td>\n",
       "      <td>94</td>\n",
       "      <td>28.1</td>\n",
       "      <td>0.167</td>\n",
       "      <td>21</td>\n",
       "      <td>0</td>\n",
       "    </tr>\n",
       "    <tr>\n",
       "      <th>4</th>\n",
       "      <td>0</td>\n",
       "      <td>137</td>\n",
       "      <td>40</td>\n",
       "      <td>35</td>\n",
       "      <td>168</td>\n",
       "      <td>43.1</td>\n",
       "      <td>2.288</td>\n",
       "      <td>33</td>\n",
       "      <td>1</td>\n",
       "    </tr>\n",
       "  </tbody>\n",
       "</table>\n",
       "</div>"
      ],
      "text/plain": [
       "   Pregnancies  Glucose  BloodPressure  SkinThickness  Insulin   BMI  \\\n",
       "0            6      148             72             35        0  33.6   \n",
       "1            1       85             66             29        0  26.6   \n",
       "2            8      183             64              0        0  23.3   \n",
       "3            1       89             66             23       94  28.1   \n",
       "4            0      137             40             35      168  43.1   \n",
       "\n",
       "   DiabetesPedigreeFunction  Age  Outcome  \n",
       "0                     0.627   50        1  \n",
       "1                     0.351   31        0  \n",
       "2                     0.672   32        1  \n",
       "3                     0.167   21        0  \n",
       "4                     2.288   33        1  "
      ]
     },
     "execution_count": 4,
     "metadata": {},
     "output_type": "execute_result"
    }
   ],
   "source": [
    "df.head()"
   ]
  },
  {
   "cell_type": "code",
   "execution_count": 5,
   "metadata": {},
   "outputs": [],
   "source": [
    "y = df[\"Outcome\"]"
   ]
  },
  {
   "cell_type": "code",
   "execution_count": 6,
   "metadata": {},
   "outputs": [],
   "source": [
    "X = df.drop([\"Outcome\"], axis=1)"
   ]
  },
  {
   "cell_type": "code",
   "execution_count": 7,
   "metadata": {},
   "outputs": [],
   "source": [
    "X_train, X_test, y_train, y_test = train_test_split(X,\n",
    "                                                    y, \n",
    "                                                    test_size=.3,\n",
    "                                                    random_state=42)"
   ]
  },
  {
   "cell_type": "markdown",
   "metadata": {},
   "source": [
    "### Model & Training"
   ]
  },
  {
   "cell_type": "code",
   "execution_count": 8,
   "metadata": {},
   "outputs": [],
   "source": [
    "import catboost\n",
    "from catboost import CatBoostClassifier"
   ]
  },
  {
   "cell_type": "code",
   "execution_count": 27,
   "metadata": {},
   "outputs": [],
   "source": [
    "cat_model = CatBoostClassifier().fit(X_train, y_train, verbose=False)"
   ]
  },
  {
   "cell_type": "code",
   "execution_count": 11,
   "metadata": {},
   "outputs": [],
   "source": [
    "y_pred = cat_model.predict(X_test)"
   ]
  },
  {
   "cell_type": "code",
   "execution_count": 12,
   "metadata": {
    "collapsed": true,
    "jupyter": {
     "outputs_hidden": true
    }
   },
   "outputs": [
    {
     "data": {
      "text/plain": [
       "['__class__',\n",
       " '__copy__',\n",
       " '__deepcopy__',\n",
       " '__delattr__',\n",
       " '__dict__',\n",
       " '__dir__',\n",
       " '__doc__',\n",
       " '__eq__',\n",
       " '__format__',\n",
       " '__ge__',\n",
       " '__getattribute__',\n",
       " '__getstate__',\n",
       " '__gt__',\n",
       " '__hash__',\n",
       " '__init__',\n",
       " '__init_subclass__',\n",
       " '__le__',\n",
       " '__lt__',\n",
       " '__module__',\n",
       " '__ne__',\n",
       " '__new__',\n",
       " '__reduce__',\n",
       " '__reduce_ex__',\n",
       " '__repr__',\n",
       " '__setattr__',\n",
       " '__setstate__',\n",
       " '__sizeof__',\n",
       " '__str__',\n",
       " '__subclasshook__',\n",
       " '__weakref__',\n",
       " '_base_calc_leaf_indexes',\n",
       " '_base_drop_unused_features',\n",
       " '_base_eval_metrics',\n",
       " '_base_predict',\n",
       " '_base_shrink',\n",
       " '_base_virtual_ensembles_predict',\n",
       " '_calc_fstr',\n",
       " '_calc_leaf_indexes',\n",
       " '_calc_ostr',\n",
       " '_check_is_classification_objective',\n",
       " '_convert_to_asymmetric_representation',\n",
       " '_deserialize_model',\n",
       " '_estimator_type',\n",
       " '_eval_metrics',\n",
       " '_fit',\n",
       " '_get_borders',\n",
       " '_get_cat_feature_indices',\n",
       " '_get_embedding_feature_indices',\n",
       " '_get_float_feature_indices',\n",
       " '_get_params',\n",
       " '_get_tags',\n",
       " '_get_text_feature_indices',\n",
       " '_get_tree_leaf_values',\n",
       " '_get_tree_node_to_leaf',\n",
       " '_get_tree_splits',\n",
       " '_get_tree_step_nodes',\n",
       " '_init_params',\n",
       " '_is_classification_objective',\n",
       " '_is_comparable_to',\n",
       " '_is_multiregression_objective',\n",
       " '_is_regression_objective',\n",
       " '_iterate_leaf_indexes',\n",
       " '_leaf_indexes_iterator',\n",
       " '_learning_rate',\n",
       " '_load_from_stream',\n",
       " '_load_from_string',\n",
       " '_load_model',\n",
       " '_n_features_in',\n",
       " '_object',\n",
       " '_plot_nonsymmetric_tree',\n",
       " '_plot_oblivious_tree',\n",
       " '_predict',\n",
       " '_prediction_values_change',\n",
       " '_prepare_train_params',\n",
       " '_process_predict_input_data',\n",
       " '_random_seed',\n",
       " '_save_borders',\n",
       " '_save_model',\n",
       " '_serialize_model',\n",
       " '_set_test_evals',\n",
       " '_set_trained_model_attributes',\n",
       " '_staged_predict',\n",
       " '_staged_predict_iterator',\n",
       " '_sum_models',\n",
       " '_train',\n",
       " '_tree_count',\n",
       " '_tune_hyperparams',\n",
       " '_validate_prediction_type',\n",
       " '_virtual_ensembles_predict',\n",
       " 'best_iteration_',\n",
       " 'best_score_',\n",
       " 'calc_feature_statistics',\n",
       " 'calc_leaf_indexes',\n",
       " 'classes_',\n",
       " 'compare',\n",
       " 'copy',\n",
       " 'create_metric_calcer',\n",
       " 'drop_unused_features',\n",
       " 'eval_metrics',\n",
       " 'evals_result_',\n",
       " 'feature_importances_',\n",
       " 'feature_names_',\n",
       " 'fit',\n",
       " 'get_all_params',\n",
       " 'get_best_iteration',\n",
       " 'get_best_score',\n",
       " 'get_borders',\n",
       " 'get_cat_feature_indices',\n",
       " 'get_embedding_feature_indices',\n",
       " 'get_evals_result',\n",
       " 'get_feature_importance',\n",
       " 'get_leaf_values',\n",
       " 'get_leaf_weights',\n",
       " 'get_metadata',\n",
       " 'get_n_features_in',\n",
       " 'get_object_importance',\n",
       " 'get_param',\n",
       " 'get_params',\n",
       " 'get_scale_and_bias',\n",
       " 'get_test_eval',\n",
       " 'get_test_evals',\n",
       " 'get_text_feature_indices',\n",
       " 'get_tree_leaf_counts',\n",
       " 'grid_search',\n",
       " 'is_fitted',\n",
       " 'iterate_leaf_indexes',\n",
       " 'learning_rate_',\n",
       " 'load_model',\n",
       " 'n_features_in_',\n",
       " 'plot_partial_dependence',\n",
       " 'plot_predictions',\n",
       " 'plot_tree',\n",
       " 'predict',\n",
       " 'predict_log_proba',\n",
       " 'predict_proba',\n",
       " 'random_seed_',\n",
       " 'randomized_search',\n",
       " 'save_borders',\n",
       " 'save_model',\n",
       " 'score',\n",
       " 'set_feature_names',\n",
       " 'set_leaf_values',\n",
       " 'set_params',\n",
       " 'set_scale_and_bias',\n",
       " 'shrink',\n",
       " 'staged_predict',\n",
       " 'staged_predict_log_proba',\n",
       " 'staged_predict_proba',\n",
       " 'tree_count_',\n",
       " 'virtual_ensembles_predict']"
      ]
     },
     "execution_count": 12,
     "metadata": {},
     "output_type": "execute_result"
    }
   ],
   "source": [
    "dir(cat_model)"
   ]
  },
  {
   "cell_type": "code",
   "execution_count": 13,
   "metadata": {},
   "outputs": [
    {
     "data": {
      "text/plain": [
       "\u001b[1;31mType:\u001b[0m            CatBoostClassifier\n",
       "\u001b[1;31mString form:\u001b[0m     <catboost.core.CatBoostClassifier object at 0x00000210A5932E80>\n",
       "\u001b[1;31mFile:\u001b[0m            c:\\users\\ertug\\anaconda3\\lib\\site-packages\\catboost\\core.py\n",
       "\u001b[1;31mDocstring:\u001b[0m       <no docstring>\n",
       "\u001b[1;31mClass docstring:\u001b[0m CatBoost model. Contains training, prediction and evaluation methods.\n",
       "\u001b[1;31mInit docstring:\u001b[0m \n",
       "Initialize the CatBoost.\n",
       "\n",
       "Parameters\n",
       "----------\n",
       "params : dict\n",
       "    Parameters for CatBoost.\n",
       "    If  None, all params are set to their defaults.\n",
       "    If  dict, overriding parameters present in dict.\n"
      ]
     },
     "metadata": {},
     "output_type": "display_data"
    }
   ],
   "source": [
    "?cat_model"
   ]
  },
  {
   "cell_type": "code",
   "execution_count": 19,
   "metadata": {},
   "outputs": [
    {
     "data": {
      "text/plain": [
       "0.5096471914376255"
      ]
     },
     "execution_count": 19,
     "metadata": {},
     "output_type": "execute_result"
    }
   ],
   "source": [
    "RMSE = np.sqrt(mean_squared_error(y_test, y_pred))\n",
    "RMSE"
   ]
  },
  {
   "cell_type": "code",
   "execution_count": 20,
   "metadata": {},
   "outputs": [
    {
     "data": {
      "text/plain": [
       "0.7402597402597403"
      ]
     },
     "execution_count": 20,
     "metadata": {},
     "output_type": "execute_result"
    }
   ],
   "source": [
    "accuracy_score(y_test, y_pred)"
   ]
  },
  {
   "cell_type": "code",
   "execution_count": 21,
   "metadata": {},
   "outputs": [
    {
     "data": {
      "text/plain": [
       "-0.1473509933774837"
      ]
     },
     "execution_count": 21,
     "metadata": {},
     "output_type": "execute_result"
    }
   ],
   "source": [
    "r2_score(y_test, y_pred)"
   ]
  },
  {
   "cell_type": "code",
   "execution_count": 22,
   "metadata": {},
   "outputs": [
    {
     "data": {
      "text/plain": [
       "array([[120,  31],\n",
       "       [ 29,  51]], dtype=int64)"
      ]
     },
     "execution_count": 22,
     "metadata": {},
     "output_type": "execute_result"
    }
   ],
   "source": [
    "confusion_matrix(y_test, y_pred)"
   ]
  },
  {
   "cell_type": "code",
   "execution_count": 23,
   "metadata": {},
   "outputs": [
    {
     "name": "stdout",
     "output_type": "stream",
     "text": [
      "              precision    recall  f1-score   support\n",
      "\n",
      "           0       0.81      0.79      0.80       151\n",
      "           1       0.62      0.64      0.63        80\n",
      "\n",
      "    accuracy                           0.74       231\n",
      "   macro avg       0.71      0.72      0.71       231\n",
      "weighted avg       0.74      0.74      0.74       231\n",
      "\n"
     ]
    }
   ],
   "source": [
    "print(classification_report(y_test, y_pred))"
   ]
  },
  {
   "cell_type": "code",
   "execution_count": 24,
   "metadata": {
    "collapsed": true,
    "jupyter": {
     "outputs_hidden": true
    }
   },
   "outputs": [
    {
     "data": {
      "text/plain": [
       "array([[0.5768462 , 0.4231538 ],\n",
       "       [0.9021823 , 0.0978177 ],\n",
       "       [0.86191374, 0.13808626],\n",
       "       [0.81662637, 0.18337363],\n",
       "       [0.53196066, 0.46803934],\n",
       "       [0.53764439, 0.46235561],\n",
       "       [0.99757138, 0.00242862],\n",
       "       [0.22867044, 0.77132956],\n",
       "       [0.410762  , 0.589238  ],\n",
       "       [0.49331881, 0.50668119],\n",
       "       [0.77006336, 0.22993664],\n",
       "       [0.09605754, 0.90394246],\n",
       "       [0.81628495, 0.18371505],\n",
       "       [0.7231033 , 0.2768967 ],\n",
       "       [0.9837828 , 0.0162172 ],\n",
       "       [0.52014912, 0.47985088],\n",
       "       [0.9208321 , 0.0791679 ],\n",
       "       [0.98147159, 0.01852841],\n",
       "       [0.0856879 , 0.9143121 ],\n",
       "       [0.52190757, 0.47809243],\n",
       "       [0.57882726, 0.42117274],\n",
       "       [0.95125927, 0.04874073],\n",
       "       [0.71686838, 0.28313162],\n",
       "       [0.97963532, 0.02036468],\n",
       "       [0.37670831, 0.62329169],\n",
       "       [0.04588905, 0.95411095],\n",
       "       [0.93875125, 0.06124875],\n",
       "       [0.98649048, 0.01350952],\n",
       "       [0.96278846, 0.03721154],\n",
       "       [0.8799783 , 0.1200217 ],\n",
       "       [0.08461207, 0.91538793],\n",
       "       [0.27064184, 0.72935816],\n",
       "       [0.14636298, 0.85363702],\n",
       "       [0.04891697, 0.95108303],\n",
       "       [0.46026547, 0.53973453],\n",
       "       [0.24394783, 0.75605217],\n",
       "       [0.04274518, 0.95725482],\n",
       "       [0.59774232, 0.40225768],\n",
       "       [0.88766529, 0.11233471],\n",
       "       [0.19163239, 0.80836761],\n",
       "       [0.97848149, 0.02151851],\n",
       "       [0.52609688, 0.47390312],\n",
       "       [0.36298172, 0.63701828],\n",
       "       [0.67988484, 0.32011516],\n",
       "       [0.98725267, 0.01274733],\n",
       "       [0.3033128 , 0.6966872 ],\n",
       "       [0.39719992, 0.60280008],\n",
       "       [0.84687923, 0.15312077],\n",
       "       [0.86876055, 0.13123945],\n",
       "       [0.07141037, 0.92858963],\n",
       "       [0.99286751, 0.00713249],\n",
       "       [0.22401581, 0.77598419],\n",
       "       [0.08939574, 0.91060426],\n",
       "       [0.65448615, 0.34551385],\n",
       "       [0.95909205, 0.04090795],\n",
       "       [0.98549888, 0.01450112],\n",
       "       [0.31769157, 0.68230843],\n",
       "       [0.99262624, 0.00737376],\n",
       "       [0.76805741, 0.23194259],\n",
       "       [0.05659533, 0.94340467],\n",
       "       [0.30120915, 0.69879085],\n",
       "       [0.70610842, 0.29389158],\n",
       "       [0.67891065, 0.32108935],\n",
       "       [0.73681805, 0.26318195],\n",
       "       [0.97465908, 0.02534092],\n",
       "       [0.32452945, 0.67547055],\n",
       "       [0.98540896, 0.01459104],\n",
       "       [0.24185943, 0.75814057],\n",
       "       [0.96164851, 0.03835149],\n",
       "       [0.14967419, 0.85032581],\n",
       "       [0.26345038, 0.73654962],\n",
       "       [0.92968281, 0.07031719],\n",
       "       [0.94574473, 0.05425527],\n",
       "       [0.97677693, 0.02322307],\n",
       "       [0.91039804, 0.08960196],\n",
       "       [0.68778584, 0.31221416],\n",
       "       [0.80372474, 0.19627526],\n",
       "       [0.9486886 , 0.0513114 ],\n",
       "       [0.86611043, 0.13388957],\n",
       "       [0.83161105, 0.16838895],\n",
       "       [0.09853573, 0.90146427],\n",
       "       [0.87008008, 0.12991992],\n",
       "       [0.93824325, 0.06175675],\n",
       "       [0.57392026, 0.42607974],\n",
       "       [0.82478975, 0.17521025],\n",
       "       [0.0633796 , 0.9366204 ],\n",
       "       [0.12372201, 0.87627799],\n",
       "       [0.6028819 , 0.3971181 ],\n",
       "       [0.8133727 , 0.1866273 ],\n",
       "       [0.97685707, 0.02314293],\n",
       "       [0.98709348, 0.01290652],\n",
       "       [0.85058783, 0.14941217],\n",
       "       [0.99417824, 0.00582176],\n",
       "       [0.39922026, 0.60077974],\n",
       "       [0.44453584, 0.55546416],\n",
       "       [0.35768983, 0.64231017],\n",
       "       [0.37816893, 0.62183107],\n",
       "       [0.95630259, 0.04369741],\n",
       "       [0.20794945, 0.79205055],\n",
       "       [0.88586834, 0.11413166],\n",
       "       [0.08839216, 0.91160784],\n",
       "       [0.98115477, 0.01884523],\n",
       "       [0.52878389, 0.47121611],\n",
       "       [0.46154013, 0.53845987],\n",
       "       [0.16831452, 0.83168548],\n",
       "       [0.86186185, 0.13813815],\n",
       "       [0.83367211, 0.16632789],\n",
       "       [0.06216271, 0.93783729],\n",
       "       [0.91098845, 0.08901155],\n",
       "       [0.27060536, 0.72939464],\n",
       "       [0.97289554, 0.02710446],\n",
       "       [0.44900489, 0.55099511],\n",
       "       [0.90924878, 0.09075122],\n",
       "       [0.0696038 , 0.9303962 ],\n",
       "       [0.69225642, 0.30774358],\n",
       "       [0.51600684, 0.48399316],\n",
       "       [0.08633371, 0.91366629],\n",
       "       [0.62119862, 0.37880138],\n",
       "       [0.97571878, 0.02428122],\n",
       "       [0.47165782, 0.52834218],\n",
       "       [0.98287978, 0.01712022],\n",
       "       [0.87263025, 0.12736975],\n",
       "       [0.71891116, 0.28108884],\n",
       "       [0.98615367, 0.01384633],\n",
       "       [0.85214264, 0.14785736],\n",
       "       [0.65069123, 0.34930877],\n",
       "       [0.8807914 , 0.1192086 ],\n",
       "       [0.09719579, 0.90280421],\n",
       "       [0.10261218, 0.89738782],\n",
       "       [0.14601712, 0.85398288],\n",
       "       [0.12472253, 0.87527747],\n",
       "       [0.21254061, 0.78745939],\n",
       "       [0.96279476, 0.03720524],\n",
       "       [0.57718921, 0.42281079],\n",
       "       [0.19193472, 0.80806528],\n",
       "       [0.6716137 , 0.3283863 ],\n",
       "       [0.87667872, 0.12332128],\n",
       "       [0.281653  , 0.718347  ],\n",
       "       [0.25463405, 0.74536595],\n",
       "       [0.99444865, 0.00555135],\n",
       "       [0.96885951, 0.03114049],\n",
       "       [0.99067011, 0.00932989],\n",
       "       [0.83733293, 0.16266707],\n",
       "       [0.39594433, 0.60405567],\n",
       "       [0.92226472, 0.07773528],\n",
       "       [0.5043773 , 0.4956227 ],\n",
       "       [0.84376024, 0.15623976],\n",
       "       [0.99618967, 0.00381033],\n",
       "       [0.63499545, 0.36500455],\n",
       "       [0.14984021, 0.85015979],\n",
       "       [0.95755181, 0.04244819],\n",
       "       [0.665279  , 0.334721  ],\n",
       "       [0.71787811, 0.28212189],\n",
       "       [0.58325462, 0.41674538],\n",
       "       [0.99271657, 0.00728343],\n",
       "       [0.50439742, 0.49560258],\n",
       "       [0.7630291 , 0.2369709 ],\n",
       "       [0.35331481, 0.64668519],\n",
       "       [0.32756227, 0.67243773],\n",
       "       [0.9068083 , 0.0931917 ],\n",
       "       [0.38797942, 0.61202058],\n",
       "       [0.20799952, 0.79200048],\n",
       "       [0.82024704, 0.17975296],\n",
       "       [0.995545  , 0.004455  ],\n",
       "       [0.9089992 , 0.0910008 ],\n",
       "       [0.06645913, 0.93354087],\n",
       "       [0.98884842, 0.01115158],\n",
       "       [0.80890931, 0.19109069],\n",
       "       [0.08550798, 0.91449202],\n",
       "       [0.24289827, 0.75710173],\n",
       "       [0.2100015 , 0.7899985 ],\n",
       "       [0.9207142 , 0.0792858 ],\n",
       "       [0.36545926, 0.63454074],\n",
       "       [0.30022571, 0.69977429],\n",
       "       [0.1994394 , 0.8005606 ],\n",
       "       [0.95203146, 0.04796854],\n",
       "       [0.68228186, 0.31771814],\n",
       "       [0.44390366, 0.55609634],\n",
       "       [0.55145666, 0.44854334],\n",
       "       [0.49226453, 0.50773547],\n",
       "       [0.67393499, 0.32606501],\n",
       "       [0.6345717 , 0.3654283 ],\n",
       "       [0.5922006 , 0.4077994 ],\n",
       "       [0.14513701, 0.85486299],\n",
       "       [0.27888197, 0.72111803],\n",
       "       [0.96573377, 0.03426623],\n",
       "       [0.98247266, 0.01752734],\n",
       "       [0.94377397, 0.05622603],\n",
       "       [0.29912157, 0.70087843],\n",
       "       [0.41652357, 0.58347643],\n",
       "       [0.98176991, 0.01823009],\n",
       "       [0.94383622, 0.05616378],\n",
       "       [0.11639676, 0.88360324],\n",
       "       [0.85736353, 0.14263647],\n",
       "       [0.84343129, 0.15656871],\n",
       "       [0.97885133, 0.02114867],\n",
       "       [0.98222081, 0.01777919],\n",
       "       [0.99371961, 0.00628039],\n",
       "       [0.88886359, 0.11113641],\n",
       "       [0.10868879, 0.89131121],\n",
       "       [0.81785248, 0.18214752],\n",
       "       [0.96381156, 0.03618844],\n",
       "       [0.64689045, 0.35310955],\n",
       "       [0.82877889, 0.17122111],\n",
       "       [0.25923569, 0.74076431],\n",
       "       [0.96629031, 0.03370969],\n",
       "       [0.94388398, 0.05611602],\n",
       "       [0.8198876 , 0.1801124 ],\n",
       "       [0.09418306, 0.90581694],\n",
       "       [0.72165819, 0.27834181],\n",
       "       [0.65487993, 0.34512007],\n",
       "       [0.82715193, 0.17284807],\n",
       "       [0.9202293 , 0.0797707 ],\n",
       "       [0.89158086, 0.10841914],\n",
       "       [0.30673206, 0.69326794],\n",
       "       [0.96205747, 0.03794253],\n",
       "       [0.10755392, 0.89244608],\n",
       "       [0.34442947, 0.65557053],\n",
       "       [0.62698659, 0.37301341],\n",
       "       [0.08135393, 0.91864607],\n",
       "       [0.34762407, 0.65237593],\n",
       "       [0.82064798, 0.17935202],\n",
       "       [0.98068811, 0.01931189],\n",
       "       [0.89082792, 0.10917208],\n",
       "       [0.95138919, 0.04861081],\n",
       "       [0.12127716, 0.87872284],\n",
       "       [0.69820726, 0.30179274],\n",
       "       [0.76940595, 0.23059405],\n",
       "       [0.64771094, 0.35228906],\n",
       "       [0.8535019 , 0.1464981 ],\n",
       "       [0.93106662, 0.06893338]])"
      ]
     },
     "execution_count": 24,
     "metadata": {},
     "output_type": "execute_result"
    }
   ],
   "source": [
    "cat_model.predict_proba(X_test)"
   ]
  },
  {
   "cell_type": "code",
   "execution_count": 25,
   "metadata": {},
   "outputs": [
    {
     "data": {
      "image/png": "[encoded data removed]",
      "text/plain": [
       "<Figure size 720x720 with 1 Axes>"
      ]
     },
     "metadata": {
      "needs_background": "light"
     },
     "output_type": "display_data"
    }
   ],
   "source": [
    "logit_roc_auc = roc_auc_score(y_test, cat_model.predict(X_test))\n",
    "fpr, tpr, thresholds = roc_curve(y_test, cat_model.predict_proba(X_test)[:,1])\n",
    "plt.figure(figsize=(10, 10))\n",
    "plt.plot(fpr, tpr, label=\"AUC (area = %.2f)\" % logit_roc_auc)\n",
    "plt.plot([0, 1], [0, 1], \"r--\")\n",
    "plt.xlim([.0, 1.0])\n",
    "plt.ylim([.0, 1.05])\n",
    "plt.xlabel(\"False Positive Rate\")\n",
    "plt.ylabel(\"True Positive Rate\")\n",
    "plt.title(\"Receiver Operating Characteristic\")\n",
    "plt.legend(loc=\"lower right\")\n",
    "plt.savefig(\"GBM_ROC\")\n",
    "plt.grid(1)\n",
    "plt.show()"
   ]
  },
  {
   "cell_type": "code",
   "execution_count": 26,
   "metadata": {},
   "outputs": [
    {
     "data": {
      "image/png": "[encoded data removed]",
      "text/plain": [
       "<Figure size 1440x360 with 1 Axes>"
      ]
     },
     "metadata": {
      "needs_background": "light"
     },
     "output_type": "display_data"
    }
   ],
   "source": [
    "feature_imp = pd.Series(cat_model.feature_importances_,\n",
    "                        index=X_train.columns).sort_values(ascending=False)\n",
    "plt.figure(figsize=(20,5))\n",
    "sns.barplot(x=feature_imp, y=feature_imp.index)\n",
    "plt.xlabel(\"Değişken Önem Skorları\")\n",
    "plt.ylabel(\"Değişkenler\")\n",
    "plt.title(\"Değişken Önem Düzeyleri\");"
   ]
  },
  {
   "cell_type": "markdown",
   "metadata": {},
   "source": [
    "### MODEL TUNING"
   ]
  },
  {
   "cell_type": "code",
   "execution_count": 28,
   "metadata": {},
   "outputs": [],
   "source": [
    "cat_boost = CatBoostClassifier()"
   ]
  },
  {
   "cell_type": "code",
   "execution_count": 29,
   "metadata": {},
   "outputs": [],
   "source": [
    "cat_params = {\"iterations\": [200, 500, 1000, 2000],\n",
    "              \"learning_rate\": [.1, .01, .001, .0001, .00001],\n",
    "              \"depth\": [3, 5, 8]} # \"iterations\"=\"n_estimators\"\n",
    "                                  # \"depth\"=\"max_depth\""
   ]
  },
  {
   "cell_type": "code",
   "execution_count": 32,
   "metadata": {
    "collapsed": true,
    "jupyter": {
     "outputs_hidden": true
    }
   },
   "outputs": [
    {
     "name": "stdout",
     "output_type": "stream",
     "text": [
      "Fitting 10 folds for each of 60 candidates, totalling 600 fits\n"
     ]
    },
    {
     "name": "stderr",
     "output_type": "stream",
     "text": [
      "[Parallel(n_jobs=-1)]: Using backend LokyBackend with 2 concurrent workers.\n",
      "[Parallel(n_jobs=-1)]: Done  37 tasks      | elapsed:   34.6s\n",
      "[Parallel(n_jobs=-1)]: Done 158 tasks      | elapsed:  4.7min\n",
      "[Parallel(n_jobs=-1)]: Done 361 tasks      | elapsed: 13.9min\n",
      "[Parallel(n_jobs=-1)]: Done 600 out of 600 | elapsed: 49.9min finished\n"
     ]
    },
    {
     "name": "stdout",
     "output_type": "stream",
     "text": [
      "0:\tlearn: 0.6863412\ttotal: 23.8ms\tremaining: 4.74s\n",
      "1:\tlearn: 0.6811322\ttotal: 35.3ms\tremaining: 3.49s\n",
      "2:\tlearn: 0.6753199\ttotal: 46.6ms\tremaining: 3.06s\n",
      "3:\tlearn: 0.6697717\ttotal: 58.9ms\tremaining: 2.88s\n",
      "4:\tlearn: 0.6642090\ttotal: 72.3ms\tremaining: 2.82s\n",
      "5:\tlearn: 0.6577038\ttotal: 83.9ms\tremaining: 2.71s\n",
      "6:\tlearn: 0.6522290\ttotal: 109ms\tremaining: 3s\n",
      "7:\tlearn: 0.6466015\ttotal: 126ms\tremaining: 3.03s\n",
      "8:\tlearn: 0.6408068\ttotal: 141ms\tremaining: 2.98s\n",
      "9:\tlearn: 0.6358218\ttotal: 162ms\tremaining: 3.08s\n",
      "10:\tlearn: 0.6300444\ttotal: 173ms\tremaining: 2.97s\n",
      "11:\tlearn: 0.6240992\ttotal: 189ms\tremaining: 2.96s\n",
      "12:\tlearn: 0.6196618\ttotal: 216ms\tremaining: 3.11s\n",
      "13:\tlearn: 0.6149237\ttotal: 227ms\tremaining: 3.02s\n",
      "14:\tlearn: 0.6093146\ttotal: 238ms\tremaining: 2.94s\n",
      "15:\tlearn: 0.6047282\ttotal: 269ms\tremaining: 3.09s\n",
      "16:\tlearn: 0.6013242\ttotal: 279ms\tremaining: 3s\n",
      "17:\tlearn: 0.5958624\ttotal: 288ms\tremaining: 2.91s\n",
      "18:\tlearn: 0.5903733\ttotal: 313ms\tremaining: 2.98s\n",
      "19:\tlearn: 0.5866505\ttotal: 326ms\tremaining: 2.93s\n",
      "20:\tlearn: 0.5831865\ttotal: 338ms\tremaining: 2.88s\n",
      "21:\tlearn: 0.5787839\ttotal: 350ms\tremaining: 2.83s\n",
      "22:\tlearn: 0.5749453\ttotal: 367ms\tremaining: 2.83s\n",
      "23:\tlearn: 0.5703621\ttotal: 408ms\tremaining: 2.99s\n",
      "24:\tlearn: 0.5662773\ttotal: 427ms\tremaining: 2.99s\n",
      "25:\tlearn: 0.5629069\ttotal: 444ms\tremaining: 2.97s\n",
      "26:\tlearn: 0.5589454\ttotal: 458ms\tremaining: 2.93s\n",
      "27:\tlearn: 0.5544253\ttotal: 485ms\tremaining: 2.98s\n",
      "28:\tlearn: 0.5504193\ttotal: 497ms\tremaining: 2.93s\n",
      "29:\tlearn: 0.5470888\ttotal: 511ms\tremaining: 2.9s\n",
      "30:\tlearn: 0.5441572\ttotal: 546ms\tremaining: 2.98s\n",
      "31:\tlearn: 0.5396568\ttotal: 596ms\tremaining: 3.13s\n",
      "32:\tlearn: 0.5356520\ttotal: 614ms\tremaining: 3.11s\n",
      "33:\tlearn: 0.5315662\ttotal: 678ms\tremaining: 3.31s\n",
      "34:\tlearn: 0.5280107\ttotal: 690ms\tremaining: 3.25s\n",
      "35:\tlearn: 0.5248634\ttotal: 705ms\tremaining: 3.21s\n",
      "36:\tlearn: 0.5224134\ttotal: 719ms\tremaining: 3.17s\n",
      "37:\tlearn: 0.5198514\ttotal: 733ms\tremaining: 3.12s\n",
      "38:\tlearn: 0.5167668\ttotal: 751ms\tremaining: 3.1s\n",
      "39:\tlearn: 0.5139063\ttotal: 779ms\tremaining: 3.12s\n",
      "40:\tlearn: 0.5101721\ttotal: 802ms\tremaining: 3.11s\n",
      "41:\tlearn: 0.5066326\ttotal: 813ms\tremaining: 3.06s\n",
      "42:\tlearn: 0.5033936\ttotal: 825ms\tremaining: 3.01s\n",
      "43:\tlearn: 0.5006117\ttotal: 836ms\tremaining: 2.96s\n",
      "44:\tlearn: 0.4980917\ttotal: 847ms\tremaining: 2.92s\n",
      "45:\tlearn: 0.4959463\ttotal: 864ms\tremaining: 2.89s\n",
      "46:\tlearn: 0.4934198\ttotal: 876ms\tremaining: 2.85s\n",
      "47:\tlearn: 0.4906410\ttotal: 890ms\tremaining: 2.82s\n",
      "48:\tlearn: 0.4878576\ttotal: 904ms\tremaining: 2.79s\n",
      "49:\tlearn: 0.4850977\ttotal: 923ms\tremaining: 2.77s\n",
      "50:\tlearn: 0.4826157\ttotal: 948ms\tremaining: 2.77s\n",
      "51:\tlearn: 0.4798530\ttotal: 960ms\tremaining: 2.73s\n",
      "52:\tlearn: 0.4776349\ttotal: 984ms\tremaining: 2.73s\n",
      "53:\tlearn: 0.4754652\ttotal: 1.01s\tremaining: 2.73s\n",
      "54:\tlearn: 0.4733755\ttotal: 1.02s\tremaining: 2.7s\n",
      "55:\tlearn: 0.4706337\ttotal: 1.04s\tremaining: 2.66s\n",
      "56:\tlearn: 0.4677619\ttotal: 1.05s\tremaining: 2.64s\n",
      "57:\tlearn: 0.4657008\ttotal: 1.06s\tremaining: 2.61s\n",
      "58:\tlearn: 0.4637682\ttotal: 1.07s\tremaining: 2.57s\n",
      "59:\tlearn: 0.4615518\ttotal: 1.09s\tremaining: 2.55s\n",
      "60:\tlearn: 0.4600032\ttotal: 1.12s\tremaining: 2.55s\n",
      "61:\tlearn: 0.4584260\ttotal: 1.12s\tremaining: 2.5s\n",
      "62:\tlearn: 0.4567343\ttotal: 1.13s\tremaining: 2.46s\n",
      "63:\tlearn: 0.4541223\ttotal: 1.14s\tremaining: 2.42s\n",
      "64:\tlearn: 0.4530108\ttotal: 1.16s\tremaining: 2.41s\n",
      "65:\tlearn: 0.4512377\ttotal: 1.17s\tremaining: 2.38s\n",
      "66:\tlearn: 0.4487025\ttotal: 1.19s\tremaining: 2.35s\n",
      "67:\tlearn: 0.4468152\ttotal: 1.2s\tremaining: 2.32s\n",
      "68:\tlearn: 0.4449902\ttotal: 1.21s\tremaining: 2.3s\n",
      "69:\tlearn: 0.4426412\ttotal: 1.22s\tremaining: 2.27s\n",
      "70:\tlearn: 0.4401906\ttotal: 1.25s\tremaining: 2.27s\n",
      "71:\tlearn: 0.4380992\ttotal: 1.26s\tremaining: 2.24s\n",
      "72:\tlearn: 0.4367450\ttotal: 1.28s\tremaining: 2.22s\n",
      "73:\tlearn: 0.4353520\ttotal: 1.31s\tremaining: 2.23s\n",
      "74:\tlearn: 0.4340243\ttotal: 1.32s\tremaining: 2.2s\n",
      "75:\tlearn: 0.4315947\ttotal: 1.35s\tremaining: 2.2s\n",
      "76:\tlearn: 0.4298990\ttotal: 1.36s\tremaining: 2.18s\n",
      "77:\tlearn: 0.4285587\ttotal: 1.38s\tremaining: 2.16s\n",
      "78:\tlearn: 0.4266109\ttotal: 1.4s\tremaining: 2.15s\n",
      "79:\tlearn: 0.4244339\ttotal: 1.42s\tremaining: 2.12s\n",
      "80:\tlearn: 0.4228679\ttotal: 1.43s\tremaining: 2.1s\n",
      "81:\tlearn: 0.4214531\ttotal: 1.44s\tremaining: 2.08s\n",
      "82:\tlearn: 0.4200925\ttotal: 1.46s\tremaining: 2.06s\n",
      "83:\tlearn: 0.4184640\ttotal: 1.47s\tremaining: 2.04s\n",
      "84:\tlearn: 0.4168303\ttotal: 1.49s\tremaining: 2.02s\n",
      "85:\tlearn: 0.4156724\ttotal: 1.5s\tremaining: 1.99s\n",
      "86:\tlearn: 0.4140974\ttotal: 1.53s\tremaining: 1.98s\n",
      "87:\tlearn: 0.4124542\ttotal: 1.55s\tremaining: 1.97s\n",
      "88:\tlearn: 0.4107650\ttotal: 1.56s\tremaining: 1.95s\n",
      "89:\tlearn: 0.4091247\ttotal: 1.57s\tremaining: 1.92s\n",
      "90:\tlearn: 0.4075743\ttotal: 1.58s\tremaining: 1.9s\n",
      "91:\tlearn: 0.4062728\ttotal: 1.6s\tremaining: 1.88s\n",
      "92:\tlearn: 0.4044987\ttotal: 1.61s\tremaining: 1.85s\n",
      "93:\tlearn: 0.4030509\ttotal: 1.63s\tremaining: 1.84s\n",
      "94:\tlearn: 0.4012366\ttotal: 1.65s\tremaining: 1.82s\n",
      "95:\tlearn: 0.3995010\ttotal: 1.66s\tremaining: 1.8s\n",
      "96:\tlearn: 0.3983567\ttotal: 1.69s\tremaining: 1.79s\n",
      "97:\tlearn: 0.3970163\ttotal: 1.7s\tremaining: 1.77s\n",
      "98:\tlearn: 0.3955954\ttotal: 1.72s\tremaining: 1.76s\n",
      "99:\tlearn: 0.3946458\ttotal: 1.74s\tremaining: 1.74s\n",
      "100:\tlearn: 0.3932682\ttotal: 1.76s\tremaining: 1.73s\n",
      "101:\tlearn: 0.3921086\ttotal: 1.77s\tremaining: 1.71s\n",
      "102:\tlearn: 0.3912041\ttotal: 1.79s\tremaining: 1.69s\n",
      "103:\tlearn: 0.3896085\ttotal: 1.8s\tremaining: 1.66s\n",
      "104:\tlearn: 0.3881310\ttotal: 1.85s\tremaining: 1.67s\n",
      "105:\tlearn: 0.3867841\ttotal: 1.86s\tremaining: 1.65s\n",
      "106:\tlearn: 0.3855611\ttotal: 1.87s\tremaining: 1.63s\n",
      "107:\tlearn: 0.3841345\ttotal: 1.88s\tremaining: 1.6s\n",
      "108:\tlearn: 0.3829608\ttotal: 1.89s\tremaining: 1.58s\n",
      "109:\tlearn: 0.3819127\ttotal: 1.9s\tremaining: 1.56s\n",
      "110:\tlearn: 0.3810000\ttotal: 1.92s\tremaining: 1.54s\n",
      "111:\tlearn: 0.3790356\ttotal: 1.93s\tremaining: 1.52s\n",
      "112:\tlearn: 0.3774673\ttotal: 1.95s\tremaining: 1.5s\n",
      "113:\tlearn: 0.3762712\ttotal: 1.98s\tremaining: 1.49s\n",
      "114:\tlearn: 0.3750760\ttotal: 1.99s\tremaining: 1.47s\n",
      "115:\tlearn: 0.3735547\ttotal: 2s\tremaining: 1.45s\n",
      "116:\tlearn: 0.3728015\ttotal: 2.01s\tremaining: 1.42s\n",
      "117:\tlearn: 0.3714192\ttotal: 2.03s\tremaining: 1.41s\n",
      "118:\tlearn: 0.3705935\ttotal: 2.04s\tremaining: 1.39s\n",
      "119:\tlearn: 0.3694736\ttotal: 2.06s\tremaining: 1.37s\n",
      "120:\tlearn: 0.3687791\ttotal: 2.07s\tremaining: 1.35s\n",
      "121:\tlearn: 0.3679782\ttotal: 2.08s\tremaining: 1.33s\n",
      "122:\tlearn: 0.3666547\ttotal: 2.09s\tremaining: 1.31s\n",
      "123:\tlearn: 0.3655144\ttotal: 2.1s\tremaining: 1.29s\n",
      "124:\tlearn: 0.3643546\ttotal: 2.12s\tremaining: 1.27s\n",
      "125:\tlearn: 0.3636557\ttotal: 2.14s\tremaining: 1.25s\n",
      "126:\tlearn: 0.3625550\ttotal: 2.16s\tremaining: 1.24s\n",
      "127:\tlearn: 0.3610147\ttotal: 2.17s\tremaining: 1.22s\n",
      "128:\tlearn: 0.3596348\ttotal: 2.18s\tremaining: 1.2s\n",
      "129:\tlearn: 0.3584074\ttotal: 2.19s\tremaining: 1.18s\n",
      "130:\tlearn: 0.3569602\ttotal: 2.21s\tremaining: 1.17s\n",
      "131:\tlearn: 0.3558913\ttotal: 2.23s\tremaining: 1.15s\n",
      "132:\tlearn: 0.3548689\ttotal: 2.24s\tremaining: 1.13s\n",
      "133:\tlearn: 0.3533837\ttotal: 2.25s\tremaining: 1.11s\n",
      "134:\tlearn: 0.3524619\ttotal: 2.27s\tremaining: 1.09s\n",
      "135:\tlearn: 0.3518338\ttotal: 2.28s\tremaining: 1.07s\n",
      "136:\tlearn: 0.3505366\ttotal: 2.29s\tremaining: 1.05s\n",
      "137:\tlearn: 0.3497723\ttotal: 2.31s\tremaining: 1.04s\n",
      "138:\tlearn: 0.3489030\ttotal: 2.33s\tremaining: 1.02s\n",
      "139:\tlearn: 0.3482652\ttotal: 2.35s\tremaining: 1s\n",
      "140:\tlearn: 0.3471165\ttotal: 2.35s\tremaining: 985ms\n",
      "141:\tlearn: 0.3458630\ttotal: 2.37s\tremaining: 966ms\n",
      "142:\tlearn: 0.3445867\ttotal: 2.42s\tremaining: 964ms\n",
      "143:\tlearn: 0.3436773\ttotal: 2.43s\tremaining: 944ms\n",
      "144:\tlearn: 0.3426979\ttotal: 2.44s\tremaining: 925ms\n",
      "145:\tlearn: 0.3417627\ttotal: 2.45s\tremaining: 905ms\n",
      "146:\tlearn: 0.3407937\ttotal: 2.46s\tremaining: 887ms\n",
      "147:\tlearn: 0.3398191\ttotal: 2.48s\tremaining: 870ms\n",
      "148:\tlearn: 0.3390524\ttotal: 2.49s\tremaining: 853ms\n",
      "149:\tlearn: 0.3381671\ttotal: 2.52s\tremaining: 840ms\n",
      "150:\tlearn: 0.3375138\ttotal: 2.53s\tremaining: 822ms\n",
      "151:\tlearn: 0.3365898\ttotal: 2.56s\tremaining: 809ms\n",
      "152:\tlearn: 0.3358887\ttotal: 2.58s\tremaining: 792ms\n",
      "153:\tlearn: 0.3346492\ttotal: 2.59s\tremaining: 774ms\n",
      "154:\tlearn: 0.3336018\ttotal: 2.61s\tremaining: 757ms\n",
      "155:\tlearn: 0.3330832\ttotal: 2.62s\tremaining: 739ms\n",
      "156:\tlearn: 0.3324238\ttotal: 2.64s\tremaining: 722ms\n",
      "157:\tlearn: 0.3312569\ttotal: 2.65s\tremaining: 705ms\n",
      "158:\tlearn: 0.3299834\ttotal: 2.66s\tremaining: 686ms\n",
      "159:\tlearn: 0.3286908\ttotal: 2.69s\tremaining: 674ms\n",
      "160:\tlearn: 0.3276277\ttotal: 2.71s\tremaining: 656ms\n",
      "161:\tlearn: 0.3267134\ttotal: 2.72s\tremaining: 638ms\n",
      "162:\tlearn: 0.3259380\ttotal: 2.73s\tremaining: 620ms\n",
      "163:\tlearn: 0.3249529\ttotal: 2.74s\tremaining: 602ms\n",
      "164:\tlearn: 0.3241876\ttotal: 2.77s\tremaining: 587ms\n",
      "165:\tlearn: 0.3237797\ttotal: 2.78s\tremaining: 569ms\n",
      "166:\tlearn: 0.3228611\ttotal: 2.8s\tremaining: 553ms\n",
      "167:\tlearn: 0.3218481\ttotal: 2.82s\tremaining: 538ms\n",
      "168:\tlearn: 0.3209571\ttotal: 2.83s\tremaining: 520ms\n",
      "169:\tlearn: 0.3200492\ttotal: 2.85s\tremaining: 504ms\n",
      "170:\tlearn: 0.3189373\ttotal: 2.87s\tremaining: 487ms\n",
      "171:\tlearn: 0.3179033\ttotal: 2.89s\tremaining: 471ms\n",
      "172:\tlearn: 0.3172849\ttotal: 2.9s\tremaining: 453ms\n",
      "173:\tlearn: 0.3166655\ttotal: 2.91s\tremaining: 435ms\n",
      "174:\tlearn: 0.3157718\ttotal: 2.92s\tremaining: 417ms\n",
      "175:\tlearn: 0.3150160\ttotal: 2.97s\tremaining: 405ms\n",
      "176:\tlearn: 0.3142830\ttotal: 2.98s\tremaining: 387ms\n",
      "177:\tlearn: 0.3138662\ttotal: 3s\tremaining: 370ms\n",
      "178:\tlearn: 0.3133629\ttotal: 3.01s\tremaining: 353ms\n",
      "179:\tlearn: 0.3125061\ttotal: 3.05s\tremaining: 339ms\n",
      "180:\tlearn: 0.3115252\ttotal: 3.06s\tremaining: 321ms\n",
      "181:\tlearn: 0.3110208\ttotal: 3.07s\tremaining: 303ms\n",
      "182:\tlearn: 0.3105547\ttotal: 3.09s\tremaining: 287ms\n",
      "183:\tlearn: 0.3094534\ttotal: 3.12s\tremaining: 272ms\n",
      "184:\tlearn: 0.3087456\ttotal: 3.13s\tremaining: 254ms\n",
      "185:\tlearn: 0.3079835\ttotal: 3.15s\tremaining: 237ms\n",
      "186:\tlearn: 0.3072245\ttotal: 3.16s\tremaining: 220ms\n",
      "187:\tlearn: 0.3061540\ttotal: 3.19s\tremaining: 203ms\n",
      "188:\tlearn: 0.3054721\ttotal: 3.21s\tremaining: 187ms\n",
      "189:\tlearn: 0.3048467\ttotal: 3.23s\tremaining: 170ms\n",
      "190:\tlearn: 0.3042662\ttotal: 3.24s\tremaining: 153ms\n",
      "191:\tlearn: 0.3037025\ttotal: 3.28s\tremaining: 137ms\n",
      "192:\tlearn: 0.3028928\ttotal: 3.29s\tremaining: 119ms\n",
      "193:\tlearn: 0.3020155\ttotal: 3.3s\tremaining: 102ms\n",
      "194:\tlearn: 0.3010007\ttotal: 3.31s\tremaining: 85ms\n",
      "195:\tlearn: 0.3002253\ttotal: 3.33s\tremaining: 67.9ms\n",
      "196:\tlearn: 0.2999682\ttotal: 3.34s\tremaining: 50.9ms\n",
      "197:\tlearn: 0.2994228\ttotal: 3.35s\tremaining: 33.9ms\n",
      "198:\tlearn: 0.2986712\ttotal: 3.37s\tremaining: 17ms\n",
      "199:\tlearn: 0.2980459\ttotal: 3.4s\tremaining: 0us\n"
     ]
    }
   ],
   "source": [
    "cat_cv_model = GridSearchCV(cat_boost, cat_params, cv=10, verbose=2, n_jobs=-1).fit(X_train, y_train)"
   ]
  },
  {
   "cell_type": "code",
   "execution_count": 33,
   "metadata": {},
   "outputs": [
    {
     "data": {
      "text/plain": [
       "{'depth': 8, 'iterations': 200, 'learning_rate': 0.01}"
      ]
     },
     "execution_count": 33,
     "metadata": {},
     "output_type": "execute_result"
    }
   ],
   "source": [
    "cat_cv_model.best_params_"
   ]
  },
  {
   "cell_type": "code",
   "execution_count": 34,
   "metadata": {},
   "outputs": [
    {
     "data": {
      "text/plain": [
       "0.7764849755415792"
      ]
     },
     "execution_count": 34,
     "metadata": {},
     "output_type": "execute_result"
    }
   ],
   "source": [
    "cat_cv_model.best_score_"
   ]
  },
  {
   "cell_type": "code",
   "execution_count": 35,
   "metadata": {
    "collapsed": true,
    "jupyter": {
     "outputs_hidden": true
    }
   },
   "outputs": [
    {
     "name": "stdout",
     "output_type": "stream",
     "text": [
      "0:\tlearn: 0.6863412\ttotal: 12.6ms\tremaining: 2.51s\n",
      "1:\tlearn: 0.6811322\ttotal: 23.3ms\tremaining: 2.31s\n",
      "2:\tlearn: 0.6753199\ttotal: 93.6ms\tremaining: 6.14s\n",
      "3:\tlearn: 0.6697717\ttotal: 104ms\tremaining: 5.1s\n",
      "4:\tlearn: 0.6642090\ttotal: 117ms\tremaining: 4.56s\n",
      "5:\tlearn: 0.6577038\ttotal: 129ms\tremaining: 4.16s\n",
      "6:\tlearn: 0.6522290\ttotal: 193ms\tremaining: 5.31s\n",
      "7:\tlearn: 0.6466015\ttotal: 203ms\tremaining: 4.86s\n",
      "8:\tlearn: 0.6408068\ttotal: 212ms\tremaining: 4.49s\n",
      "9:\tlearn: 0.6358218\ttotal: 222ms\tremaining: 4.22s\n",
      "10:\tlearn: 0.6300444\ttotal: 243ms\tremaining: 4.18s\n",
      "11:\tlearn: 0.6240992\ttotal: 273ms\tremaining: 4.28s\n",
      "12:\tlearn: 0.6196618\ttotal: 285ms\tremaining: 4.1s\n",
      "13:\tlearn: 0.6149237\ttotal: 297ms\tremaining: 3.94s\n",
      "14:\tlearn: 0.6093146\ttotal: 308ms\tremaining: 3.8s\n",
      "15:\tlearn: 0.6047282\ttotal: 351ms\tremaining: 4.03s\n",
      "16:\tlearn: 0.6013242\ttotal: 366ms\tremaining: 3.94s\n",
      "17:\tlearn: 0.5958624\ttotal: 381ms\tremaining: 3.85s\n",
      "18:\tlearn: 0.5903733\ttotal: 396ms\tremaining: 3.77s\n",
      "19:\tlearn: 0.5866505\ttotal: 409ms\tremaining: 3.68s\n",
      "20:\tlearn: 0.5831865\ttotal: 431ms\tremaining: 3.68s\n",
      "21:\tlearn: 0.5787839\ttotal: 442ms\tremaining: 3.58s\n",
      "22:\tlearn: 0.5749453\ttotal: 452ms\tremaining: 3.48s\n",
      "23:\tlearn: 0.5703621\ttotal: 461ms\tremaining: 3.38s\n",
      "24:\tlearn: 0.5662773\ttotal: 472ms\tremaining: 3.3s\n",
      "25:\tlearn: 0.5629069\ttotal: 483ms\tremaining: 3.23s\n",
      "26:\tlearn: 0.5589454\ttotal: 493ms\tremaining: 3.16s\n",
      "27:\tlearn: 0.5544253\ttotal: 503ms\tremaining: 3.09s\n",
      "28:\tlearn: 0.5504193\ttotal: 513ms\tremaining: 3.03s\n",
      "29:\tlearn: 0.5470888\ttotal: 522ms\tremaining: 2.96s\n",
      "30:\tlearn: 0.5441572\ttotal: 530ms\tremaining: 2.89s\n",
      "31:\tlearn: 0.5396568\ttotal: 538ms\tremaining: 2.83s\n",
      "32:\tlearn: 0.5356520\ttotal: 552ms\tremaining: 2.79s\n",
      "33:\tlearn: 0.5315662\ttotal: 566ms\tremaining: 2.77s\n",
      "34:\tlearn: 0.5280107\ttotal: 580ms\tremaining: 2.73s\n",
      "35:\tlearn: 0.5248634\ttotal: 593ms\tremaining: 2.7s\n",
      "36:\tlearn: 0.5224134\ttotal: 614ms\tremaining: 2.7s\n",
      "37:\tlearn: 0.5198514\ttotal: 625ms\tremaining: 2.66s\n",
      "38:\tlearn: 0.5167668\ttotal: 636ms\tremaining: 2.63s\n",
      "39:\tlearn: 0.5139063\ttotal: 646ms\tremaining: 2.58s\n",
      "40:\tlearn: 0.5101721\ttotal: 656ms\tremaining: 2.54s\n",
      "41:\tlearn: 0.5066326\ttotal: 666ms\tremaining: 2.5s\n",
      "42:\tlearn: 0.5033936\ttotal: 675ms\tremaining: 2.46s\n",
      "43:\tlearn: 0.5006117\ttotal: 684ms\tremaining: 2.43s\n",
      "44:\tlearn: 0.4980917\ttotal: 693ms\tremaining: 2.39s\n",
      "45:\tlearn: 0.4959463\ttotal: 703ms\tremaining: 2.35s\n",
      "46:\tlearn: 0.4934198\ttotal: 711ms\tremaining: 2.31s\n",
      "47:\tlearn: 0.4906410\ttotal: 725ms\tremaining: 2.29s\n",
      "48:\tlearn: 0.4878576\ttotal: 766ms\tremaining: 2.36s\n",
      "49:\tlearn: 0.4850977\ttotal: 775ms\tremaining: 2.32s\n",
      "50:\tlearn: 0.4826157\ttotal: 783ms\tremaining: 2.29s\n",
      "51:\tlearn: 0.4798530\ttotal: 793ms\tremaining: 2.25s\n",
      "52:\tlearn: 0.4776349\ttotal: 801ms\tremaining: 2.22s\n",
      "53:\tlearn: 0.4754652\ttotal: 810ms\tremaining: 2.19s\n",
      "54:\tlearn: 0.4733755\ttotal: 819ms\tremaining: 2.16s\n",
      "55:\tlearn: 0.4706337\ttotal: 827ms\tremaining: 2.13s\n",
      "56:\tlearn: 0.4677619\ttotal: 836ms\tremaining: 2.1s\n",
      "57:\tlearn: 0.4657008\ttotal: 844ms\tremaining: 2.07s\n",
      "58:\tlearn: 0.4637682\ttotal: 853ms\tremaining: 2.04s\n",
      "59:\tlearn: 0.4615518\ttotal: 861ms\tremaining: 2.01s\n",
      "60:\tlearn: 0.4600032\ttotal: 870ms\tremaining: 1.98s\n",
      "61:\tlearn: 0.4584260\ttotal: 872ms\tremaining: 1.94s\n",
      "62:\tlearn: 0.4567343\ttotal: 881ms\tremaining: 1.92s\n",
      "63:\tlearn: 0.4541223\ttotal: 889ms\tremaining: 1.89s\n",
      "64:\tlearn: 0.4530108\ttotal: 892ms\tremaining: 1.85s\n",
      "65:\tlearn: 0.4512377\ttotal: 945ms\tremaining: 1.92s\n",
      "66:\tlearn: 0.4487025\ttotal: 958ms\tremaining: 1.9s\n",
      "67:\tlearn: 0.4468152\ttotal: 973ms\tremaining: 1.89s\n",
      "68:\tlearn: 0.4449902\ttotal: 996ms\tremaining: 1.89s\n",
      "69:\tlearn: 0.4426412\ttotal: 1s\tremaining: 1.86s\n",
      "70:\tlearn: 0.4401906\ttotal: 1.02s\tremaining: 1.85s\n",
      "71:\tlearn: 0.4380992\ttotal: 1.03s\tremaining: 1.83s\n",
      "72:\tlearn: 0.4367450\ttotal: 1.04s\tremaining: 1.82s\n",
      "73:\tlearn: 0.4353520\ttotal: 1.06s\tremaining: 1.8s\n",
      "74:\tlearn: 0.4340243\ttotal: 1.07s\tremaining: 1.78s\n",
      "75:\tlearn: 0.4315947\ttotal: 1.08s\tremaining: 1.77s\n",
      "76:\tlearn: 0.4298990\ttotal: 1.11s\tremaining: 1.78s\n",
      "77:\tlearn: 0.4285587\ttotal: 1.14s\tremaining: 1.78s\n",
      "78:\tlearn: 0.4266109\ttotal: 1.14s\tremaining: 1.75s\n",
      "79:\tlearn: 0.4244339\ttotal: 1.15s\tremaining: 1.73s\n",
      "80:\tlearn: 0.4228679\ttotal: 1.16s\tremaining: 1.71s\n",
      "81:\tlearn: 0.4214531\ttotal: 1.17s\tremaining: 1.69s\n",
      "82:\tlearn: 0.4200925\ttotal: 1.18s\tremaining: 1.67s\n",
      "83:\tlearn: 0.4184640\ttotal: 1.19s\tremaining: 1.65s\n",
      "84:\tlearn: 0.4168303\ttotal: 1.2s\tremaining: 1.63s\n",
      "85:\tlearn: 0.4156724\ttotal: 1.21s\tremaining: 1.6s\n",
      "86:\tlearn: 0.4140974\ttotal: 1.22s\tremaining: 1.58s\n",
      "87:\tlearn: 0.4124542\ttotal: 1.23s\tremaining: 1.56s\n",
      "88:\tlearn: 0.4107650\ttotal: 1.24s\tremaining: 1.54s\n",
      "89:\tlearn: 0.4091247\ttotal: 1.25s\tremaining: 1.53s\n",
      "90:\tlearn: 0.4075743\ttotal: 1.26s\tremaining: 1.51s\n",
      "91:\tlearn: 0.4062728\ttotal: 1.28s\tremaining: 1.51s\n",
      "92:\tlearn: 0.4044987\ttotal: 1.3s\tremaining: 1.5s\n",
      "93:\tlearn: 0.4030509\ttotal: 1.33s\tremaining: 1.5s\n",
      "94:\tlearn: 0.4012366\ttotal: 1.35s\tremaining: 1.49s\n",
      "95:\tlearn: 0.3995010\ttotal: 1.36s\tremaining: 1.48s\n",
      "96:\tlearn: 0.3983567\ttotal: 1.38s\tremaining: 1.46s\n",
      "97:\tlearn: 0.3970163\ttotal: 1.39s\tremaining: 1.45s\n",
      "98:\tlearn: 0.3955954\ttotal: 1.41s\tremaining: 1.43s\n",
      "99:\tlearn: 0.3946458\ttotal: 1.42s\tremaining: 1.42s\n",
      "100:\tlearn: 0.3932682\ttotal: 1.44s\tremaining: 1.41s\n",
      "101:\tlearn: 0.3921086\ttotal: 1.46s\tremaining: 1.4s\n",
      "102:\tlearn: 0.3912041\ttotal: 1.47s\tremaining: 1.38s\n",
      "103:\tlearn: 0.3896085\ttotal: 1.5s\tremaining: 1.39s\n",
      "104:\tlearn: 0.3881310\ttotal: 1.52s\tremaining: 1.37s\n",
      "105:\tlearn: 0.3867841\ttotal: 1.53s\tremaining: 1.35s\n",
      "106:\tlearn: 0.3855611\ttotal: 1.54s\tremaining: 1.34s\n",
      "107:\tlearn: 0.3841345\ttotal: 1.55s\tremaining: 1.32s\n",
      "108:\tlearn: 0.3829608\ttotal: 1.56s\tremaining: 1.3s\n",
      "109:\tlearn: 0.3819127\ttotal: 1.57s\tremaining: 1.28s\n",
      "110:\tlearn: 0.3810000\ttotal: 1.58s\tremaining: 1.27s\n",
      "111:\tlearn: 0.3790356\ttotal: 1.59s\tremaining: 1.25s\n",
      "112:\tlearn: 0.3774673\ttotal: 1.6s\tremaining: 1.23s\n",
      "113:\tlearn: 0.3762712\ttotal: 1.62s\tremaining: 1.22s\n",
      "114:\tlearn: 0.3750760\ttotal: 1.63s\tremaining: 1.21s\n",
      "115:\tlearn: 0.3735547\ttotal: 1.64s\tremaining: 1.19s\n",
      "116:\tlearn: 0.3728015\ttotal: 1.65s\tremaining: 1.17s\n",
      "117:\tlearn: 0.3714192\ttotal: 1.66s\tremaining: 1.15s\n",
      "118:\tlearn: 0.3705935\ttotal: 1.68s\tremaining: 1.14s\n",
      "119:\tlearn: 0.3694736\ttotal: 1.69s\tremaining: 1.13s\n",
      "120:\tlearn: 0.3687791\ttotal: 1.7s\tremaining: 1.11s\n",
      "121:\tlearn: 0.3679782\ttotal: 1.71s\tremaining: 1.09s\n",
      "122:\tlearn: 0.3666547\ttotal: 1.72s\tremaining: 1.08s\n",
      "123:\tlearn: 0.3655144\ttotal: 1.73s\tremaining: 1.06s\n",
      "124:\tlearn: 0.3643546\ttotal: 1.74s\tremaining: 1.04s\n",
      "125:\tlearn: 0.3636557\ttotal: 1.75s\tremaining: 1.03s\n",
      "126:\tlearn: 0.3625550\ttotal: 1.76s\tremaining: 1.01s\n",
      "127:\tlearn: 0.3610147\ttotal: 1.78s\tremaining: 1s\n",
      "128:\tlearn: 0.3596348\ttotal: 1.79s\tremaining: 988ms\n",
      "129:\tlearn: 0.3584074\ttotal: 1.81s\tremaining: 974ms\n",
      "130:\tlearn: 0.3569602\ttotal: 1.82s\tremaining: 959ms\n",
      "131:\tlearn: 0.3558913\ttotal: 1.84s\tremaining: 948ms\n",
      "132:\tlearn: 0.3548689\ttotal: 1.85s\tremaining: 933ms\n",
      "133:\tlearn: 0.3533837\ttotal: 1.86s\tremaining: 919ms\n",
      "134:\tlearn: 0.3524619\ttotal: 1.88s\tremaining: 903ms\n",
      "135:\tlearn: 0.3518338\ttotal: 1.89s\tremaining: 888ms\n",
      "136:\tlearn: 0.3505366\ttotal: 1.9s\tremaining: 873ms\n",
      "137:\tlearn: 0.3497723\ttotal: 1.91s\tremaining: 857ms\n",
      "138:\tlearn: 0.3489030\ttotal: 1.92s\tremaining: 841ms\n",
      "139:\tlearn: 0.3482652\ttotal: 1.93s\tremaining: 825ms\n",
      "140:\tlearn: 0.3471165\ttotal: 1.93s\tremaining: 809ms\n",
      "141:\tlearn: 0.3458630\ttotal: 1.94s\tremaining: 794ms\n",
      "142:\tlearn: 0.3445867\ttotal: 1.96s\tremaining: 780ms\n",
      "143:\tlearn: 0.3436773\ttotal: 1.97s\tremaining: 767ms\n",
      "144:\tlearn: 0.3426979\ttotal: 1.98s\tremaining: 753ms\n",
      "145:\tlearn: 0.3417627\ttotal: 2s\tremaining: 739ms\n",
      "146:\tlearn: 0.3407937\ttotal: 2.01s\tremaining: 725ms\n",
      "147:\tlearn: 0.3398191\ttotal: 2.03s\tremaining: 714ms\n",
      "148:\tlearn: 0.3390524\ttotal: 2.04s\tremaining: 700ms\n",
      "149:\tlearn: 0.3381671\ttotal: 2.06s\tremaining: 686ms\n",
      "150:\tlearn: 0.3375138\ttotal: 2.07s\tremaining: 672ms\n",
      "151:\tlearn: 0.3365898\ttotal: 2.08s\tremaining: 657ms\n",
      "152:\tlearn: 0.3358887\ttotal: 2.09s\tremaining: 643ms\n",
      "153:\tlearn: 0.3346492\ttotal: 2.1s\tremaining: 628ms\n",
      "154:\tlearn: 0.3336018\ttotal: 2.11s\tremaining: 613ms\n",
      "155:\tlearn: 0.3330832\ttotal: 2.12s\tremaining: 598ms\n",
      "156:\tlearn: 0.3324238\ttotal: 2.14s\tremaining: 585ms\n",
      "157:\tlearn: 0.3312569\ttotal: 2.15s\tremaining: 572ms\n",
      "158:\tlearn: 0.3299834\ttotal: 2.16s\tremaining: 558ms\n",
      "159:\tlearn: 0.3286908\ttotal: 2.19s\tremaining: 548ms\n",
      "160:\tlearn: 0.3276277\ttotal: 2.2s\tremaining: 533ms\n",
      "161:\tlearn: 0.3267134\ttotal: 2.21s\tremaining: 519ms\n",
      "162:\tlearn: 0.3259380\ttotal: 2.23s\tremaining: 505ms\n",
      "163:\tlearn: 0.3249529\ttotal: 2.24s\tremaining: 491ms\n",
      "164:\tlearn: 0.3241876\ttotal: 2.25s\tremaining: 478ms\n",
      "165:\tlearn: 0.3237797\ttotal: 2.27s\tremaining: 464ms\n",
      "166:\tlearn: 0.3228611\ttotal: 2.28s\tremaining: 451ms\n",
      "167:\tlearn: 0.3218481\ttotal: 2.31s\tremaining: 439ms\n",
      "168:\tlearn: 0.3209571\ttotal: 2.32s\tremaining: 426ms\n",
      "169:\tlearn: 0.3200492\ttotal: 2.34s\tremaining: 413ms\n",
      "170:\tlearn: 0.3189373\ttotal: 2.36s\tremaining: 400ms\n",
      "171:\tlearn: 0.3179033\ttotal: 2.37s\tremaining: 386ms\n",
      "172:\tlearn: 0.3172849\ttotal: 2.38s\tremaining: 372ms\n",
      "173:\tlearn: 0.3166655\ttotal: 2.4s\tremaining: 358ms\n",
      "174:\tlearn: 0.3157718\ttotal: 2.45s\tremaining: 350ms\n",
      "175:\tlearn: 0.3150160\ttotal: 2.47s\tremaining: 337ms\n",
      "176:\tlearn: 0.3142830\ttotal: 2.48s\tremaining: 323ms\n",
      "177:\tlearn: 0.3138662\ttotal: 2.5s\tremaining: 309ms\n",
      "178:\tlearn: 0.3133629\ttotal: 2.53s\tremaining: 297ms\n",
      "179:\tlearn: 0.3125061\ttotal: 2.54s\tremaining: 282ms\n",
      "180:\tlearn: 0.3115252\ttotal: 2.55s\tremaining: 268ms\n",
      "181:\tlearn: 0.3110208\ttotal: 2.56s\tremaining: 254ms\n",
      "182:\tlearn: 0.3105547\ttotal: 2.58s\tremaining: 239ms\n",
      "183:\tlearn: 0.3094534\ttotal: 2.61s\tremaining: 227ms\n",
      "184:\tlearn: 0.3087456\ttotal: 2.62s\tremaining: 213ms\n",
      "185:\tlearn: 0.3079835\ttotal: 2.63s\tremaining: 198ms\n",
      "186:\tlearn: 0.3072245\ttotal: 2.65s\tremaining: 184ms\n",
      "187:\tlearn: 0.3061540\ttotal: 2.66s\tremaining: 170ms\n",
      "188:\tlearn: 0.3054721\ttotal: 2.68s\tremaining: 156ms\n",
      "189:\tlearn: 0.3048467\ttotal: 2.7s\tremaining: 142ms\n",
      "190:\tlearn: 0.3042662\ttotal: 2.71s\tremaining: 128ms\n",
      "191:\tlearn: 0.3037025\ttotal: 2.73s\tremaining: 114ms\n",
      "192:\tlearn: 0.3028928\ttotal: 2.75s\tremaining: 99.7ms\n",
      "193:\tlearn: 0.3020155\ttotal: 2.76s\tremaining: 85.4ms\n",
      "194:\tlearn: 0.3010007\ttotal: 2.77s\tremaining: 71.1ms\n",
      "195:\tlearn: 0.3002253\ttotal: 2.78s\tremaining: 56.8ms\n",
      "196:\tlearn: 0.2999682\ttotal: 2.79s\tremaining: 42.5ms\n",
      "197:\tlearn: 0.2994228\ttotal: 2.81s\tremaining: 28.4ms\n",
      "198:\tlearn: 0.2986712\ttotal: 2.83s\tremaining: 14.2ms\n",
      "199:\tlearn: 0.2980459\ttotal: 2.85s\tremaining: 0us\n"
     ]
    }
   ],
   "source": [
    "cat_tuned = CatBoostClassifier(iterations=cat_cv_model.best_params_.get(\"iterations\"),\n",
    "                               learning_rate=cat_cv_model.best_params_.get(\"learning_rate\"),\n",
    "                               depth=cat_cv_model.best_params_.get(\"depth\"),).fit(X_train, \n",
    "                                                                                  y_train)"
   ]
  },
  {
   "cell_type": "code",
   "execution_count": 36,
   "metadata": {},
   "outputs": [],
   "source": [
    "y_pred = cat_tuned.predict(X_test)"
   ]
  },
  {
   "cell_type": "code",
   "execution_count": 37,
   "metadata": {},
   "outputs": [
    {
     "data": {
      "text/plain": [
       "0.496742636335202"
      ]
     },
     "execution_count": 37,
     "metadata": {},
     "output_type": "execute_result"
    }
   ],
   "source": [
    "RMSE = np.sqrt(mean_squared_error(y_test, y_pred))\n",
    "RMSE"
   ]
  },
  {
   "cell_type": "code",
   "execution_count": 38,
   "metadata": {},
   "outputs": [
    {
     "data": {
      "text/plain": [
       "0.7532467532467533"
      ]
     },
     "execution_count": 38,
     "metadata": {},
     "output_type": "execute_result"
    }
   ],
   "source": [
    "accuracy_score(y_test, y_pred)"
   ]
  },
  {
   "cell_type": "code",
   "execution_count": 39,
   "metadata": {},
   "outputs": [
    {
     "data": {
      "text/plain": [
       "-0.08998344370860956"
      ]
     },
     "execution_count": 39,
     "metadata": {},
     "output_type": "execute_result"
    }
   ],
   "source": [
    "r2_score(y_test, y_pred)"
   ]
  },
  {
   "cell_type": "code",
   "execution_count": 40,
   "metadata": {},
   "outputs": [
    {
     "data": {
      "text/plain": [
       "array([[126,  25],\n",
       "       [ 32,  48]], dtype=int64)"
      ]
     },
     "execution_count": 40,
     "metadata": {},
     "output_type": "execute_result"
    }
   ],
   "source": [
    "confusion_matrix(y_test, y_pred)"
   ]
  },
  {
   "cell_type": "code",
   "execution_count": 41,
   "metadata": {},
   "outputs": [
    {
     "name": "stdout",
     "output_type": "stream",
     "text": [
      "              precision    recall  f1-score   support\n",
      "\n",
      "           0       0.80      0.83      0.82       151\n",
      "           1       0.66      0.60      0.63        80\n",
      "\n",
      "    accuracy                           0.75       231\n",
      "   macro avg       0.73      0.72      0.72       231\n",
      "weighted avg       0.75      0.75      0.75       231\n",
      "\n"
     ]
    }
   ],
   "source": [
    "print(classification_report(y_test, y_pred))"
   ]
  },
  {
   "cell_type": "code",
   "execution_count": 42,
   "metadata": {
    "collapsed": true,
    "jupyter": {
     "outputs_hidden": true
    }
   },
   "outputs": [
    {
     "data": {
      "text/plain": [
       "array([[0.58528183, 0.41471817],\n",
       "       [0.82621096, 0.17378904],\n",
       "       [0.83913573, 0.16086427],\n",
       "       [0.78475871, 0.21524129],\n",
       "       [0.50503697, 0.49496303],\n",
       "       [0.56424302, 0.43575698],\n",
       "       [0.97282589, 0.02717411],\n",
       "       [0.47101894, 0.52898106],\n",
       "       [0.39651853, 0.60348147],\n",
       "       [0.40489928, 0.59510072],\n",
       "       [0.72427099, 0.27572901],\n",
       "       [0.21745864, 0.78254136],\n",
       "       [0.65374602, 0.34625398],\n",
       "       [0.67757209, 0.32242791],\n",
       "       [0.93802104, 0.06197896],\n",
       "       [0.5484709 , 0.4515291 ],\n",
       "       [0.86515372, 0.13484628],\n",
       "       [0.91853016, 0.08146984],\n",
       "       [0.28663905, 0.71336095],\n",
       "       [0.45303532, 0.54696468],\n",
       "       [0.61189497, 0.38810503],\n",
       "       [0.88757254, 0.11242746],\n",
       "       [0.64910214, 0.35089786],\n",
       "       [0.93645929, 0.06354071],\n",
       "       [0.45998697, 0.54001303],\n",
       "       [0.14731801, 0.85268199],\n",
       "       [0.87481986, 0.12518014],\n",
       "       [0.95617994, 0.04382006],\n",
       "       [0.87223213, 0.12776787],\n",
       "       [0.76200091, 0.23799909],\n",
       "       [0.24570749, 0.75429251],\n",
       "       [0.31201077, 0.68798923],\n",
       "       [0.2702961 , 0.7297039 ],\n",
       "       [0.193554  , 0.806446  ],\n",
       "       [0.50538681, 0.49461319],\n",
       "       [0.31993407, 0.68006593],\n",
       "       [0.19278633, 0.80721367],\n",
       "       [0.56752407, 0.43247593],\n",
       "       [0.76871716, 0.23128284],\n",
       "       [0.35744753, 0.64255247],\n",
       "       [0.92586677, 0.07413323],\n",
       "       [0.62197205, 0.37802795],\n",
       "       [0.45378944, 0.54621056],\n",
       "       [0.57204417, 0.42795583],\n",
       "       [0.91872778, 0.08127222],\n",
       "       [0.34718335, 0.65281665],\n",
       "       [0.48552444, 0.51447556],\n",
       "       [0.79467389, 0.20532611],\n",
       "       [0.79954357, 0.20045643],\n",
       "       [0.18081577, 0.81918423],\n",
       "       [0.96152968, 0.03847032],\n",
       "       [0.2879145 , 0.7120855 ],\n",
       "       [0.24850208, 0.75149792],\n",
       "       [0.64713196, 0.35286804],\n",
       "       [0.87914632, 0.12085368],\n",
       "       [0.92886993, 0.07113007],\n",
       "       [0.34289502, 0.65710498],\n",
       "       [0.96010231, 0.03989769],\n",
       "       [0.7216583 , 0.2783417 ],\n",
       "       [0.12975904, 0.87024096],\n",
       "       [0.3399432 , 0.6600568 ],\n",
       "       [0.6931802 , 0.3068198 ],\n",
       "       [0.64739377, 0.35260623],\n",
       "       [0.64239335, 0.35760665],\n",
       "       [0.88721635, 0.11278365],\n",
       "       [0.34861933, 0.65138067],\n",
       "       [0.94967812, 0.05032188],\n",
       "       [0.45332648, 0.54667352],\n",
       "       [0.91893569, 0.08106431],\n",
       "       [0.22845269, 0.77154731],\n",
       "       [0.26429769, 0.73570231],\n",
       "       [0.81754917, 0.18245083],\n",
       "       [0.8245626 , 0.1754374 ],\n",
       "       [0.89817567, 0.10182433],\n",
       "       [0.86443947, 0.13556053],\n",
       "       [0.55290814, 0.44709186],\n",
       "       [0.78132769, 0.21867231],\n",
       "       [0.84004932, 0.15995068],\n",
       "       [0.7893811 , 0.2106189 ],\n",
       "       [0.69531603, 0.30468397],\n",
       "       [0.21715556, 0.78284444],\n",
       "       [0.83503806, 0.16496194],\n",
       "       [0.85287207, 0.14712793],\n",
       "       [0.51337065, 0.48662935],\n",
       "       [0.73910139, 0.26089861],\n",
       "       [0.15555219, 0.84444781],\n",
       "       [0.34665257, 0.65334743],\n",
       "       [0.59436635, 0.40563365],\n",
       "       [0.78143723, 0.21856277],\n",
       "       [0.91786343, 0.08213657],\n",
       "       [0.93772138, 0.06227862],\n",
       "       [0.77449224, 0.22550776],\n",
       "       [0.96208547, 0.03791453],\n",
       "       [0.54044232, 0.45955768],\n",
       "       [0.55724984, 0.44275016],\n",
       "       [0.39956952, 0.60043048],\n",
       "       [0.53083896, 0.46916104],\n",
       "       [0.87532699, 0.12467301],\n",
       "       [0.23945255, 0.76054745],\n",
       "       [0.75828574, 0.24171426],\n",
       "       [0.1789279 , 0.8210721 ],\n",
       "       [0.88833762, 0.11166238],\n",
       "       [0.50420734, 0.49579266],\n",
       "       [0.49371761, 0.50628239],\n",
       "       [0.24528508, 0.75471492],\n",
       "       [0.75837696, 0.24162304],\n",
       "       [0.77466465, 0.22533535],\n",
       "       [0.19516478, 0.80483522],\n",
       "       [0.83306007, 0.16693993],\n",
       "       [0.34495474, 0.65504526],\n",
       "       [0.9262364 , 0.0737636 ],\n",
       "       [0.47169019, 0.52830981],\n",
       "       [0.86581425, 0.13418575],\n",
       "       [0.24981604, 0.75018396],\n",
       "       [0.69281875, 0.30718125],\n",
       "       [0.62237849, 0.37762151],\n",
       "       [0.24804162, 0.75195838],\n",
       "       [0.65423884, 0.34576116],\n",
       "       [0.92980551, 0.07019449],\n",
       "       [0.52393039, 0.47606961],\n",
       "       [0.95911893, 0.04088107],\n",
       "       [0.78511592, 0.21488408],\n",
       "       [0.7207999 , 0.2792001 ],\n",
       "       [0.95315009, 0.04684991],\n",
       "       [0.71635183, 0.28364817],\n",
       "       [0.56444926, 0.43555074],\n",
       "       [0.81084241, 0.18915759],\n",
       "       [0.24102087, 0.75897913],\n",
       "       [0.27822972, 0.72177028],\n",
       "       [0.26755528, 0.73244472],\n",
       "       [0.29324422, 0.70675578],\n",
       "       [0.26060005, 0.73939995],\n",
       "       [0.91199533, 0.08800467],\n",
       "       [0.58103183, 0.41896817],\n",
       "       [0.2373442 , 0.7626558 ],\n",
       "       [0.68784369, 0.31215631],\n",
       "       [0.79849442, 0.20150558],\n",
       "       [0.29668515, 0.70331485],\n",
       "       [0.25352155, 0.74647845],\n",
       "       [0.96927474, 0.03072526],\n",
       "       [0.92972617, 0.07027383],\n",
       "       [0.96785662, 0.03214338],\n",
       "       [0.75279239, 0.24720761],\n",
       "       [0.4512977 , 0.5487023 ],\n",
       "       [0.84666945, 0.15333055],\n",
       "       [0.52777293, 0.47222707],\n",
       "       [0.80574159, 0.19425841],\n",
       "       [0.97242397, 0.02757603],\n",
       "       [0.63116947, 0.36883053],\n",
       "       [0.22192052, 0.77807948],\n",
       "       [0.89471705, 0.10528295],\n",
       "       [0.61984373, 0.38015627],\n",
       "       [0.61827763, 0.38172237],\n",
       "       [0.54843094, 0.45156906],\n",
       "       [0.96376809, 0.03623191],\n",
       "       [0.61493069, 0.38506931],\n",
       "       [0.70437427, 0.29562573],\n",
       "       [0.46803382, 0.53196618],\n",
       "       [0.42034659, 0.57965341],\n",
       "       [0.85214168, 0.14785832],\n",
       "       [0.58052386, 0.41947614],\n",
       "       [0.3413831 , 0.6586169 ],\n",
       "       [0.77135606, 0.22864394],\n",
       "       [0.97198241, 0.02801759],\n",
       "       [0.84371608, 0.15628392],\n",
       "       [0.16075051, 0.83924949],\n",
       "       [0.95354301, 0.04645699],\n",
       "       [0.67217909, 0.32782091],\n",
       "       [0.16189481, 0.83810519],\n",
       "       [0.43568668, 0.56431332],\n",
       "       [0.42364612, 0.57635388],\n",
       "       [0.85507281, 0.14492719],\n",
       "       [0.47285272, 0.52714728],\n",
       "       [0.56716598, 0.43283402],\n",
       "       [0.24480245, 0.75519755],\n",
       "       [0.87100231, 0.12899769],\n",
       "       [0.67966394, 0.32033606],\n",
       "       [0.50772228, 0.49227772],\n",
       "       [0.59205236, 0.40794764],\n",
       "       [0.55011269, 0.44988731],\n",
       "       [0.60025681, 0.39974319],\n",
       "       [0.53872612, 0.46127388],\n",
       "       [0.62524738, 0.37475262],\n",
       "       [0.32407169, 0.67592831],\n",
       "       [0.449349  , 0.550651  ],\n",
       "       [0.89743181, 0.10256819],\n",
       "       [0.91498033, 0.08501967],\n",
       "       [0.85008974, 0.14991026],\n",
       "       [0.39836733, 0.60163267],\n",
       "       [0.48531385, 0.51468615],\n",
       "       [0.91490718, 0.08509282],\n",
       "       [0.92259635, 0.07740365],\n",
       "       [0.27603223, 0.72396777],\n",
       "       [0.72922867, 0.27077133],\n",
       "       [0.75658416, 0.24341584],\n",
       "       [0.91105915, 0.08894085],\n",
       "       [0.93903044, 0.06096956],\n",
       "       [0.95965482, 0.04034518],\n",
       "       [0.80061192, 0.19938808],\n",
       "       [0.23001205, 0.76998795],\n",
       "       [0.70393664, 0.29606336],\n",
       "       [0.89084056, 0.10915944],\n",
       "       [0.62288962, 0.37711038],\n",
       "       [0.76218764, 0.23781236],\n",
       "       [0.34337926, 0.65662074],\n",
       "       [0.90544199, 0.09455801],\n",
       "       [0.8834526 , 0.1165474 ],\n",
       "       [0.70179711, 0.29820289],\n",
       "       [0.1788002 , 0.8211998 ],\n",
       "       [0.56833975, 0.43166025],\n",
       "       [0.60408517, 0.39591483],\n",
       "       [0.77190404, 0.22809596],\n",
       "       [0.85931556, 0.14068444],\n",
       "       [0.83514022, 0.16485978],\n",
       "       [0.39913048, 0.60086952],\n",
       "       [0.9120807 , 0.0879193 ],\n",
       "       [0.29680387, 0.70319613],\n",
       "       [0.53658743, 0.46341257],\n",
       "       [0.60426787, 0.39573213],\n",
       "       [0.12284346, 0.87715654],\n",
       "       [0.39184818, 0.60815182],\n",
       "       [0.719678  , 0.280322  ],\n",
       "       [0.94326059, 0.05673941],\n",
       "       [0.82631975, 0.17368025],\n",
       "       [0.87655365, 0.12344635],\n",
       "       [0.27505688, 0.72494312],\n",
       "       [0.72913772, 0.27086228],\n",
       "       [0.66973935, 0.33026065],\n",
       "       [0.64611266, 0.35388734],\n",
       "       [0.72813041, 0.27186959],\n",
       "       [0.81556641, 0.18443359]])"
      ]
     },
     "execution_count": 42,
     "metadata": {},
     "output_type": "execute_result"
    }
   ],
   "source": [
    "cat_tuned.predict_proba(X_test)"
   ]
  },
  {
   "cell_type": "code",
   "execution_count": 46,
   "metadata": {},
   "outputs": [
    {
     "data": {
      "image/png": "[encoded data removed]",
      "text/plain": [
       "<Figure size 720x720 with 1 Axes>"
      ]
     },
     "metadata": {
      "needs_background": "light"
     },
     "output_type": "display_data"
    }
   ],
   "source": [
    "logit_roc_auc = roc_auc_score(y_test, cat_tuned.predict(X_test))\n",
    "fpr, tpr, thresholds = roc_curve(y_test, cat_tuned.predict_proba(X_test)[:,1])\n",
    "plt.figure(figsize=(10, 10))\n",
    "plt.plot(fpr, tpr, label=\"AUC (area = %.2f)\" % logit_roc_auc)\n",
    "plt.plot([0, 1], [0, 1], \"r--\")\n",
    "plt.xlim([.0, 1.0])\n",
    "plt.ylim([.0, 1.05])\n",
    "plt.xlabel(\"False Positive Rate\")\n",
    "plt.ylabel(\"True Positive Rate\")\n",
    "plt.title(\"Receiver Operating Characteristic\")\n",
    "plt.legend(loc=\"lower right\")\n",
    "plt.savefig(\"GBM_ROC\")\n",
    "plt.grid(1)\n",
    "plt.show()"
   ]
  },
  {
   "cell_type": "code",
   "execution_count": 47,
   "metadata": {},
   "outputs": [
    {
     "data": {
      "image/png": "[encoded data removed]",
      "text/plain": [
       "<Figure size 1440x360 with 1 Axes>"
      ]
     },
     "metadata": {
      "needs_background": "light"
     },
     "output_type": "display_data"
    }
   ],
   "source": [
    "feature_imp = pd.Series(cat_tuned.feature_importances_,\n",
    "                        index=X_train.columns).sort_values(ascending=False)\n",
    "plt.figure(figsize=(20,5))\n",
    "sns.barplot(x=feature_imp, y=feature_imp.index)\n",
    "plt.xlabel(\"Değişken Önem Skorları\")\n",
    "plt.ylabel(\"Değişkenler\")\n",
    "plt.title(\"Değişken Önem Düzeyleri\");"
   ]
  },
  {
   "cell_type": "code",
   "execution_count": null,
   "metadata": {},
   "outputs": [],
   "source": []
  }
 ],
 "metadata": {
  "kernelspec": {
   "display_name": "Python 3",
   "language": "python",
   "name": "python3"
  },
  "language_info": {
   "codemirror_mode": {
    "name": "ipython",
    "version": 3
   },
   "file_extension": ".py",
   "mimetype": "text/x-python",
   "name": "python",
   "nbconvert_exporter": "python",
   "pygments_lexer": "ipython3",
   "version": "3.8.3"
  }
 },
 "nbformat": 4,
 "nbformat_minor": 4
}
